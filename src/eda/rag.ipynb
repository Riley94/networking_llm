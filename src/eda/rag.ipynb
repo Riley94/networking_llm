{
 "cells": [
  {
   "cell_type": "code",
   "execution_count": 73,
   "metadata": {},
   "outputs": [],
   "source": [
    "import pandas as pd\n",
    "import numpy as np\n",
    "import matplotlib.pyplot as plt\n",
    "import seaborn as sns\n",
    "from tqdm import tqdm\n",
    "from sentence_transformers import SentenceTransformer\n",
    "import chromadb\n",
    "from chromadb import Settings\n",
    "import json\n",
    "import os\n",
    "from collections import Counter\n",
    "import kagglehub\n",
    "\n",
    "from data_loading.load_luflow import get_luflow\n",
    "from data_loading.tools import reduce_mem_usage\n",
    "\n",
    "vector_db_path = os.path.join(os.getcwd(), os.pardir, os.pardir, \"data/vector_db\")\n",
    "client = chromadb.PersistentClient(path=vector_db_path, settings=Settings(allow_reset=True, \n",
    "                                                                          anonymized_telemetry=False))\n",
    "\n",
    "use_luflow = False\n",
    "use_uq = True\n",
    "collection_name = \"packet_data\""
   ]
  },
  {
   "cell_type": "code",
   "execution_count": 92,
   "metadata": {},
   "outputs": [
    {
     "name": "stdout",
     "output_type": "stream",
     "text": [
      "Memory usage after optimization is: 33.76 MB\n",
      "Decreased by 51.9%\n"
     ]
    },
    {
     "name": "stderr",
     "output_type": "stream",
     "text": [
      "/home/riley/base/lib/python3.10/site-packages/pandas/io/formats/format.py:1458: RuntimeWarning: overflow encountered in cast\n",
      "  has_large_values = (abs_vals > 1e6).any()\n",
      "/home/riley/base/lib/python3.10/site-packages/pandas/io/formats/format.py:1458: RuntimeWarning: overflow encountered in cast\n",
      "  has_large_values = (abs_vals > 1e6).any()\n"
     ]
    },
    {
     "data": {
      "text/html": [
       "<div>\n",
       "<style scoped>\n",
       "    .dataframe tbody tr th:only-of-type {\n",
       "        vertical-align: middle;\n",
       "    }\n",
       "\n",
       "    .dataframe tbody tr th {\n",
       "        vertical-align: top;\n",
       "    }\n",
       "\n",
       "    .dataframe thead th {\n",
       "        text-align: right;\n",
       "    }\n",
       "</style>\n",
       "<table border=\"1\" class=\"dataframe\">\n",
       "  <thead>\n",
       "    <tr style=\"text-align: right;\">\n",
       "      <th></th>\n",
       "      <th>IPV4_SRC_ADDR</th>\n",
       "      <th>L4_SRC_PORT</th>\n",
       "      <th>IPV4_DST_ADDR</th>\n",
       "      <th>L4_DST_PORT</th>\n",
       "      <th>PROTOCOL</th>\n",
       "      <th>L7_PROTO</th>\n",
       "      <th>IN_BYTES</th>\n",
       "      <th>IN_PKTS</th>\n",
       "      <th>OUT_BYTES</th>\n",
       "      <th>OUT_PKTS</th>\n",
       "      <th>...</th>\n",
       "      <th>TCP_WIN_MAX_OUT</th>\n",
       "      <th>ICMP_TYPE</th>\n",
       "      <th>ICMP_IPV4_TYPE</th>\n",
       "      <th>DNS_QUERY_ID</th>\n",
       "      <th>DNS_QUERY_TYPE</th>\n",
       "      <th>DNS_TTL_ANSWER</th>\n",
       "      <th>FTP_COMMAND_RET_CODE</th>\n",
       "      <th>Label</th>\n",
       "      <th>Attack</th>\n",
       "      <th>Dataset</th>\n",
       "    </tr>\n",
       "  </thead>\n",
       "  <tbody>\n",
       "    <tr>\n",
       "      <th>0</th>\n",
       "      <td>192.168.100.148</td>\n",
       "      <td>65389</td>\n",
       "      <td>192.168.100.7</td>\n",
       "      <td>80</td>\n",
       "      <td>6</td>\n",
       "      <td>7.0</td>\n",
       "      <td>420</td>\n",
       "      <td>3</td>\n",
       "      <td>0</td>\n",
       "      <td>0</td>\n",
       "      <td>...</td>\n",
       "      <td>0</td>\n",
       "      <td>35840</td>\n",
       "      <td>140</td>\n",
       "      <td>0</td>\n",
       "      <td>0</td>\n",
       "      <td>0</td>\n",
       "      <td>0.0</td>\n",
       "      <td>1</td>\n",
       "      <td>DoS</td>\n",
       "      <td>NF-BoT-IoT-v2</td>\n",
       "    </tr>\n",
       "    <tr>\n",
       "      <th>1</th>\n",
       "      <td>192.168.100.148</td>\n",
       "      <td>11154</td>\n",
       "      <td>192.168.100.5</td>\n",
       "      <td>80</td>\n",
       "      <td>6</td>\n",
       "      <td>7.0</td>\n",
       "      <td>280</td>\n",
       "      <td>2</td>\n",
       "      <td>40</td>\n",
       "      <td>1</td>\n",
       "      <td>...</td>\n",
       "      <td>0</td>\n",
       "      <td>0</td>\n",
       "      <td>0</td>\n",
       "      <td>0</td>\n",
       "      <td>0</td>\n",
       "      <td>0</td>\n",
       "      <td>0.0</td>\n",
       "      <td>1</td>\n",
       "      <td>DoS</td>\n",
       "      <td>NF-BoT-IoT-v2</td>\n",
       "    </tr>\n",
       "    <tr>\n",
       "      <th>2</th>\n",
       "      <td>192.168.1.31</td>\n",
       "      <td>42062</td>\n",
       "      <td>192.168.1.79</td>\n",
       "      <td>1041</td>\n",
       "      <td>6</td>\n",
       "      <td>0.0</td>\n",
       "      <td>44</td>\n",
       "      <td>1</td>\n",
       "      <td>40</td>\n",
       "      <td>1</td>\n",
       "      <td>...</td>\n",
       "      <td>0</td>\n",
       "      <td>0</td>\n",
       "      <td>0</td>\n",
       "      <td>0</td>\n",
       "      <td>0</td>\n",
       "      <td>0</td>\n",
       "      <td>0.0</td>\n",
       "      <td>0</td>\n",
       "      <td>Benign</td>\n",
       "      <td>NF-ToN-IoT-v2</td>\n",
       "    </tr>\n",
       "    <tr>\n",
       "      <th>3</th>\n",
       "      <td>192.168.1.34</td>\n",
       "      <td>46849</td>\n",
       "      <td>192.168.1.79</td>\n",
       "      <td>9110</td>\n",
       "      <td>6</td>\n",
       "      <td>0.0</td>\n",
       "      <td>44</td>\n",
       "      <td>1</td>\n",
       "      <td>40</td>\n",
       "      <td>1</td>\n",
       "      <td>...</td>\n",
       "      <td>0</td>\n",
       "      <td>0</td>\n",
       "      <td>0</td>\n",
       "      <td>0</td>\n",
       "      <td>0</td>\n",
       "      <td>0</td>\n",
       "      <td>0.0</td>\n",
       "      <td>0</td>\n",
       "      <td>Benign</td>\n",
       "      <td>NF-ToN-IoT-v2</td>\n",
       "    </tr>\n",
       "    <tr>\n",
       "      <th>4</th>\n",
       "      <td>192.168.1.30</td>\n",
       "      <td>50360</td>\n",
       "      <td>192.168.1.152</td>\n",
       "      <td>1084</td>\n",
       "      <td>6</td>\n",
       "      <td>0.0</td>\n",
       "      <td>44</td>\n",
       "      <td>1</td>\n",
       "      <td>40</td>\n",
       "      <td>1</td>\n",
       "      <td>...</td>\n",
       "      <td>0</td>\n",
       "      <td>0</td>\n",
       "      <td>0</td>\n",
       "      <td>0</td>\n",
       "      <td>0</td>\n",
       "      <td>0</td>\n",
       "      <td>0.0</td>\n",
       "      <td>0</td>\n",
       "      <td>Benign</td>\n",
       "      <td>NF-ToN-IoT-v2</td>\n",
       "    </tr>\n",
       "  </tbody>\n",
       "</table>\n",
       "<p>5 rows × 46 columns</p>\n",
       "</div>"
      ],
      "text/plain": [
       "     IPV4_SRC_ADDR  L4_SRC_PORT  IPV4_DST_ADDR  L4_DST_PORT  PROTOCOL  \\\n",
       "0  192.168.100.148        65389  192.168.100.7           80         6   \n",
       "1  192.168.100.148        11154  192.168.100.5           80         6   \n",
       "2     192.168.1.31        42062   192.168.1.79         1041         6   \n",
       "3     192.168.1.34        46849   192.168.1.79         9110         6   \n",
       "4     192.168.1.30        50360  192.168.1.152         1084         6   \n",
       "\n",
       "   L7_PROTO  IN_BYTES  IN_PKTS  OUT_BYTES  OUT_PKTS  ...  TCP_WIN_MAX_OUT  \\\n",
       "0       7.0       420        3          0         0  ...                0   \n",
       "1       7.0       280        2         40         1  ...                0   \n",
       "2       0.0        44        1         40         1  ...                0   \n",
       "3       0.0        44        1         40         1  ...                0   \n",
       "4       0.0        44        1         40         1  ...                0   \n",
       "\n",
       "   ICMP_TYPE  ICMP_IPV4_TYPE  DNS_QUERY_ID  DNS_QUERY_TYPE  DNS_TTL_ANSWER  \\\n",
       "0      35840             140             0               0               0   \n",
       "1          0               0             0               0               0   \n",
       "2          0               0             0               0               0   \n",
       "3          0               0             0               0               0   \n",
       "4          0               0             0               0               0   \n",
       "\n",
       "   FTP_COMMAND_RET_CODE  Label  Attack        Dataset  \n",
       "0                   0.0      1     DoS  NF-BoT-IoT-v2  \n",
       "1                   0.0      1     DoS  NF-BoT-IoT-v2  \n",
       "2                   0.0      0  Benign  NF-ToN-IoT-v2  \n",
       "3                   0.0      0  Benign  NF-ToN-IoT-v2  \n",
       "4                   0.0      0  Benign  NF-ToN-IoT-v2  \n",
       "\n",
       "[5 rows x 46 columns]"
      ]
     },
     "execution_count": 92,
     "metadata": {},
     "output_type": "execute_result"
    }
   ],
   "source": [
    "if use_luflow:\n",
    "    data = get_luflow(raw=True)\n",
    "else:\n",
    "    # Path to the cached dataset\n",
    "    cache_path = os.path.expanduser(\"~/.cache/kagglehub/datasets\")\n",
    "    data_path = os.path.join(cache_path, \"aryashah2k/nfuqnidsv2-network-intrusion-detection-dataset/versions/1\")\n",
    "\n",
    "    if not os.path.exists(data_path):\n",
    "        # Download latest version\n",
    "        data_path = kagglehub.dataset_download(\"aryashah2k/nfuqnidsv2-network-intrusion-detection-dataset\")\n",
    "    \n",
    "    data = pd.read_csv(os.path.join(data_path, \"NF-UQ-NIDS-v2.csv\"), nrows=200_000)\n",
    "\n",
    "data = reduce_mem_usage(data)\n",
    "data.head()"
   ]
  },
  {
   "cell_type": "code",
   "execution_count": 75,
   "metadata": {},
   "outputs": [
    {
     "data": {
      "text/plain": [
       "Attack\n",
       "Benign            24793\n",
       "DDoS              21491\n",
       "DoS               17659\n",
       "scanning           3694\n",
       "Reconnaissance     2594\n",
       "xss                2426\n",
       "password           1129\n",
       "injection           714\n",
       "Bot                 148\n",
       "Brute Force         148\n",
       "Infilteration       122\n",
       "Exploits             26\n",
       "Fuzzers              18\n",
       "Backdoor             17\n",
       "Generic              13\n",
       "mitm                  3\n",
       "Shellcode             2\n",
       "Theft                 1\n",
       "Analysis              1\n",
       "ransomware            1\n",
       "Name: count, dtype: int64"
      ]
     },
     "execution_count": 75,
     "metadata": {},
     "output_type": "execute_result"
    }
   ],
   "source": [
    "data['Attack'].value_counts()"
   ]
  },
  {
   "cell_type": "code",
   "execution_count": 62,
   "metadata": {},
   "outputs": [
    {
     "data": {
      "text/plain": [
       "Index(['IPV4_SRC_ADDR', 'L4_SRC_PORT', 'IPV4_DST_ADDR', 'L4_DST_PORT',\n",
       "       'PROTOCOL', 'L7_PROTO', 'IN_BYTES', 'IN_PKTS', 'OUT_BYTES', 'OUT_PKTS',\n",
       "       'TCP_FLAGS', 'CLIENT_TCP_FLAGS', 'SERVER_TCP_FLAGS',\n",
       "       'FLOW_DURATION_MILLISECONDS', 'DURATION_IN', 'DURATION_OUT', 'MIN_TTL',\n",
       "       'MAX_TTL', 'LONGEST_FLOW_PKT', 'SHORTEST_FLOW_PKT', 'MIN_IP_PKT_LEN',\n",
       "       'MAX_IP_PKT_LEN', 'SRC_TO_DST_SECOND_BYTES', 'DST_TO_SRC_SECOND_BYTES',\n",
       "       'RETRANSMITTED_IN_BYTES', 'RETRANSMITTED_IN_PKTS',\n",
       "       'RETRANSMITTED_OUT_BYTES', 'RETRANSMITTED_OUT_PKTS',\n",
       "       'SRC_TO_DST_AVG_THROUGHPUT', 'DST_TO_SRC_AVG_THROUGHPUT',\n",
       "       'NUM_PKTS_UP_TO_128_BYTES', 'NUM_PKTS_128_TO_256_BYTES',\n",
       "       'NUM_PKTS_256_TO_512_BYTES', 'NUM_PKTS_512_TO_1024_BYTES',\n",
       "       'NUM_PKTS_1024_TO_1514_BYTES', 'TCP_WIN_MAX_IN', 'TCP_WIN_MAX_OUT',\n",
       "       'ICMP_TYPE', 'ICMP_IPV4_TYPE', 'DNS_QUERY_ID', 'DNS_QUERY_TYPE',\n",
       "       'DNS_TTL_ANSWER', 'FTP_COMMAND_RET_CODE', 'Label', 'Attack', 'Dataset'],\n",
       "      dtype='object')"
      ]
     },
     "execution_count": 62,
     "metadata": {},
     "output_type": "execute_result"
    }
   ],
   "source": [
    "data.columns"
   ]
  },
  {
   "cell_type": "code",
   "execution_count": 76,
   "metadata": {},
   "outputs": [],
   "source": [
    "def prepare_packet_documents_luflow(df):\n",
    "    documents = []\n",
    "    \n",
    "    print(\"Preparing packet documents...\")\n",
    "    for idx, row in tqdm(df.iterrows(), total=len(df)):\n",
    "        # Create a structured text representation of each flow\n",
    "        doc_parts = []\n",
    "        doc_parts.append(f\"Flow ID: {idx}\")\n",
    "        \n",
    "        # Basic flow metrics\n",
    "        doc_parts.append(f\"Average IPT: {row.get('avg_ipt', 'unknown')}\")\n",
    "        doc_parts.append(f\"Bytes In: {row.get('bytes_in', 'unknown')}\")\n",
    "        doc_parts.append(f\"Bytes Out: {row.get('bytes_out', 'unknown')}\")\n",
    "        \n",
    "        # Connection details\n",
    "        doc_parts.append(f\"Connection: {row.get('src_ip', 'unknown')}:{row.get('src_port', 'unknown')} → {row.get('dest_ip', 'unknown')}:{row.get('dest_port', 'unknown')}\")\n",
    "        \n",
    "        # Protocol information\n",
    "        doc_parts.append(f\"Protocol: {row.get('proto', 'unknown')}\")\n",
    "        \n",
    "        # Packet counts\n",
    "        doc_parts.append(f\"Packets In: {row.get('num_pkts_in', 'unknown')}\")\n",
    "        doc_parts.append(f\"Packets Out: {row.get('num_pkts_out', 'unknown')}\")\n",
    "        \n",
    "        # Entropy and statistical features\n",
    "        doc_parts.append(f\"Entropy: {row.get('entropy', 'unknown')}\")\n",
    "        doc_parts.append(f\"Total Entropy: {row.get('total_entropy', 'unknown')}\")\n",
    "        \n",
    "        # Timing information\n",
    "        doc_parts.append(f\"Start Time: {row.get('time_start', 'unknown')}\")\n",
    "        doc_parts.append(f\"End Time: {row.get('time_end', 'unknown')}\")\n",
    "        doc_parts.append(f\"Duration: {row.get('duration', 'unknown')}\")\n",
    "        \n",
    "        # Label and temporal context\n",
    "        doc_parts.append(f\"Label: {row.get('label', 'unknown')}\")\n",
    "        doc_parts.append(f\"Date: {row.get('Year', 'unknown')}-{row.get('Month', 'unknown')}-{row.get('Day', 'unknown')}\")\n",
    "        \n",
    "        # Combine all parts into a single document\n",
    "        document = \"\\n\".join(doc_parts)\n",
    "        \n",
    "        # Store the document with its metadata\n",
    "        documents.append({\n",
    "            \"id\": idx, \n",
    "            \"content\": document, \n",
    "            \"metadata\": {\n",
    "                \"avg_ipt\": row.get('avg_ipt', 0),\n",
    "                \"bytes_in\": row.get('bytes_in', 0),\n",
    "                \"bytes_out\": row.get('bytes_out', 0),\n",
    "                \"dest_ip\": row.get('dest_ip', ''),\n",
    "                \"dest_port\": row.get('dest_port', 0),\n",
    "                \"entropy\": row.get('entropy', 0),\n",
    "                \"num_pkts_out\": row.get('num_pkts_out', 0),\n",
    "                \"num_pkts_in\": row.get('num_pkts_in', 0),\n",
    "                \"proto\": row.get('proto', 0),\n",
    "                \"src_ip\": row.get('src_ip', ''),\n",
    "                \"src_port\": row.get('src_port', 0),\n",
    "                \"time_end\": row.get('time_end', 0),\n",
    "                \"time_start\": row.get('time_start', 0),\n",
    "                \"total_entropy\": row.get('total_entropy', 0),\n",
    "                \"label\": row.get('label', 0),\n",
    "                \"duration\": row.get('duration', 0),\n",
    "                \"year\": row.get('Year', 0),\n",
    "                \"month\": row.get('Month', 0),\n",
    "                \"day\": row.get('Day', 0)\n",
    "            }\n",
    "        })\n",
    "    \n",
    "    return documents"
   ]
  },
  {
   "cell_type": "code",
   "execution_count": 77,
   "metadata": {},
   "outputs": [],
   "source": [
    "def prepare_packet_documents_uq(df):\n",
    "    documents = []\n",
    "    \n",
    "    for idx, row in df.iterrows():\n",
    "        # Create a structured text representation of each flow\n",
    "        doc_parts = []\n",
    "        doc_parts.append(f\"Flow ID: {idx}\")\n",
    "        \n",
    "        # Connection details\n",
    "        doc_parts.append(f\"Connection: {row.get('IPV4_SRC_ADDR', 'unknown')}:{row.get('L4_SRC_PORT', 'unknown')} → {row.get('IPV4_DST_ADDR', 'unknown')}:{row.get('L4_DST_PORT', 'unknown')}\")\n",
    "        \n",
    "        # Protocol information\n",
    "        doc_parts.append(f\"Protocol: {row.get('PROTOCOL', 'unknown')} (L7: {row.get('L7_PROTO', 'unknown')})\")\n",
    "        \n",
    "        # Volume metrics\n",
    "        doc_parts.append(f\"Traffic Volume: {row.get('IN_BYTES', 0) + row.get('OUT_BYTES', 0)} bytes total ({row.get('IN_PKTS', 0) + row.get('OUT_PKTS', 0)} packets)\")\n",
    "        doc_parts.append(f\"Inbound: {row.get('IN_BYTES', 0)} bytes in {row.get('IN_PKTS', 0)} packets\")\n",
    "        doc_parts.append(f\"Outbound: {row.get('OUT_BYTES', 0)} bytes in {row.get('OUT_PKTS', 0)} packets\")\n",
    "        \n",
    "        # TCP specific information\n",
    "        if row.get('PROTOCOL') == 6:  # TCP\n",
    "            doc_parts.append(f\"TCP Flags: {row.get('TCP_FLAGS', 'unknown')}\")\n",
    "            doc_parts.append(f\"Client TCP Flags: {row.get('CLIENT_TCP_FLAGS', 'unknown')}\")\n",
    "            doc_parts.append(f\"Server TCP Flags: {row.get('SERVER_TCP_FLAGS', 'unknown')}\")\n",
    "            doc_parts.append(f\"TCP Window Max (In/Out): {row.get('TCP_WIN_MAX_IN', 'unknown')}/{row.get('TCP_WIN_MAX_OUT', 'unknown')}\")\n",
    "            \n",
    "            # Retransmission stats\n",
    "            doc_parts.append(f\"Retransmissions: {row.get('RETRANSMITTED_IN_PKTS', 0) + row.get('RETRANSMITTED_OUT_PKTS', 0)} packets ({row.get('RETRANSMITTED_IN_BYTES', 0) + row.get('RETRANSMITTED_OUT_BYTES', 0)} bytes)\")\n",
    "        \n",
    "        # ICMP specific information\n",
    "        if row.get('PROTOCOL') == 1:  # ICMP\n",
    "            doc_parts.append(f\"ICMP Type: {row.get('ICMP_TYPE', 'unknown')}\")\n",
    "            doc_parts.append(f\"ICMP IPv4 Type: {row.get('ICMP_IPV4_TYPE', 'unknown')}\")\n",
    "        \n",
    "        # DNS specific information\n",
    "        if row.get('DNS_QUERY_ID') is not None:\n",
    "            doc_parts.append(f\"DNS Query ID: {row.get('DNS_QUERY_ID', 'unknown')}\")\n",
    "            doc_parts.append(f\"DNS Query Type: {row.get('DNS_QUERY_TYPE', 'unknown')}\")\n",
    "            doc_parts.append(f\"DNS TTL Answer: {row.get('DNS_TTL_ANSWER', 'unknown')}\")\n",
    "        \n",
    "        # FTP specific information\n",
    "        if row.get('FTP_COMMAND_RET_CODE') is not None:\n",
    "            doc_parts.append(f\"FTP Return Code: {row.get('FTP_COMMAND_RET_CODE', 'unknown')}\")\n",
    "        \n",
    "        # Timing information\n",
    "        doc_parts.append(f\"Flow Duration: {row.get('FLOW_DURATION_MILLISECONDS', 'unknown')} ms\")\n",
    "        doc_parts.append(f\"Duration In/Out: {row.get('DURATION_IN', 'unknown')}/{row.get('DURATION_OUT', 'unknown')}\")\n",
    "        \n",
    "        # Throughput\n",
    "        doc_parts.append(f\"Throughput Client→Server: {row.get('SRC_TO_DST_AVG_THROUGHPUT', 'unknown')} bytes/s\")\n",
    "        doc_parts.append(f\"Throughput Server→Client: {row.get('DST_TO_SRC_AVG_THROUGHPUT', 'unknown')} bytes/s\")\n",
    "        \n",
    "        # Packet size distribution\n",
    "        doc_parts.append(\"Packet Size Distribution:\")\n",
    "        doc_parts.append(f\"  ≤128 bytes: {row.get('NUM_PKTS_UP_TO_128_BYTES', 0)} packets\")\n",
    "        doc_parts.append(f\"  128-256 bytes: {row.get('NUM_PKTS_128_TO_256_BYTES', 0)} packets\")\n",
    "        doc_parts.append(f\"  256-512 bytes: {row.get('NUM_PKTS_256_TO_512_BYTES', 0)} packets\")\n",
    "        doc_parts.append(f\"  512-1024 bytes: {row.get('NUM_PKTS_512_TO_1024_BYTES', 0)} packets\")\n",
    "        doc_parts.append(f\"  1024-1514 bytes: {row.get('NUM_PKTS_1024_TO_1514_BYTES', 0)} packets\")\n",
    "        \n",
    "        # TTL and packet lengths\n",
    "        doc_parts.append(f\"TTL Range: {row.get('MIN_TTL', 'unknown')}-{row.get('MAX_TTL', 'unknown')}\")\n",
    "        doc_parts.append(f\"Packet Length Range: {row.get('MIN_IP_PKT_LEN', 'unknown')}-{row.get('MAX_IP_PKT_LEN', 'unknown')}\")\n",
    "        doc_parts.append(f\"Shortest/Longest Packet: {row.get('SHORTEST_FLOW_PKT', 'unknown')}/{row.get('LONGEST_FLOW_PKT', 'unknown')}\")\n",
    "        \n",
    "        # Classification information\n",
    "        if 'Label' in row:\n",
    "            doc_parts.append(f\"Label: {row.get('Label', 'unknown')}\")\n",
    "        if 'Attack' in row:\n",
    "            doc_parts.append(f\"Attack: {row.get('Attack', 'unknown')}\")\n",
    "        if 'Dataset' in row:\n",
    "            doc_parts.append(f\"Dataset: {row.get('Dataset', 'unknown')}\")\n",
    "        \n",
    "        # Combine all parts into a single document\n",
    "        document = \"\\n\".join(doc_parts)\n",
    "        \n",
    "        # Store the document with its metadata\n",
    "        # Convert metadata to appropriate types to avoid issues\n",
    "        metadata = {}\n",
    "        for col in row.index:\n",
    "            value = row.get(col)\n",
    "            # Handle NaN values and convert to basic types that ChromaDB can handle\n",
    "            if pd.isna(value):\n",
    "                continue\n",
    "            elif isinstance(value, (int, float, str, bool)):\n",
    "                metadata[col] = value\n",
    "            else:\n",
    "                # Convert other types to strings\n",
    "                metadata[col] = str(value)\n",
    "        \n",
    "        documents.append({\n",
    "            \"id\": idx, \n",
    "            \"content\": document, \n",
    "            \"metadata\": metadata\n",
    "        })\n",
    "    \n",
    "    return documents"
   ]
  },
  {
   "cell_type": "code",
   "execution_count": 78,
   "metadata": {},
   "outputs": [],
   "source": [
    "def create_embeddings(documents):\n",
    "    # Load a pretrained model\n",
    "    model = SentenceTransformer('all-MiniLM-L6-v2')\n",
    "    \n",
    "    print(\"Extracting text content from documents...\")\n",
    "    # Extract just the text content\n",
    "    texts = [doc[\"content\"] for doc in tqdm(documents)]\n",
    "    \n",
    "    # Generate embeddings\n",
    "    embeddings = model.encode(texts)\n",
    "    \n",
    "    print(f\"Generated {len(embeddings)} embeddings\")\n",
    "    print(\"Adding embeddings to documents...\")\n",
    "    # Add embeddings to documents\n",
    "    for i, doc in tqdm(enumerate(documents)):\n",
    "        doc[\"embedding\"] = embeddings[i]\n",
    "    \n",
    "    return documents"
   ]
  },
  {
   "cell_type": "code",
   "execution_count": 79,
   "metadata": {},
   "outputs": [],
   "source": [
    "def store_in_vector_db(documents, client):\n",
    "    # Create or get a collection\n",
    "    collection = client.get_or_create_collection(\"packet_data\")\n",
    "    \n",
    "    # Prepare data for insertion\n",
    "    ids = [str(doc[\"id\"]) for doc in documents]\n",
    "    embeddings = [doc[\"embedding\"].tolist() for doc in documents]\n",
    "    metadatas = [doc[\"metadata\"] for doc in documents]\n",
    "    documents_text = [doc[\"content\"] for doc in documents]\n",
    "    \n",
    "    # Set batch size within ChromaDB's limits\n",
    "    batch_size = 5000\n",
    "    \n",
    "    # Add documents in batches\n",
    "    total_docs = len(ids)\n",
    "    for i in tqdm(range(0, total_docs, batch_size)):\n",
    "        end_idx = min(i + batch_size, total_docs)\n",
    "        \n",
    "        # Create batch\n",
    "        batch_ids = ids[i:end_idx]\n",
    "        batch_embeddings = embeddings[i:end_idx]\n",
    "        batch_metadatas = metadatas[i:end_idx]\n",
    "        batch_documents = documents_text[i:end_idx]\n",
    "        \n",
    "        # Add batch to collection\n",
    "        collection.add(\n",
    "            ids=batch_ids,\n",
    "            embeddings=batch_embeddings,\n",
    "            metadatas=batch_metadatas,\n",
    "            documents=batch_documents\n",
    "        )\n",
    "    \n",
    "    return collection"
   ]
  },
  {
   "cell_type": "code",
   "execution_count": 80,
   "metadata": {},
   "outputs": [],
   "source": [
    "def retrieve_similar_packets(query, collection, n=5):\n",
    "    # Load the same model used for document encoding\n",
    "    model = SentenceTransformer('all-MiniLM-L6-v2')\n",
    "    \n",
    "    # Convert query to embedding\n",
    "    query_embedding = model.encode(query).tolist()\n",
    "    print(query_embedding)\n",
    "    \n",
    "    # Query the collection\n",
    "    results = collection.query(\n",
    "        query_embeddings=[query_embedding],\n",
    "        n_results=n\n",
    "    )\n",
    "    \n",
    "    return results"
   ]
  },
  {
   "cell_type": "code",
   "execution_count": 81,
   "metadata": {},
   "outputs": [],
   "source": [
    "OVERWRITE_DB = False\n",
    "\n",
    "if OVERWRITE_DB:\n",
    "    client.reset()\n",
    "\n",
    "if os.path.exists(vector_db_path) and not OVERWRITE_DB:\n",
    "    collection = client.get_collection(collection_name)\n",
    "else:\n",
    "    # Convert to documents\n",
    "    if use_luflow:\n",
    "        documents = prepare_packet_documents_luflow(data.drop(columns=[\"label\"]))\n",
    "    else:\n",
    "        documents = prepare_packet_documents_uq(data.drop(columns=[\"Label\", \"Dataset\"]))\n",
    "    \n",
    "    # Create embeddings\n",
    "    embedded_docs = create_embeddings(documents)\n",
    "    collection = store_in_vector_db(embedded_docs, client)"
   ]
  },
  {
   "cell_type": "code",
   "execution_count": 82,
   "metadata": {},
   "outputs": [
    {
     "data": {
      "text/plain": [
       "'Flow ID: 0\\nConnection: 192.168.100.148:65389 → 192.168.100.7:80\\nProtocol: 6 (L7: 7.0)\\nTraffic Volume: 420 bytes total (3 packets)\\nInbound: 420 bytes in 3 packets\\nOutbound: 0 bytes in 0 packets\\nTCP Flags: 2\\nClient TCP Flags: 2\\nServer TCP Flags: 0\\nTCP Window Max (In/Out): 512/0\\nRetransmissions: 1 packets (140 bytes)\\nDNS Query ID: 0\\nDNS Query Type: 0\\nDNS TTL Answer: 0\\nFTP Return Code: 0.0\\nFlow Duration: 4293092 ms\\nDuration In/Out: 1875/0\\nThroughput Client→Server: 1120000 bytes/s\\nThroughput Server→Client: 0 bytes/s\\nPacket Size Distribution:\\n  ≤128 bytes: 0 packets\\n  128-256 bytes: 3 packets\\n  256-512 bytes: 0 packets\\n  512-1024 bytes: 0 packets\\n  1024-1514 bytes: 0 packets\\nTTL Range: 64-64\\nPacket Length Range: 0-140\\nShortest/Longest Packet: 140/140\\nAttack: <unknown>'"
      ]
     },
     "execution_count": 82,
     "metadata": {},
     "output_type": "execute_result"
    }
   ],
   "source": [
    "example_doc = documents[0]\n",
    "example_doc['content'] = example_doc['content'].replace('Attack: DoS', 'Attack: <unknown>')\n",
    "example_doc['content']"
   ]
  },
  {
   "cell_type": "code",
   "execution_count": 83,
   "metadata": {},
   "outputs": [
    {
     "name": "stdout",
     "output_type": "stream",
     "text": [
      "[-0.05620570853352547, -0.005990129895508289, -0.016993943601846695, -0.026161985471844673, -0.05830743908882141, -0.0585225485265255, -0.007532202173024416, -0.04933980479836464, 0.045931700617074966, 0.00903173629194498, -0.06663363426923752, 0.0009082871838472784, -0.056930672377347946, -0.028181394562125206, -0.04223840311169624, -0.021119873970746994, 0.015627261251211166, -0.06866563856601715, 0.03683921694755554, -0.06406529992818832, 0.021532513201236725, 0.028900591656565666, -0.05274513363838196, -0.09050905704498291, -0.03244556114077568, 0.03792314976453781, -0.034447334706783295, 0.034374743700027466, 0.012925081886351109, -0.04453509673476219, -0.0003715877828653902, 0.0167424026876688, -0.11771264672279358, 0.006462490186095238, -0.025400720536708832, 0.02293000929057598, 0.0910630077123642, 0.062139272689819336, -0.04768531024456024, 0.06073344126343727, 0.0883118137717247, -0.05191110819578171, 0.06540928035974503, 0.11780250072479248, -0.002394604030996561, 0.008657746948301792, -0.0618458166718483, 0.047529783099889755, 0.018463868647813797, -0.06618768721818924, 0.013093100860714912, 0.05762427672743797, -0.003062331583350897, 0.10200061649084091, 0.033292271196842194, -0.05616911128163338, -0.06813949346542358, -0.03659829497337341, 0.004029789008200169, 0.08220988512039185, -0.0429898165166378, -0.0016004842473194003, 0.004317699931561947, 0.025007905438542366, -0.014910065568983555, -0.04470372945070267, -0.00833627488464117, 0.04008534178137779, 0.03243856877088547, -0.02752065099775791, -0.03133951872587204, 0.030784795060753822, -0.12129892408847809, 0.0105182696133852, -0.002829867647960782, -0.013891882263123989, 0.02150595374405384, 0.01886926032602787, -0.058536458760499954, -0.02969728782773018, 0.0892513170838356, -0.0016836178256198764, -0.05123006924986839, 0.04763416945934296, -0.06155487522482872, -0.03687462955713272, -0.03134015202522278, 0.00321710086427629, 0.014905544929206371, 0.03506951034069061, -0.0720251128077507, 0.08538255840539932, -0.02320053055882454, 0.03147018328309059, 0.06507672369480133, 0.10700108855962753, 0.020282955840229988, -0.0390070341527462, -0.08197125792503357, 0.04679194837808609, 0.01312735490500927, -0.007659737020730972, -0.05165993049740791, -0.05897016450762749, 0.021548565477132797, -0.023100947961211205, 0.008702227845788002, 0.0831236019730568, 0.09297791123390198, 0.05287123844027519, -0.0435456745326519, -0.01262538693845272, 0.04391205310821533, -2.659266556293005e-06, -0.02105981484055519, -0.032419878989458084, -0.039351753890514374, 0.047555454075336456, -0.01837330311536789, 0.03558245301246643, 0.015339799225330353, 0.030122164636850357, -0.06492100656032562, -0.017993604764342308, -0.005842167418450117, -0.01301453448832035, 0.06780046969652176, 1.2013935770435734e-32, 0.011096138507127762, 0.005012899171561003, -0.05229313671588898, -0.026956459507346153, 0.032715924084186554, -0.007026355713605881, 0.06239234656095505, 0.0079236701130867, -0.0797986090183258, 0.01839141547679901, -0.11768634617328644, -0.08718036860227585, -0.033782269805669785, -0.03650757297873497, 0.013024596497416496, -0.0035041470546275377, 0.03364073112607002, 0.019658204168081284, 0.04287976399064064, 0.048396896570920944, -0.006360963918268681, -0.04520352929830551, -0.006444104481488466, -0.04455306753516197, 0.01557951606810093, 0.022250186651945114, -0.09350583702325821, -0.0375470407307148, 0.006499279756098986, 0.00030294485623016953, 0.049614064395427704, -0.014428053051233292, -0.04875306040048599, 0.03529924899339676, 0.030696233734488487, -0.03944959118962288, -0.009031426161527634, -0.026771748438477516, 0.002802768722176552, 0.008139907382428646, -0.06792275607585907, -0.005217557307332754, -0.1332382708787918, 0.027216846123337746, -0.06669068336486816, -0.1099659875035286, -0.06525416672229767, -0.070877306163311, -0.04567877948284149, 0.05671379715204239, 0.02664409577846527, 0.02345229499042034, -0.06542778760194778, 0.012194011360406876, 0.009690937586128712, -0.0524296872317791, 0.03071632608771324, 0.10522715002298355, -0.025235729292035103, 0.19070515036582947, -0.00270928000099957, -0.004781541880220175, -0.06475967913866043, -0.07041046023368835, 0.10008333623409271, 0.01356101781129837, -0.04547085613012314, 0.0236087366938591, 0.017347438260912895, 0.006906178779900074, 0.0049642096273601055, 0.03348874673247337, 0.11505594849586487, 0.03258257359266281, 0.027677463367581367, 0.016619790345430374, -0.03866777941584587, -0.02933632768690586, 0.03421010449528694, 0.01606936752796173, -0.06794356554746628, 0.021134143695235252, 0.006367751397192478, 0.0641101598739624, 0.0036225244402885437, 0.024828020483255386, 0.027701174840331078, -0.022048108279705048, -0.06712767481803894, 0.035045839846134186, -0.08954080194234848, -0.013846858404576778, 0.052911143749952316, -0.06866715848445892, -0.025954678654670715, -1.2915631038328617e-32, -0.07922302186489105, 0.06002010032534599, -0.10410107672214508, 0.019184492528438568, 0.008508211933076382, -0.0527191087603569, 0.06037278100848198, 0.11037538200616837, 0.021547529846429825, 0.02909812331199646, 0.06532289832830429, 0.01734762452542782, 0.04255304113030434, -0.031407035887241364, 0.0454297736287117, -0.06025376543402672, 0.01881580241024494, -0.0349140539765358, -0.07130890339612961, -0.01965133100748062, -0.058048415929079056, 0.08806706219911575, -0.058481212705373764, -0.02503417246043682, -0.008598419837653637, 0.012683768756687641, -0.027879443019628525, 0.008617023006081581, -0.03677305951714516, -0.02483692765235901, 0.07687264680862427, -0.031788796186447144, -0.0667172446846962, 0.004594993311911821, 0.038048043847084045, 0.01182233914732933, 0.06236778944730759, 0.11610377579927444, 0.043748922646045685, -0.020507121458649635, 0.08278945833444595, -0.003968433942645788, -0.0826411098241806, 0.06402745842933655, 0.02281217835843563, 0.02181127667427063, 0.007593217305839062, -0.004200757946819067, -0.02390778809785843, -0.016009435057640076, 0.005405239295214415, 0.033995505422353745, 0.006014125421643257, 0.07227647304534912, 0.04846544936299324, 0.03042829968035221, 0.045604024082422256, 0.01516653597354889, 0.033097852021455765, -0.027532560750842094, 0.13395652174949646, -0.09392398595809937, -0.06898428499698639, 0.09097300469875336, 0.118594229221344, 0.043274905532598495, -0.01762728951871395, 0.035553939640522, -0.0007316627306863666, 0.002394965849816799, 0.040816470980644226, 0.02738441340625286, 0.010320696048438549, 0.01320812851190567, 0.102639339864254, -0.015305318869650364, 0.0525258369743824, 0.04706886038184166, -0.0715070590376854, 0.11336580663919449, -0.1402839571237564, 0.08745980262756348, -0.05703756585717201, -0.028628362342715263, 0.048681072890758514, -0.025264684110879898, 0.07217418402433395, -0.013457054272294044, 0.03224886581301689, -0.012473014183342457, -0.01975945569574833, 0.024389950558543205, -0.07252521067857742, -0.01227742712944746, 0.03786608204245567, -6.067642743801116e-08, -0.058035966008901596, -0.012659817934036255, -0.07201099395751953, 0.02976592443883419, 0.013816521503031254, 0.13057085871696472, -0.03308283910155296, -0.028054751455783844, -0.036087799817323685, -0.023113122209906578, 0.025931283831596375, -0.03475432097911835, -0.04392915591597557, -0.07736998796463013, 0.043229203671216965, -0.03289839252829552, 0.003004803555086255, -0.027645418420433998, -0.02783544920384884, -0.12173201143741608, -0.043534185737371445, -0.029379114508628845, -0.09932105243206024, -0.020617425441741943, -0.10602276772260666, -0.04350181296467781, 0.08196891099214554, -0.00990751851350069, -0.035245995968580246, -0.029452284798026085, -0.026912279427051544, -0.01679166406393051, -0.03240906819701195, 0.007895966060459614, -0.029745161533355713, 0.06689906120300293, -0.08480007201433182, 0.03449404239654541, 0.0031075000297278166, 0.04746478796005249, -0.02810039184987545, -0.013844733126461506, 0.020852956920862198, 0.03739514946937561, 0.05750235542654991, 0.02317371405661106, -0.017869502305984497, 0.043234266340732574, 0.029789451509714127, -0.0594509020447731, 0.028293760493397713, 0.001223643426783383, -0.0198178980499506, -0.017973560839891434, 0.063535176217556, 0.017663870006799698, -0.07486124336719513, -0.09611742943525314, -0.0541955903172493, 0.00894131138920784, 0.0003008085477631539, 0.07292615622282028, -0.01825338415801525, 0.014118594117462635]\n"
     ]
    },
    {
     "data": {
      "text/plain": [
       "[('DoS', 5)]"
      ]
     },
     "execution_count": 83,
     "metadata": {},
     "output_type": "execute_result"
    }
   ],
   "source": [
    "results = retrieve_similar_packets(example_doc['content'], collection, n=5)\n",
    "metadata = results['metadatas']\n",
    "attacks = [match_dict['Attack'] for match_dict in metadata[0]]\n",
    "attack_counts = Counter(attacks)\n",
    "attack_counts.most_common(1)"
   ]
  },
  {
   "cell_type": "code",
   "execution_count": 86,
   "metadata": {},
   "outputs": [
    {
     "data": {
      "text/plain": [
       "'DoS'"
      ]
     },
     "execution_count": 86,
     "metadata": {},
     "output_type": "execute_result"
    }
   ],
   "source": [
    "example_doc['metadata']['Attack']"
   ]
  },
  {
   "cell_type": "code",
   "execution_count": 94,
   "metadata": {},
   "outputs": [
    {
     "data": {
      "text/plain": [
       "'Flow ID: 80000\\nConnection: 114.43.207.102:50369 → 172.31.66.28:445\\nProtocol: 6 (L7: 0.0)\\nTraffic Volume: 840 bytes total (9 packets)\\nInbound: 498 bytes in 5 packets\\nOutbound: 342 bytes in 4 packets\\nTCP Flags: 30\\nClient TCP Flags: 26\\nServer TCP Flags: 30\\nTCP Window Max (In/Out): 16560/8192\\nRetransmissions: 0 packets (0 bytes)\\nDNS Query ID: 0\\nDNS Query Type: 0\\nDNS TTL Answer: 0\\nFTP Return Code: 0.0\\nFlow Duration: 0 ms\\nDuration In/Out: 0/0\\nThroughput Client→Server: 3984000 bytes/s\\nThroughput Server→Client: 2736000 bytes/s\\nPacket Size Distribution:\\n  ≤128 bytes: 6 packets\\n  128-256 bytes: 3 packets\\n  256-512 bytes: 0 packets\\n  512-1024 bytes: 0 packets\\n  1024-1514 bytes: 0 packets\\nTTL Range: 100-100\\nPacket Length Range: 40-171\\nShortest/Longest Packet: 40/171\\nAttack: Benign'"
      ]
     },
     "execution_count": 94,
     "metadata": {},
     "output_type": "execute_result"
    }
   ],
   "source": [
    "test_docs = prepare_packet_documents_uq(data.iloc[:(len(data)) - 1].drop(columns=[\"Label\", \"Dataset\"]))\n",
    "test_docs[80_000]['content']"
   ]
  },
  {
   "cell_type": "code",
   "execution_count": 95,
   "metadata": {},
   "outputs": [
    {
     "name": "stdout",
     "output_type": "stream",
     "text": [
      "[-0.04087037965655327, -0.020381322130560875, -0.03110925480723381, -0.00647034402936697, -0.03313157334923744, -0.05401843786239624, -0.02347947657108307, -0.029236165806651115, 0.05314793065190315, 0.0038521408569067717, -0.07844346761703491, 0.02860700897872448, -0.06129780039191246, -0.018289247527718544, -0.03468776494264603, -0.037426989525556564, 0.02237490378320217, -0.08315383642911911, 0.03272686526179314, -0.03620027378201485, -0.009450693614780903, 0.023754317313432693, -0.03861020505428314, -0.09850215166807175, -0.05386893078684807, 0.0034558847546577454, -0.029220597818493843, 0.036198440939188004, -0.004991687834262848, -0.025976546108722687, 1.0081808795803227e-05, 0.036375973373651505, -0.09916147589683533, 0.015320827253162861, -0.009037282317876816, 0.04475220665335655, 0.10494452714920044, 0.03771550580859184, -0.04340944066643715, 0.05608333274722099, 0.09272707998752594, -0.10652230679988861, 0.05705270543694496, 0.12643401324748993, -0.03738673776388168, -0.017373118549585342, -0.042410582304000854, 0.07152766734361649, 0.005929360166192055, -0.06989727914333344, 0.019902002066373825, 0.07466363161802292, -0.009894262067973614, 0.11447146534919739, 0.03308584913611412, -0.07412199676036835, -0.054985471069812775, -0.026190798729658127, 0.00929384957998991, 0.05274396762251854, -0.04001861810684204, -0.005707521922886372, -0.03169701248407364, 0.020392922684550285, -0.016819462180137634, -0.023809080943465233, -0.01138640008866787, 0.030219022184610367, 0.05023697018623352, -0.02007840760052204, -0.03155446797609329, 0.035084180533885956, -0.13759253919124603, 0.007789097260683775, -0.009038667194545269, -0.005385399796068668, 0.027195418253540993, 0.013646268285810947, -0.056597720831632614, -0.024826394394040108, 0.08312827348709106, -0.0035729568917304277, -0.02525736577808857, 0.011862311512231827, -0.06251616030931473, -0.016769737005233765, -0.021002814173698425, 0.013333833776414394, -0.01722971349954605, 0.017211778089404106, -0.06558281928300858, 0.10520394891500473, -0.025913218036293983, 0.033976756036281586, 0.04576490819454193, 0.10059645771980286, 0.014479990117251873, -0.061353471130132675, -0.0740591287612915, 0.03128889203071594, 0.034334298223257065, -0.013520597480237484, -0.06566890329122543, -0.037843018770217896, -0.02399572916328907, -0.022859152406454086, 0.024362100288271904, 0.09867874532938004, 0.0637354850769043, 0.03358940780162811, -0.04284248501062393, -0.028626879677176476, 0.017616163939237595, -0.011582775041460991, -0.03986287862062454, -0.009410248138010502, -0.08246723562479019, 0.05727418512105942, 0.0011315590236335993, 0.04366600140929222, -0.005930328741669655, 0.03313004970550537, -0.05067138746380806, -0.010146009735763073, -0.026521774008870125, -0.002838637214154005, 0.07122790813446045, 1.3267302213896183e-32, -0.010118191130459309, 0.02766183763742447, -0.04960854351520538, -0.046786706894636154, 0.020106827840209007, 0.007828714326024055, 0.060037873685359955, 0.0179840587079525, -0.08565682172775269, 0.03198592737317085, -0.11622244119644165, -0.0803002119064331, -0.0377119742333889, -0.04814404994249344, 0.011082574725151062, -0.007876869291067123, 0.007994539104402065, 0.046839941293001175, 0.03203633800148964, 0.05033695325255394, -0.01044995617121458, -0.042684562504291534, 0.011499965563416481, -0.06438812613487244, 0.01840236969292164, 0.04460383579134941, -0.092836894094944, -0.016693532466888428, 0.030640168115496635, 0.0041755191050469875, 0.021225666627287865, -0.00765260262414813, -0.04041597247123718, 0.034284595400094986, 0.052678581327199936, -0.03574254363775253, -0.02813195064663887, -0.019139278680086136, -0.023450292646884918, 0.018900688737630844, -0.034341782331466675, -0.015126783400774002, -0.12752121686935425, 0.0144522525370121, -0.05877968296408653, -0.085697703063488, -0.048004694283008575, -0.09033538401126862, -0.05197318643331528, 0.048696618527173996, 0.022371696308255196, 0.04338717460632324, -0.07594992965459824, -0.0020475273486226797, 0.026068584993481636, -0.05065909028053284, 0.03604596108198166, 0.09480103850364685, -0.036265358328819275, 0.16050457954406738, 0.0013696945970878005, -0.015608742833137512, -0.046858396381139755, -0.0887368842959404, 0.11781124025583267, -0.0073540047742426395, -0.057294536381959915, 0.04726004973053932, 0.0412943996489048, 0.02477741427719593, 0.016520272940397263, 0.04704781249165535, 0.12704679369926453, 0.03201228380203247, 0.05286700651049614, 0.01624671183526516, -0.033236052840948105, -0.008517074398696423, 0.033274102956056595, 0.02110113948583603, -0.06689205020666122, 0.011251958087086678, 0.013074449263513088, 0.04502406716346741, 0.005060078576207161, 0.054110314697027206, 0.011621006764471531, -7.210361673060106e-06, -0.07524885982275009, 0.02385038323700428, -0.05020366981625557, -0.026210004463791847, 0.04350482299923897, -0.06788419932126999, -0.03086264617741108, -1.398471082430684e-32, -0.08728589117527008, 0.041009701788425446, -0.0934266671538353, 0.005540656857192516, 0.011669015511870384, -0.056168314069509506, 0.050231508910655975, 0.09430540353059769, 0.008610576391220093, 0.030862845480442047, 0.07686998695135117, 0.035428013652563095, 0.01936507597565651, -0.049597881734371185, 0.019922740757465363, -0.054293014109134674, 0.026519188657402992, -0.052786119282245636, -0.07251811027526855, -0.027978641912341118, -0.03397897258400917, 0.08237842470407486, -0.044818416237831116, -0.00654569361358881, -0.01547344122081995, 0.0005504667060449719, -0.00884988158941269, -0.0019941630307585, -0.015049661509692669, -0.013223777525126934, 0.08785969018936157, -0.017255185171961784, -0.0911722257733345, 0.027902130037546158, 0.05585278943181038, -0.0088210329413414, 0.03953234851360321, 0.13258464634418488, 0.04226547107100487, 0.00016556328046135604, 0.07698708772659302, 0.03500710055232048, -0.08896001428365707, 0.04600901156663895, 0.01480030082166195, 0.00343154720030725, -0.014608463272452354, -0.030065611004829407, -0.016393538564443588, -0.004738189745694399, -0.007847337052226067, 0.02023460902273655, 0.0022770450450479984, 0.0481952540576458, 0.05694490298628807, 0.023409968242049217, 0.05591666325926781, 0.02096114493906498, 0.024829763919115067, -0.011383638717234135, 0.1393360048532486, -0.07209895551204681, -0.03334065154194832, 0.07843874394893646, 0.13048146665096283, 0.036683373153209686, -0.024198781698942184, 0.021898187696933746, 0.00420259078964591, 0.06756210327148438, 0.03412284702062607, 0.014551300555467606, -0.00983836967498064, 0.007008383050560951, 0.08230124413967133, 0.012336892075836658, 0.07989805191755295, 0.057982806116342545, -0.08682475984096527, 0.11261720210313797, -0.12089632451534271, 0.07195282727479935, -0.06456046551465988, -0.01808680221438408, 0.0477924719452858, -0.02619379572570324, 0.07484189420938492, -0.0011207633651793003, 0.047383103519678116, 0.004684551153331995, -0.021204672753810883, 0.0269588865339756, -0.06569404155015945, -0.013183536008000374, 0.03740844875574112, -5.975373085220781e-08, -0.08804904669523239, -0.017634928226470947, -0.08964287489652634, 0.03678455576300621, 0.0034369067288935184, 0.1315946727991104, -0.03866346925497055, -0.04150695726275444, -0.04946006461977959, -0.040510714054107666, 0.010170113295316696, -0.06378547847270966, -0.0324108824133873, -0.06202913820743561, 0.037476204335689545, -0.04823111742734909, 0.025618696585297585, -0.01955871842801571, -0.022018812596797943, -0.12783832848072052, -0.0508577898144722, -0.019343378022313118, -0.08740299940109253, -0.016335006803274155, -0.09182789921760559, -0.05591834336519241, 0.07688961923122406, -0.003922761883586645, -0.01132557075470686, -0.028048716485500336, 0.0035432421136647463, -0.010644746012985706, -0.07015464454889297, 0.008643710985779762, -0.02781246416270733, 0.07171858847141266, -0.09702833741903305, 0.02471385896205902, -0.028869980946183205, 0.053151097148656845, 0.037492163479328156, -0.00958312302827835, 0.011560570448637009, 0.026338474825024605, 0.061514321714639664, 0.017104508355259895, -0.01250502374023199, 0.022634407505393028, -0.001518861623480916, -0.03865423798561096, 0.021881021559238434, 0.00018656109750736505, -0.032830577343702316, -0.0096146110445261, 0.08853431046009064, 0.017805781215429306, -0.06944955885410309, -0.08116424828767776, -0.06287739425897598, 0.00033827967126853764, -0.0202800240367651, 0.07328706979751587, -0.005347331054508686, 0.018817760050296783]\n"
     ]
    },
    {
     "data": {
      "text/plain": [
       "[('Benign', 5)]"
      ]
     },
     "execution_count": 95,
     "metadata": {},
     "output_type": "execute_result"
    }
   ],
   "source": [
    "test_content = test_docs[80_000]['content']\n",
    "test_results = retrieve_similar_packets(test_content, collection, n=5)\n",
    "test_metadata = test_results['metadatas']\n",
    "test_attacks = [match_dict['Attack'] for match_dict in test_metadata[0]]\n",
    "test_attack_counts = Counter(test_attacks)\n",
    "test_attack_counts.most_common(1)"
   ]
  },
  {
   "cell_type": "code",
   "execution_count": 96,
   "metadata": {},
   "outputs": [
    {
     "data": {
      "text/plain": [
       "'Benign'"
      ]
     },
     "execution_count": 96,
     "metadata": {},
     "output_type": "execute_result"
    }
   ],
   "source": [
    "test_docs[80_000]['metadata']['Attack']"
   ]
  },
  {
   "cell_type": "code",
   "execution_count": 72,
   "metadata": {},
   "outputs": [],
   "source": [
    "def query_with_filters(collection, query_text, metadata_filters, n_results=5):\n",
    "    \"\"\"Query with both semantic search and metadata filters.\"\"\"\n",
    "    \n",
    "    # Load embedding model\n",
    "    model = SentenceTransformer('all-MiniLM-L6-v2')\n",
    "    \n",
    "    # Encode the query\n",
    "    query_embedding = model.encode(query_text).tolist()\n",
    "    \n",
    "    # Convert flat filters to proper ChromaDB format\n",
    "    # ChromaDB requires a single operator at the top level\n",
    "    formatted_where = {\"$and\": []}\n",
    "    \n",
    "    for key, value in metadata_filters.items():\n",
    "        if isinstance(value, dict):\n",
    "            # This is already an operator (like {\"$gt\": 4.0})\n",
    "            formatted_where[\"$and\"].append({key: value})\n",
    "        else:\n",
    "            # This is a direct value match\n",
    "            formatted_where[\"$and\"].append({key: {\"$eq\": value}})\n",
    "    \n",
    "    # Search the collection with properly formatted filters\n",
    "    results = collection.query(\n",
    "        query_embeddings=[query_embedding],\n",
    "        where=formatted_where,\n",
    "        n_results=n_results\n",
    "    )\n",
    "    \n",
    "    return results"
   ]
  }
 ],
 "metadata": {
  "kernelspec": {
   "display_name": "base",
   "language": "python",
   "name": "python3"
  },
  "language_info": {
   "codemirror_mode": {
    "name": "ipython",
    "version": 3
   },
   "file_extension": ".py",
   "mimetype": "text/x-python",
   "name": "python",
   "nbconvert_exporter": "python",
   "pygments_lexer": "ipython3",
   "version": "3.10.12"
  }
 },
 "nbformat": 4,
 "nbformat_minor": 2
}
