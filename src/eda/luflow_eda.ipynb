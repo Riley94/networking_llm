{
 "cells": [
  {
   "cell_type": "code",
   "execution_count": 1,
   "metadata": {},
   "outputs": [
    {
     "name": "stderr",
     "output_type": "stream",
     "text": [
      "/home/riley/base/lib/python3.10/site-packages/tqdm/auto.py:21: TqdmWarning: IProgress not found. Please update jupyter and ipywidgets. See https://ipywidgets.readthedocs.io/en/stable/user_install.html\n",
      "  from .autonotebook import tqdm as notebook_tqdm\n"
     ]
    }
   ],
   "source": [
    "import os\n",
    "import pandas as pd\n",
    "import kagglehub\n",
    "from tqdm import tqdm\n",
    "import numpy as np\n",
    "import torch\n",
    "from torch import nn\n",
    "from torch.nn import functional as F\n",
    "import torch.optim as optim\n",
    "from torch.utils.data import DataLoader, IterableDataset, TensorDataset\n",
    "from sklearn.ensemble import IsolationForest\n",
    "from sklearn.model_selection import train_test_split\n",
    "from sklearn.metrics import accuracy_score, roc_curve, auc, precision_recall_curve, average_precision_score, f1_score, confusion_matrix, classification_report\n",
    "from sklearn.preprocessing import MinMaxScaler\n",
    "import matplotlib.pyplot as plt\n",
    "import seaborn as sns\n",
    "import pickle\n",
    "import sys\n",
    "from pathlib import Path\n",
    "\n",
    "from data_loading.tools import reduce_mem_usage\n",
    "\n",
    "# Navigate up to the project root and add it to sys.path\n",
    "project_root = Path().resolve().parent\n",
    "if str(project_root) not in sys.path:\n",
    "    sys.path.append(str(project_root))\n",
    "\n",
    "OVERWRITE = False"
   ]
  },
  {
   "cell_type": "code",
   "execution_count": 77,
   "metadata": {},
   "outputs": [
    {
     "name": "stdout",
     "output_type": "stream",
     "text": [
      "1\n"
     ]
    }
   ],
   "source": [
    "from queue import Queue\n",
    "\n",
    "example_queue = Queue()\n",
    "example_queue.put(1)\n",
    "example_queue.put(2)\n",
    "example_queue.put(3)\n",
    "example_queue.put(4)\n",
    "example_queue.put(5)\n",
    "\n",
    "print(example_queue.get())"
   ]
  },
  {
   "cell_type": "code",
   "execution_count": 2,
   "metadata": {},
   "outputs": [
    {
     "name": "stdout",
     "output_type": "stream",
     "text": [
      "Combined data path: /home/riley/networking_llm/src/eda/../../data/luflow_combined.csv\n"
     ]
    }
   ],
   "source": [
    "# Path to the cached dataset\n",
    "cache_path = os.path.expanduser(\"~/.cache/kagglehub/datasets\")\n",
    "data_path = os.path.join(cache_path, \"mryanm/luflow-network-intrusion-detection-data-set/versions/240\")\n",
    "curr_dir = os.getcwd()\n",
    "src_dir = os.path.join(curr_dir, os.pardir)\n",
    "combined_data_path = os.path.join(src_dir, os.pardir, \"data\", \"luflow_combined.csv\")\n",
    "\n",
    "if not (os.path.exists(data_path) or os.path.exists(combined_data_path)) or OVERWRITE: # if either of the paths exist, don't download\n",
    "    # Download latest version\n",
    "    data_path = kagglehub.dataset_download(\"mryanm/luflow-network-intrusion-detection-data-set\")\n",
    "\n",
    "if os.path.exists(combined_data_path) and not OVERWRITE:\n",
    "    print(f\"Combined data path: {combined_data_path}\")\n",
    "else:\n",
    "    print(f\"Data path: {data_path}\")"
   ]
  },
  {
   "cell_type": "markdown",
   "metadata": {},
   "source": [
    "Data is in different folders seperated by year, month, and day. For ease of loading, I opted to combine these into a single csv."
   ]
  },
  {
   "cell_type": "code",
   "execution_count": 3,
   "metadata": {},
   "outputs": [],
   "source": [
    "def save_luflow(data_path, save_path):\n",
    "    first_write = True  # Track if it's the first write to include headers\n",
    "\n",
    "    # Load and combine each CSV\n",
    "    for year in tqdm(sorted(os.listdir(data_path))):  # Sorting for consistency\n",
    "        year_path = os.path.join(data_path, year)\n",
    "        if os.path.isdir(year_path):\n",
    "            for month in sorted(os.listdir(year_path)):\n",
    "                month_path = os.path.join(year_path, month)\n",
    "                if os.path.isdir(month_path):\n",
    "                    for day in sorted(os.listdir(month_path)):\n",
    "                        day_path = os.path.join(month_path, day)\n",
    "                        if os.path.isdir(day_path):\n",
    "                            for file in os.listdir(day_path):\n",
    "                                if file.endswith(\".csv\"):\n",
    "                                    full_path = os.path.join(day_path, file)\n",
    "\n",
    "                                    # Read in chunks (adjust chunksize as needed)\n",
    "                                    for chunk in pd.read_csv(full_path, chunksize=10_000):\n",
    "                                        # Extract date info\n",
    "                                        try:\n",
    "                                            y, m, d = map(int, file.split(\".\")[:3])\n",
    "                                            chunk[\"Year\"] = y\n",
    "                                            chunk[\"Month\"] = m\n",
    "                                            chunk[\"Day\"] = d\n",
    "                                            chunk['label'] = pd.Categorical(chunk['label']).codes\n",
    "                                        except ValueError:\n",
    "                                            print(f\"Skipping malformed filename: {file}\")\n",
    "                                            continue\n",
    "\n",
    "                                        # Append to file (write header only once)\n",
    "                                        chunk.to_csv(save_path, mode='a', header=first_write, index=False)\n",
    "                                        first_write = False  # Only write header in the first batch\n",
    "\n",
    "    print(f\"Finished merging CSVs into {save_path}\")\n",
    "\n",
    "if not os.path.exists(combined_data_path) or OVERWRITE:\n",
    "    save_luflow(data_path, combined_data_path)\n",
    "    # remove cache data_path\n",
    "    os.system(f\"rm -rf {data_path}\")"
   ]
  },
  {
   "cell_type": "code",
   "execution_count": 4,
   "metadata": {},
   "outputs": [
    {
     "name": "stdout",
     "output_type": "stream",
     "text": [
      "Memory usage after optimization is: 2.96 MB\n",
      "Decreased by 59.2%\n"
     ]
    },
    {
     "name": "stderr",
     "output_type": "stream",
     "text": [
      "/home/riley/base/lib/python3.10/site-packages/pandas/io/formats/format.py:1458: RuntimeWarning: overflow encountered in cast\n",
      "  has_large_values = (abs_vals > 1e6).any()\n"
     ]
    },
    {
     "data": {
      "text/html": [
       "<div>\n",
       "<style scoped>\n",
       "    .dataframe tbody tr th:only-of-type {\n",
       "        vertical-align: middle;\n",
       "    }\n",
       "\n",
       "    .dataframe tbody tr th {\n",
       "        vertical-align: top;\n",
       "    }\n",
       "\n",
       "    .dataframe thead th {\n",
       "        text-align: right;\n",
       "    }\n",
       "</style>\n",
       "<table border=\"1\" class=\"dataframe\">\n",
       "  <thead>\n",
       "    <tr style=\"text-align: right;\">\n",
       "      <th></th>\n",
       "      <th>avg_ipt</th>\n",
       "      <th>bytes_in</th>\n",
       "      <th>bytes_out</th>\n",
       "      <th>dest_ip</th>\n",
       "      <th>dest_port</th>\n",
       "      <th>entropy</th>\n",
       "      <th>num_pkts_out</th>\n",
       "      <th>num_pkts_in</th>\n",
       "      <th>proto</th>\n",
       "      <th>src_ip</th>\n",
       "      <th>src_port</th>\n",
       "      <th>time_end</th>\n",
       "      <th>time_start</th>\n",
       "      <th>total_entropy</th>\n",
       "      <th>label</th>\n",
       "      <th>duration</th>\n",
       "      <th>Year</th>\n",
       "      <th>Month</th>\n",
       "      <th>Day</th>\n",
       "    </tr>\n",
       "  </thead>\n",
       "  <tbody>\n",
       "    <tr>\n",
       "      <th>0</th>\n",
       "      <td>7.500000</td>\n",
       "      <td>342</td>\n",
       "      <td>3679</td>\n",
       "      <td>786</td>\n",
       "      <td>9200.0</td>\n",
       "      <td>5.437500</td>\n",
       "      <td>2</td>\n",
       "      <td>2</td>\n",
       "      <td>6</td>\n",
       "      <td>786</td>\n",
       "      <td>57392.0</td>\n",
       "      <td>1592533725648144</td>\n",
       "      <td>1592533725632946</td>\n",
       "      <td>21860.917969</td>\n",
       "      <td>0</td>\n",
       "      <td>0.015198</td>\n",
       "      <td>2020</td>\n",
       "      <td>6</td>\n",
       "      <td>19</td>\n",
       "    </tr>\n",
       "    <tr>\n",
       "      <th>1</th>\n",
       "      <td>0.000000</td>\n",
       "      <td>0</td>\n",
       "      <td>0</td>\n",
       "      <td>786</td>\n",
       "      <td>55972.0</td>\n",
       "      <td>0.000000</td>\n",
       "      <td>1</td>\n",
       "      <td>1</td>\n",
       "      <td>6</td>\n",
       "      <td>49453</td>\n",
       "      <td>49493.0</td>\n",
       "      <td>1592533744644904</td>\n",
       "      <td>1592533744644904</td>\n",
       "      <td>0.000000</td>\n",
       "      <td>2</td>\n",
       "      <td>0.000000</td>\n",
       "      <td>2020</td>\n",
       "      <td>6</td>\n",
       "      <td>19</td>\n",
       "    </tr>\n",
       "    <tr>\n",
       "      <th>2</th>\n",
       "      <td>0.500000</td>\n",
       "      <td>15440</td>\n",
       "      <td>942</td>\n",
       "      <td>786</td>\n",
       "      <td>9300.0</td>\n",
       "      <td>2.203125</td>\n",
       "      <td>3</td>\n",
       "      <td>3</td>\n",
       "      <td>6</td>\n",
       "      <td>786</td>\n",
       "      <td>60512.0</td>\n",
       "      <td>1592533770936279</td>\n",
       "      <td>1592533770933553</td>\n",
       "      <td>36091.753906</td>\n",
       "      <td>0</td>\n",
       "      <td>0.002726</td>\n",
       "      <td>2020</td>\n",
       "      <td>6</td>\n",
       "      <td>19</td>\n",
       "    </tr>\n",
       "    <tr>\n",
       "      <th>3</th>\n",
       "      <td>20.217392</td>\n",
       "      <td>622</td>\n",
       "      <td>31010</td>\n",
       "      <td>786</td>\n",
       "      <td>9300.0</td>\n",
       "      <td>1.190430</td>\n",
       "      <td>23</td>\n",
       "      <td>5</td>\n",
       "      <td>6</td>\n",
       "      <td>786</td>\n",
       "      <td>60490.0</td>\n",
       "      <td>159253376770238</td>\n",
       "      <td>15925337672353</td>\n",
       "      <td>37640.355469</td>\n",
       "      <td>0</td>\n",
       "      <td>0.467041</td>\n",
       "      <td>2020</td>\n",
       "      <td>6</td>\n",
       "      <td>19</td>\n",
       "    </tr>\n",
       "    <tr>\n",
       "      <th>4</th>\n",
       "      <td>0.000000</td>\n",
       "      <td>0</td>\n",
       "      <td>0</td>\n",
       "      <td>786</td>\n",
       "      <td>59498.0</td>\n",
       "      <td>0.000000</td>\n",
       "      <td>1</td>\n",
       "      <td>1</td>\n",
       "      <td>6</td>\n",
       "      <td>786</td>\n",
       "      <td>9300.0</td>\n",
       "      <td>1592533772973114</td>\n",
       "      <td>1592533772973087</td>\n",
       "      <td>0.000000</td>\n",
       "      <td>0</td>\n",
       "      <td>0.000027</td>\n",
       "      <td>2020</td>\n",
       "      <td>6</td>\n",
       "      <td>19</td>\n",
       "    </tr>\n",
       "  </tbody>\n",
       "</table>\n",
       "</div>"
      ],
      "text/plain": [
       "     avg_ipt  bytes_in  bytes_out  dest_ip  dest_port   entropy  num_pkts_out  \\\n",
       "0   7.500000       342       3679      786     9200.0  5.437500             2   \n",
       "1   0.000000         0          0      786    55972.0  0.000000             1   \n",
       "2   0.500000     15440        942      786     9300.0  2.203125             3   \n",
       "3  20.217392       622      31010      786     9300.0  1.190430            23   \n",
       "4   0.000000         0          0      786    59498.0  0.000000             1   \n",
       "\n",
       "   num_pkts_in  proto  src_ip  src_port          time_end        time_start  \\\n",
       "0            2      6     786   57392.0  1592533725648144  1592533725632946   \n",
       "1            1      6   49453   49493.0  1592533744644904  1592533744644904   \n",
       "2            3      6     786   60512.0  1592533770936279  1592533770933553   \n",
       "3            5      6     786   60490.0   159253376770238    15925337672353   \n",
       "4            1      6     786    9300.0  1592533772973114  1592533772973087   \n",
       "\n",
       "   total_entropy  label  duration  Year  Month  Day  \n",
       "0   21860.917969      0  0.015198  2020      6   19  \n",
       "1       0.000000      2  0.000000  2020      6   19  \n",
       "2   36091.753906      0  0.002726  2020      6   19  \n",
       "3   37640.355469      0  0.467041  2020      6   19  \n",
       "4       0.000000      0  0.000027  2020      6   19  "
      ]
     },
     "execution_count": 4,
     "metadata": {},
     "output_type": "execute_result"
    }
   ],
   "source": [
    "data = pd.read_csv(combined_data_path, nrows=50_000)\n",
    "data = reduce_mem_usage(data)\n",
    "data.head()"
   ]
  },
  {
   "cell_type": "code",
   "execution_count": 5,
   "metadata": {},
   "outputs": [
    {
     "name": "stdout",
     "output_type": "stream",
     "text": [
      "<class 'pandas.core.frame.DataFrame'>\n",
      "RangeIndex: 7500000 entries, 0 to 7499999\n",
      "Data columns (total 19 columns):\n",
      " #   Column         Dtype  \n",
      "---  ------         -----  \n",
      " 0   avg_ipt        float32\n",
      " 1   bytes_in       int32  \n",
      " 2   bytes_out      int32  \n",
      " 3   dest_ip        int32  \n",
      " 4   dest_port      float32\n",
      " 5   entropy        float16\n",
      " 6   num_pkts_out   int16  \n",
      " 7   num_pkts_in    int16  \n",
      " 8   proto          int8   \n",
      " 9   src_ip         int32  \n",
      " 10  src_port       float32\n",
      " 11  time_end       int64  \n",
      " 12  time_start     int64  \n",
      " 13  total_entropy  float32\n",
      " 14  label          int8   \n",
      " 15  duration       float16\n",
      " 16  Year           int16  \n",
      " 17  Month          int8   \n",
      " 18  Day            int8   \n",
      "dtypes: float16(2), float32(4), int16(3), int32(4), int64(2), int8(4)\n",
      "memory usage: 443.5 MB\n"
     ]
    }
   ],
   "source": [
    "data.info()"
   ]
  },
  {
   "cell_type": "code",
   "execution_count": 6,
   "metadata": {},
   "outputs": [
    {
     "data": {
      "text/plain": [
       "Day\n",
       "22    4204081\n",
       "21     814816\n",
       "20     770853\n",
       "19     765360\n",
       "23     637677\n",
       "24     307213\n",
       "Name: count, dtype: int64"
      ]
     },
     "execution_count": 6,
     "metadata": {},
     "output_type": "execute_result"
    }
   ],
   "source": [
    "data['Day'].value_counts()"
   ]
  },
  {
   "cell_type": "markdown",
   "metadata": {},
   "source": [
    "The full dataset is too large to get description stats in a timely manner, so only inspecting a subset. NaN seen for some mean values due to overflow during summation, a consequence of downcasting as we've done."
   ]
  },
  {
   "cell_type": "code",
   "execution_count": null,
   "metadata": {},
   "outputs": [
    {
     "name": "stderr",
     "output_type": "stream",
     "text": [
      "/home/riley/base/lib/python3.10/site-packages/numpy/_core/_methods.py:52: RuntimeWarning: overflow encountered in reduce\n",
      "  return umr_sum(a, axis, dtype, out, keepdims, initial, where)\n",
      "/home/riley/base/lib/python3.10/site-packages/numpy/_core/_methods.py:52: RuntimeWarning: overflow encountered in reduce\n",
      "  return umr_sum(a, axis, dtype, out, keepdims, initial, where)\n"
     ]
    },
    {
     "data": {
      "text/html": [
       "<div>\n",
       "<style scoped>\n",
       "    .dataframe tbody tr th:only-of-type {\n",
       "        vertical-align: middle;\n",
       "    }\n",
       "\n",
       "    .dataframe tbody tr th {\n",
       "        vertical-align: top;\n",
       "    }\n",
       "\n",
       "    .dataframe thead th {\n",
       "        text-align: right;\n",
       "    }\n",
       "</style>\n",
       "<table border=\"1\" class=\"dataframe\">\n",
       "  <thead>\n",
       "    <tr style=\"text-align: right;\">\n",
       "      <th></th>\n",
       "      <th>avg_ipt</th>\n",
       "      <th>bytes_in</th>\n",
       "      <th>bytes_out</th>\n",
       "      <th>dest_ip</th>\n",
       "      <th>dest_port</th>\n",
       "      <th>entropy</th>\n",
       "      <th>num_pkts_out</th>\n",
       "      <th>num_pkts_in</th>\n",
       "      <th>proto</th>\n",
       "      <th>src_ip</th>\n",
       "      <th>src_port</th>\n",
       "      <th>time_end</th>\n",
       "      <th>time_start</th>\n",
       "      <th>total_entropy</th>\n",
       "      <th>label</th>\n",
       "      <th>duration</th>\n",
       "      <th>Year</th>\n",
       "      <th>Month</th>\n",
       "      <th>Day</th>\n",
       "    </tr>\n",
       "  </thead>\n",
       "  <tbody>\n",
       "    <tr>\n",
       "      <th>count</th>\n",
       "      <td>5.000000e+04</td>\n",
       "      <td>50000.000000</td>\n",
       "      <td>50000.000000</td>\n",
       "      <td>50000.000000</td>\n",
       "      <td>50000.000000</td>\n",
       "      <td>5.000000e+04</td>\n",
       "      <td>50000.000000</td>\n",
       "      <td>50000.000000</td>\n",
       "      <td>50000.000000</td>\n",
       "      <td>50000.000000</td>\n",
       "      <td>50000.000000</td>\n",
       "      <td>5.000000e+04</td>\n",
       "      <td>5.000000e+04</td>\n",
       "      <td>5.000000e+04</td>\n",
       "      <td>50000.000000</td>\n",
       "      <td>5.000000e+04</td>\n",
       "      <td>50000.0</td>\n",
       "      <td>50000.0</td>\n",
       "      <td>50000.0</td>\n",
       "    </tr>\n",
       "    <tr>\n",
       "      <th>mean</th>\n",
       "      <td>2.407307e+06</td>\n",
       "      <td>1790.459540</td>\n",
       "      <td>4314.988480</td>\n",
       "      <td>2391.093220</td>\n",
       "      <td>11199.555300</td>\n",
       "      <td>inf</td>\n",
       "      <td>9.702760</td>\n",
       "      <td>6.324420</td>\n",
       "      <td>7.097240</td>\n",
       "      <td>15440.747900</td>\n",
       "      <td>43477.520580</td>\n",
       "      <td>1.446742e+15</td>\n",
       "      <td>1.445969e+15</td>\n",
       "      <td>1.535622e+04</td>\n",
       "      <td>0.634300</td>\n",
       "      <td>inf</td>\n",
       "      <td>2020.0</td>\n",
       "      <td>6.0</td>\n",
       "      <td>19.0</td>\n",
       "    </tr>\n",
       "    <tr>\n",
       "      <th>std</th>\n",
       "      <td>4.725227e+07</td>\n",
       "      <td>6629.712593</td>\n",
       "      <td>9573.466947</td>\n",
       "      <td>12768.299095</td>\n",
       "      <td>16685.602473</td>\n",
       "      <td>2.111328e+00</td>\n",
       "      <td>27.757714</td>\n",
       "      <td>20.642771</td>\n",
       "      <td>3.681855</td>\n",
       "      <td>37318.476275</td>\n",
       "      <td>19767.471747</td>\n",
       "      <td>4.359535e+14</td>\n",
       "      <td>4.371167e+14</td>\n",
       "      <td>3.318598e+04</td>\n",
       "      <td>0.757347</td>\n",
       "      <td>7.207031e+00</td>\n",
       "      <td>0.0</td>\n",
       "      <td>0.0</td>\n",
       "      <td>0.0</td>\n",
       "    </tr>\n",
       "    <tr>\n",
       "      <th>min</th>\n",
       "      <td>0.000000e+00</td>\n",
       "      <td>0.000000</td>\n",
       "      <td>0.000000</td>\n",
       "      <td>174.000000</td>\n",
       "      <td>-1.000000</td>\n",
       "      <td>0.000000e+00</td>\n",
       "      <td>0.000000</td>\n",
       "      <td>0.000000</td>\n",
       "      <td>1.000000</td>\n",
       "      <td>4.000000</td>\n",
       "      <td>-1.000000</td>\n",
       "      <td>1.592536e+10</td>\n",
       "      <td>1.592525e+11</td>\n",
       "      <td>0.000000e+00</td>\n",
       "      <td>0.000000</td>\n",
       "      <td>0.000000e+00</td>\n",
       "      <td>2020.0</td>\n",
       "      <td>6.0</td>\n",
       "      <td>19.0</td>\n",
       "    </tr>\n",
       "    <tr>\n",
       "      <th>25%</th>\n",
       "      <td>0.000000e+00</td>\n",
       "      <td>0.000000</td>\n",
       "      <td>90.000000</td>\n",
       "      <td>786.000000</td>\n",
       "      <td>445.000000</td>\n",
       "      <td>1.884766e+00</td>\n",
       "      <td>1.000000</td>\n",
       "      <td>0.000000</td>\n",
       "      <td>6.000000</td>\n",
       "      <td>786.000000</td>\n",
       "      <td>38152.000000</td>\n",
       "      <td>1.592527e+15</td>\n",
       "      <td>1.592527e+15</td>\n",
       "      <td>2.097566e+03</td>\n",
       "      <td>0.000000</td>\n",
       "      <td>7.098913e-05</td>\n",
       "      <td>2020.0</td>\n",
       "      <td>6.0</td>\n",
       "      <td>19.0</td>\n",
       "    </tr>\n",
       "    <tr>\n",
       "      <th>50%</th>\n",
       "      <td>3.333333e-01</td>\n",
       "      <td>56.000000</td>\n",
       "      <td>191.000000</td>\n",
       "      <td>786.000000</td>\n",
       "      <td>9200.000000</td>\n",
       "      <td>4.550781e+00</td>\n",
       "      <td>4.000000</td>\n",
       "      <td>1.000000</td>\n",
       "      <td>6.000000</td>\n",
       "      <td>786.000000</td>\n",
       "      <td>52450.000000</td>\n",
       "      <td>1.592533e+15</td>\n",
       "      <td>1.592533e+15</td>\n",
       "      <td>2.146884e+03</td>\n",
       "      <td>0.000000</td>\n",
       "      <td>1.948547e-02</td>\n",
       "      <td>2020.0</td>\n",
       "      <td>6.0</td>\n",
       "      <td>19.0</td>\n",
       "    </tr>\n",
       "    <tr>\n",
       "      <th>75%</th>\n",
       "      <td>1.330000e+02</td>\n",
       "      <td>299.000000</td>\n",
       "      <td>4344.000000</td>\n",
       "      <td>786.000000</td>\n",
       "      <td>9200.000000</td>\n",
       "      <td>4.808594e+00</td>\n",
       "      <td>6.000000</td>\n",
       "      <td>6.000000</td>\n",
       "      <td>6.000000</td>\n",
       "      <td>8075.000000</td>\n",
       "      <td>55669.000000</td>\n",
       "      <td>1.592536e+15</td>\n",
       "      <td>1.592536e+15</td>\n",
       "      <td>2.401882e+04</td>\n",
       "      <td>1.000000</td>\n",
       "      <td>1.046875e+00</td>\n",
       "      <td>2020.0</td>\n",
       "      <td>6.0</td>\n",
       "      <td>19.0</td>\n",
       "    </tr>\n",
       "    <tr>\n",
       "      <th>max</th>\n",
       "      <td>2.147484e+09</td>\n",
       "      <td>65464.000000</td>\n",
       "      <td>65491.000000</td>\n",
       "      <td>213371.000000</td>\n",
       "      <td>65529.000000</td>\n",
       "      <td>3.042188e+01</td>\n",
       "      <td>255.000000</td>\n",
       "      <td>255.000000</td>\n",
       "      <td>58.000000</td>\n",
       "      <td>328136.000000</td>\n",
       "      <td>65534.000000</td>\n",
       "      <td>1.592536e+15</td>\n",
       "      <td>1.592536e+15</td>\n",
       "      <td>1.270000e+06</td>\n",
       "      <td>2.000000</td>\n",
       "      <td>4.103125e+01</td>\n",
       "      <td>2020.0</td>\n",
       "      <td>6.0</td>\n",
       "      <td>19.0</td>\n",
       "    </tr>\n",
       "  </tbody>\n",
       "</table>\n",
       "</div>"
      ],
      "text/plain": [
       "            avg_ipt      bytes_in     bytes_out        dest_ip     dest_port  \\\n",
       "count  5.000000e+04  50000.000000  50000.000000   50000.000000  50000.000000   \n",
       "mean   2.407307e+06   1790.459540   4314.988480    2391.093220  11199.555300   \n",
       "std    4.725227e+07   6629.712593   9573.466947   12768.299095  16685.602473   \n",
       "min    0.000000e+00      0.000000      0.000000     174.000000     -1.000000   \n",
       "25%    0.000000e+00      0.000000     90.000000     786.000000    445.000000   \n",
       "50%    3.333333e-01     56.000000    191.000000     786.000000   9200.000000   \n",
       "75%    1.330000e+02    299.000000   4344.000000     786.000000   9200.000000   \n",
       "max    2.147484e+09  65464.000000  65491.000000  213371.000000  65529.000000   \n",
       "\n",
       "            entropy  num_pkts_out   num_pkts_in         proto         src_ip  \\\n",
       "count  5.000000e+04  50000.000000  50000.000000  50000.000000   50000.000000   \n",
       "mean            inf      9.702760      6.324420      7.097240   15440.747900   \n",
       "std    2.111328e+00     27.757714     20.642771      3.681855   37318.476275   \n",
       "min    0.000000e+00      0.000000      0.000000      1.000000       4.000000   \n",
       "25%    1.884766e+00      1.000000      0.000000      6.000000     786.000000   \n",
       "50%    4.550781e+00      4.000000      1.000000      6.000000     786.000000   \n",
       "75%    4.808594e+00      6.000000      6.000000      6.000000    8075.000000   \n",
       "max    3.042188e+01    255.000000    255.000000     58.000000  328136.000000   \n",
       "\n",
       "           src_port      time_end    time_start  total_entropy         label  \\\n",
       "count  50000.000000  5.000000e+04  5.000000e+04   5.000000e+04  50000.000000   \n",
       "mean   43477.520580  1.446742e+15  1.445969e+15   1.535622e+04      0.634300   \n",
       "std    19767.471747  4.359535e+14  4.371167e+14   3.318598e+04      0.757347   \n",
       "min       -1.000000  1.592536e+10  1.592525e+11   0.000000e+00      0.000000   \n",
       "25%    38152.000000  1.592527e+15  1.592527e+15   2.097566e+03      0.000000   \n",
       "50%    52450.000000  1.592533e+15  1.592533e+15   2.146884e+03      0.000000   \n",
       "75%    55669.000000  1.592536e+15  1.592536e+15   2.401882e+04      1.000000   \n",
       "max    65534.000000  1.592536e+15  1.592536e+15   1.270000e+06      2.000000   \n",
       "\n",
       "           duration     Year    Month      Day  \n",
       "count  5.000000e+04  50000.0  50000.0  50000.0  \n",
       "mean            inf   2020.0      6.0     19.0  \n",
       "std    7.207031e+00      0.0      0.0      0.0  \n",
       "min    0.000000e+00   2020.0      6.0     19.0  \n",
       "25%    7.098913e-05   2020.0      6.0     19.0  \n",
       "50%    1.948547e-02   2020.0      6.0     19.0  \n",
       "75%    1.046875e+00   2020.0      6.0     19.0  \n",
       "max    4.103125e+01   2020.0      6.0     19.0  "
      ]
     },
     "execution_count": 5,
     "metadata": {},
     "output_type": "execute_result"
    }
   ],
   "source": [
    "data.describe()"
   ]
  },
  {
   "cell_type": "markdown",
   "metadata": {},
   "source": [
    "0 = Benign, 1 = Malicious, 2 = Outlier"
   ]
  },
  {
   "cell_type": "code",
   "execution_count": 8,
   "metadata": {},
   "outputs": [
    {
     "data": {
      "image/png": "[encoded data removed]",
      "text/plain": [
       "<Figure size 1200x600 with 1 Axes>"
      ]
     },
     "metadata": {},
     "output_type": "display_data"
    }
   ],
   "source": [
    "plt.figure(figsize=(12, 6))\n",
    "data['label'].value_counts().plot(kind='bar')\n",
    "plt.show()"
   ]
  },
  {
   "cell_type": "markdown",
   "metadata": {},
   "source": [
    "Majority of flows use TCP (protocol 6)"
   ]
  },
  {
   "cell_type": "code",
   "execution_count": 9,
   "metadata": {},
   "outputs": [
    {
     "data": {
      "image/png": "[encoded data removed]",
      "text/plain": [
       "<Figure size 1200x600 with 1 Axes>"
      ]
     },
     "metadata": {},
     "output_type": "display_data"
    }
   ],
   "source": [
    "plt.figure(figsize=(12, 6))\n",
    "data['proto'].value_counts().plot(kind='bar')\n",
    "plt.show()"
   ]
  },
  {
   "cell_type": "markdown",
   "metadata": {},
   "source": [
    "To go straight to modeling, run this cell"
   ]
  },
  {
   "cell_type": "code",
   "execution_count": 71,
   "metadata": {},
   "outputs": [
    {
     "name": "stdout",
     "output_type": "stream",
     "text": [
      "Memory usage after optimization is: 44.35 MB\n",
      "Decreased by 59.2%\n"
     ]
    },
    {
     "name": "stderr",
     "output_type": "stream",
     "text": [
      "/home/riley/base/lib/python3.10/site-packages/pandas/io/formats/format.py:1458: RuntimeWarning: overflow encountered in cast\n",
      "  has_large_values = (abs_vals > 1e6).any()\n",
      "/home/riley/base/lib/python3.10/site-packages/pandas/io/formats/format.py:1458: RuntimeWarning: overflow encountered in cast\n",
      "  has_large_values = (abs_vals > 1e6).any()\n"
     ]
    },
    {
     "data": {
      "text/html": [
       "<div>\n",
       "<style scoped>\n",
       "    .dataframe tbody tr th:only-of-type {\n",
       "        vertical-align: middle;\n",
       "    }\n",
       "\n",
       "    .dataframe tbody tr th {\n",
       "        vertical-align: top;\n",
       "    }\n",
       "\n",
       "    .dataframe thead th {\n",
       "        text-align: right;\n",
       "    }\n",
       "</style>\n",
       "<table border=\"1\" class=\"dataframe\">\n",
       "  <thead>\n",
       "    <tr style=\"text-align: right;\">\n",
       "      <th></th>\n",
       "      <th>avg_ipt</th>\n",
       "      <th>bytes_in</th>\n",
       "      <th>bytes_out</th>\n",
       "      <th>dest_port</th>\n",
       "      <th>entropy</th>\n",
       "      <th>num_pkts_out</th>\n",
       "      <th>num_pkts_in</th>\n",
       "      <th>src_port</th>\n",
       "      <th>total_entropy</th>\n",
       "      <th>label</th>\n",
       "      <th>...</th>\n",
       "      <th>Month</th>\n",
       "      <th>Day</th>\n",
       "      <th>proto_6</th>\n",
       "      <th>proto_17</th>\n",
       "      <th>proto_47</th>\n",
       "      <th>proto_58</th>\n",
       "      <th>proto_50</th>\n",
       "      <th>proto_51</th>\n",
       "      <th>proto_132</th>\n",
       "      <th>proto_89</th>\n",
       "    </tr>\n",
       "  </thead>\n",
       "  <tbody>\n",
       "    <tr>\n",
       "      <th>0</th>\n",
       "      <td>7.500000</td>\n",
       "      <td>342</td>\n",
       "      <td>3679</td>\n",
       "      <td>9200</td>\n",
       "      <td>5.437500</td>\n",
       "      <td>2</td>\n",
       "      <td>2</td>\n",
       "      <td>57392</td>\n",
       "      <td>21860.917969</td>\n",
       "      <td>0</td>\n",
       "      <td>...</td>\n",
       "      <td>6</td>\n",
       "      <td>19</td>\n",
       "      <td>1</td>\n",
       "      <td>0</td>\n",
       "      <td>0</td>\n",
       "      <td>0</td>\n",
       "      <td>0</td>\n",
       "      <td>0</td>\n",
       "      <td>0</td>\n",
       "      <td>0</td>\n",
       "    </tr>\n",
       "    <tr>\n",
       "      <th>2</th>\n",
       "      <td>0.500000</td>\n",
       "      <td>15440</td>\n",
       "      <td>942</td>\n",
       "      <td>9300</td>\n",
       "      <td>2.203125</td>\n",
       "      <td>3</td>\n",
       "      <td>3</td>\n",
       "      <td>60512</td>\n",
       "      <td>36091.753906</td>\n",
       "      <td>0</td>\n",
       "      <td>...</td>\n",
       "      <td>6</td>\n",
       "      <td>19</td>\n",
       "      <td>1</td>\n",
       "      <td>0</td>\n",
       "      <td>0</td>\n",
       "      <td>0</td>\n",
       "      <td>0</td>\n",
       "      <td>0</td>\n",
       "      <td>0</td>\n",
       "      <td>0</td>\n",
       "    </tr>\n",
       "    <tr>\n",
       "      <th>3</th>\n",
       "      <td>20.217392</td>\n",
       "      <td>622</td>\n",
       "      <td>31010</td>\n",
       "      <td>9300</td>\n",
       "      <td>1.190430</td>\n",
       "      <td>23</td>\n",
       "      <td>5</td>\n",
       "      <td>60490</td>\n",
       "      <td>37640.355469</td>\n",
       "      <td>0</td>\n",
       "      <td>...</td>\n",
       "      <td>6</td>\n",
       "      <td>19</td>\n",
       "      <td>1</td>\n",
       "      <td>0</td>\n",
       "      <td>0</td>\n",
       "      <td>0</td>\n",
       "      <td>0</td>\n",
       "      <td>0</td>\n",
       "      <td>0</td>\n",
       "      <td>0</td>\n",
       "    </tr>\n",
       "    <tr>\n",
       "      <th>4</th>\n",
       "      <td>0.000000</td>\n",
       "      <td>0</td>\n",
       "      <td>0</td>\n",
       "      <td>59498</td>\n",
       "      <td>0.000000</td>\n",
       "      <td>1</td>\n",
       "      <td>1</td>\n",
       "      <td>9300</td>\n",
       "      <td>0.000000</td>\n",
       "      <td>0</td>\n",
       "      <td>...</td>\n",
       "      <td>6</td>\n",
       "      <td>19</td>\n",
       "      <td>1</td>\n",
       "      <td>0</td>\n",
       "      <td>0</td>\n",
       "      <td>0</td>\n",
       "      <td>0</td>\n",
       "      <td>0</td>\n",
       "      <td>0</td>\n",
       "      <td>0</td>\n",
       "    </tr>\n",
       "    <tr>\n",
       "      <th>5</th>\n",
       "      <td>0.000000</td>\n",
       "      <td>0</td>\n",
       "      <td>0</td>\n",
       "      <td>59512</td>\n",
       "      <td>0.000000</td>\n",
       "      <td>1</td>\n",
       "      <td>1</td>\n",
       "      <td>9300</td>\n",
       "      <td>0.000000</td>\n",
       "      <td>0</td>\n",
       "      <td>...</td>\n",
       "      <td>6</td>\n",
       "      <td>19</td>\n",
       "      <td>1</td>\n",
       "      <td>0</td>\n",
       "      <td>0</td>\n",
       "      <td>0</td>\n",
       "      <td>0</td>\n",
       "      <td>0</td>\n",
       "      <td>0</td>\n",
       "      <td>0</td>\n",
       "    </tr>\n",
       "  </tbody>\n",
       "</table>\n",
       "<p>5 rows × 22 columns</p>\n",
       "</div>"
      ],
      "text/plain": [
       "     avg_ipt  bytes_in  bytes_out  dest_port   entropy  num_pkts_out  \\\n",
       "0   7.500000       342       3679       9200  5.437500             2   \n",
       "2   0.500000     15440        942       9300  2.203125             3   \n",
       "3  20.217392       622      31010       9300  1.190430            23   \n",
       "4   0.000000         0          0      59498  0.000000             1   \n",
       "5   0.000000         0          0      59512  0.000000             1   \n",
       "\n",
       "   num_pkts_in  src_port  total_entropy  label  ...  Month  Day  proto_6  \\\n",
       "0            2     57392   21860.917969      0  ...      6   19        1   \n",
       "2            3     60512   36091.753906      0  ...      6   19        1   \n",
       "3            5     60490   37640.355469      0  ...      6   19        1   \n",
       "4            1      9300       0.000000      0  ...      6   19        1   \n",
       "5            1      9300       0.000000      0  ...      6   19        1   \n",
       "\n",
       "   proto_17  proto_47  proto_58  proto_50  proto_51  proto_132  proto_89  \n",
       "0         0         0         0         0         0          0         0  \n",
       "2         0         0         0         0         0          0         0  \n",
       "3         0         0         0         0         0          0         0  \n",
       "4         0         0         0         0         0          0         0  \n",
       "5         0         0         0         0         0          0         0  \n",
       "\n",
       "[5 rows x 22 columns]"
      ]
     },
     "execution_count": 71,
     "metadata": {},
     "output_type": "execute_result"
    }
   ],
   "source": [
    "def preprocess(data_path, num_rows=50_000):\n",
    "    data = pd.read_csv(data_path, nrows=num_rows)\n",
    "    data = reduce_mem_usage(data)\n",
    "    data.dest_port = data.dest_port.fillna(-1).astype('int64')\n",
    "    data.src_port = data.src_port.fillna(-1).astype('int64')\n",
    "    data = pd.get_dummies(data, columns=['proto'], drop_first=True, dtype='int8')\n",
    "    data.drop(['src_ip', 'dest_ip', 'time_start', 'time_end'], axis=1, inplace=True)\n",
    "    data = data[data.label != 2] # remove outlier class\n",
    "    return data\n",
    "\n",
    "protocols = {'6', '17', '47', '50', '51', '58', '89', '132'} # assume '1' is dropped\n",
    "data = preprocess(combined_data_path, 750_000)\n",
    "for proto in protocols:\n",
    "    col_name = f'proto_{proto}'\n",
    "    if col_name not in data.columns:\n",
    "        data[col_name] = 0\n",
    "\n",
    "data.head()"
   ]
  },
  {
   "cell_type": "code",
   "execution_count": 72,
   "metadata": {},
   "outputs": [
    {
     "data": {
      "text/plain": [
       "Index(['avg_ipt', 'bytes_in', 'bytes_out', 'dest_port', 'entropy',\n",
       "       'num_pkts_out', 'num_pkts_in', 'src_port', 'total_entropy', 'label',\n",
       "       'duration', 'Year', 'Month', 'Day', 'proto_6', 'proto_17', 'proto_47',\n",
       "       'proto_58', 'proto_50', 'proto_51', 'proto_132', 'proto_89'],\n",
       "      dtype='object')"
      ]
     },
     "execution_count": 72,
     "metadata": {},
     "output_type": "execute_result"
    }
   ],
   "source": [
    "data.columns"
   ]
  },
  {
   "cell_type": "markdown",
   "metadata": {},
   "source": [
    "Columns to drop: src/dest_ip, time_start/end"
   ]
  },
  {
   "cell_type": "code",
   "execution_count": 53,
   "metadata": {},
   "outputs": [],
   "source": [
    "cols_to_scale = ['avg_ipt', 'bytes_in', 'bytes_out', 'num_pkts_in', 'num_pkts_out', 'total_entropy', 'entropy', 'duration']\n",
    "X_train, X_test, y_train, y_test = train_test_split(data.drop(['label', 'Year', 'Month', 'Day'], axis=1), data['label'], test_size=0.2, random_state=42)\n",
    "scaler = MinMaxScaler()\n",
    "X_train[cols_to_scale] = scaler.fit_transform(X_train[cols_to_scale])\n",
    "X_test[cols_to_scale] = scaler.transform(X_test[cols_to_scale])\n",
    "X_test = torch.tensor(X_test.to_numpy(), dtype=torch.float32)\n",
    "\n",
    "X_train_normal = X_train[y_train == 0]\n",
    "X_train_outliers = X_train[y_train == 1]\n",
    "\n",
    "# Convert to PyTorch tensors\n",
    "X_train = torch.tensor(X_train_normal.to_numpy(), dtype=torch.float32)\n",
    "X_train, X_val = X_train[:int(0.8 * len(X_train))], X_train[int(0.8 * len(X_train)):]\n",
    "\n",
    "# Create DataLoader for batch training\n",
    "train_dataset = TensorDataset(X_train)\n",
    "val_dataset = TensorDataset(X_val)\n",
    "train_loader = DataLoader(train_dataset, batch_size=32, shuffle=True)\n",
    "val_loader = DataLoader(val_dataset, batch_size=32, shuffle=False)"
   ]
  },
  {
   "cell_type": "code",
   "execution_count": 54,
   "metadata": {},
   "outputs": [],
   "source": [
    "class Autoencoder(nn.Module):\n",
    "    def __init__(self, input_dim):\n",
    "        super(Autoencoder, self).__init__()\n",
    "\n",
    "        self.encoder = nn.Sequential(\n",
    "            nn.Linear(input_dim, input_dim // 2),\n",
    "            nn.BatchNorm1d(input_dim // 2),\n",
    "            nn.LeakyReLU(),\n",
    "            nn.Linear(input_dim // 2, input_dim // 3),\n",
    "            nn.BatchNorm1d(input_dim // 3),\n",
    "            nn.LeakyReLU(),\n",
    "            nn.Linear(input_dim // 3, 1),\n",
    "            nn.LeakyReLU(),\n",
    "        )\n",
    "\n",
    "        self.decoder = nn.Sequential(\n",
    "            nn.Linear(1, input_dim // 3),\n",
    "            nn.BatchNorm1d(input_dim // 3),\n",
    "            nn.LeakyReLU(),\n",
    "            nn.Linear(input_dim // 3, input_dim // 2),\n",
    "            nn.BatchNorm1d(input_dim // 2),\n",
    "            nn.LeakyReLU(),\n",
    "            nn.Linear(input_dim // 2, input_dim),\n",
    "            nn.LeakyReLU()\n",
    "        )\n",
    "\n",
    "    def forward(self, x):\n",
    "        encoded = self.encoder(x)\n",
    "        decoded = self.decoder(encoded)\n",
    "        return decoded\n",
    "\n",
    "# Initialize model\n",
    "input_dim = X_train.shape[1] # currently 18\n",
    "model = Autoencoder(input_dim)\n",
    "\n",
    "# Define loss function and optimizer\n",
    "criterion = nn.MSELoss()\n",
    "optimizer = optim.Adam(model.parameters(), lr=1e-3, weight_decay=1e-5)\n",
    "model_path = os.path.join(src_dir, \"nids_helpers/detection_model/autoencoder.pth\")\n",
    "scaler_path = os.path.join(src_dir, \"nids_helpers/detection_model/scaler.pkl\")"
   ]
  },
  {
   "cell_type": "code",
   "execution_count": 55,
   "metadata": {},
   "outputs": [],
   "source": [
    "def augment_flow_data(x, noise_factor=0.05):\n",
    "    noise = torch.randn_like(x) * noise_factor\n",
    "    return x + noise"
   ]
  },
  {
   "cell_type": "code",
   "execution_count": 57,
   "metadata": {},
   "outputs": [
    {
     "name": "stdout",
     "output_type": "stream",
     "text": [
      "Epoch 1/20\n"
     ]
    },
    {
     "name": "stderr",
     "output_type": "stream",
     "text": [
      "100%|██████████| 7430/7430 [00:18<00:00, 402.14it/s, running_loss=150329979]\n"
     ]
    },
    {
     "name": "stdout",
     "output_type": "stream",
     "text": [
      "Train Loss: 150329978.516285, Validation Loss: 146340579.625404\n",
      "Epoch 2/20\n"
     ]
    },
    {
     "name": "stderr",
     "output_type": "stream",
     "text": [
      "100%|██████████| 7430/7430 [00:18<00:00, 402.95it/s, running_loss=139677096]\n"
     ]
    },
    {
     "name": "stdout",
     "output_type": "stream",
     "text": [
      "Train Loss: 139677095.507941, Validation Loss: 135697069.636168\n",
      "Epoch 3/20\n"
     ]
    },
    {
     "name": "stderr",
     "output_type": "stream",
     "text": [
      "100%|██████████| 7430/7430 [00:18<00:00, 400.67it/s, running_loss=123149633]\n"
     ]
    },
    {
     "name": "stdout",
     "output_type": "stream",
     "text": [
      "Train Loss: 123149632.928129, Validation Loss: 115976203.319699\n",
      "Epoch 4/20\n"
     ]
    },
    {
     "name": "stderr",
     "output_type": "stream",
     "text": [
      "100%|██████████| 7430/7430 [00:18<00:00, 404.46it/s, running_loss=103590341]\n"
     ]
    },
    {
     "name": "stdout",
     "output_type": "stream",
     "text": [
      "Train Loss: 103590340.852759, Validation Loss: 114047892.008611\n",
      "Epoch 5/20\n"
     ]
    },
    {
     "name": "stderr",
     "output_type": "stream",
     "text": [
      "100%|██████████| 7430/7430 [00:18<00:00, 395.03it/s, running_loss=82574083]\n"
     ]
    },
    {
     "name": "stdout",
     "output_type": "stream",
     "text": [
      "Train Loss: 82574083.030417, Validation Loss: 69015806.292788\n",
      "Epoch 6/20\n"
     ]
    },
    {
     "name": "stderr",
     "output_type": "stream",
     "text": [
      "100%|██████████| 7430/7430 [00:18<00:00, 396.32it/s, running_loss=62540185]\n"
     ]
    },
    {
     "name": "stdout",
     "output_type": "stream",
     "text": [
      "Train Loss: 62540185.120323, Validation Loss: 52364329.181916\n",
      "Epoch 7/20\n"
     ]
    },
    {
     "name": "stderr",
     "output_type": "stream",
     "text": [
      "100%|██████████| 7430/7430 [00:18<00:00, 398.00it/s, running_loss=46605874]\n"
     ]
    },
    {
     "name": "stdout",
     "output_type": "stream",
     "text": [
      "Train Loss: 46605873.571736, Validation Loss: 47664096.090420\n",
      "Epoch 8/20\n"
     ]
    },
    {
     "name": "stderr",
     "output_type": "stream",
     "text": [
      "100%|██████████| 7430/7430 [00:18<00:00, 397.25it/s, running_loss=37769653]\n"
     ]
    },
    {
     "name": "stdout",
     "output_type": "stream",
     "text": [
      "Train Loss: 37769652.962988, Validation Loss: 41989950.202906\n",
      "Epoch 9/20\n"
     ]
    },
    {
     "name": "stderr",
     "output_type": "stream",
     "text": [
      "100%|██████████| 7430/7430 [00:18<00:00, 398.44it/s, running_loss=35416627]\n"
     ]
    },
    {
     "name": "stdout",
     "output_type": "stream",
     "text": [
      "Train Loss: 35416626.559085, Validation Loss: 45700800.212056\n",
      "Epoch 10/20\n"
     ]
    },
    {
     "name": "stderr",
     "output_type": "stream",
     "text": [
      "100%|██████████| 7430/7430 [00:18<00:00, 396.62it/s, running_loss=30279997]\n"
     ]
    },
    {
     "name": "stdout",
     "output_type": "stream",
     "text": [
      "Train Loss: 30279996.604172, Validation Loss: 28162012.371502\n",
      "Epoch 11/20\n"
     ]
    },
    {
     "name": "stderr",
     "output_type": "stream",
     "text": [
      "100%|██████████| 7430/7430 [00:18<00:00, 398.36it/s, running_loss=25604214]\n"
     ]
    },
    {
     "name": "stdout",
     "output_type": "stream",
     "text": [
      "Train Loss: 25604214.100572, Validation Loss: 22293784.901372\n",
      "Epoch 12/20\n"
     ]
    },
    {
     "name": "stderr",
     "output_type": "stream",
     "text": [
      "100%|██████████| 7430/7430 [00:18<00:00, 403.36it/s, running_loss=21380132]\n"
     ]
    },
    {
     "name": "stdout",
     "output_type": "stream",
     "text": [
      "Train Loss: 21380131.908345, Validation Loss: 21080620.484661\n",
      "Epoch 13/20\n"
     ]
    },
    {
     "name": "stderr",
     "output_type": "stream",
     "text": [
      "100%|██████████| 7430/7430 [00:18<00:00, 399.16it/s, running_loss=16936641]\n"
     ]
    },
    {
     "name": "stdout",
     "output_type": "stream",
     "text": [
      "Train Loss: 16936641.241756, Validation Loss: 12878074.643972\n",
      "Epoch 14/20\n"
     ]
    },
    {
     "name": "stderr",
     "output_type": "stream",
     "text": [
      "100%|██████████| 7430/7430 [00:18<00:00, 401.40it/s, running_loss=12588083]\n"
     ]
    },
    {
     "name": "stdout",
     "output_type": "stream",
     "text": [
      "Train Loss: 12588082.841319, Validation Loss: 8714591.158773\n",
      "Epoch 15/20\n"
     ]
    },
    {
     "name": "stderr",
     "output_type": "stream",
     "text": [
      "100%|██████████| 7430/7430 [00:18<00:00, 401.55it/s, running_loss=8729760] \n"
     ]
    },
    {
     "name": "stdout",
     "output_type": "stream",
     "text": [
      "Train Loss: 8729760.236692, Validation Loss: 8964542.264801\n",
      "Epoch 16/20\n"
     ]
    },
    {
     "name": "stderr",
     "output_type": "stream",
     "text": [
      "100%|██████████| 7430/7430 [00:17<00:00, 414.43it/s, running_loss=5592716]\n"
     ]
    },
    {
     "name": "stdout",
     "output_type": "stream",
     "text": [
      "Train Loss: 5592716.343271, Validation Loss: 4446500.335710\n",
      "Epoch 17/20\n"
     ]
    },
    {
     "name": "stderr",
     "output_type": "stream",
     "text": [
      "100%|██████████| 7430/7430 [00:17<00:00, 416.49it/s, running_loss=3331647]\n"
     ]
    },
    {
     "name": "stdout",
     "output_type": "stream",
     "text": [
      "Train Loss: 3331647.370786, Validation Loss: 32528939.587729\n",
      "Epoch 18/20\n"
     ]
    },
    {
     "name": "stderr",
     "output_type": "stream",
     "text": [
      "100%|██████████| 7430/7430 [00:18<00:00, 406.98it/s, running_loss=2018072]\n"
     ]
    },
    {
     "name": "stdout",
     "output_type": "stream",
     "text": [
      "Early stopping at epoch 18\n",
      "Train Loss: 2018072.086605, Validation Loss: 7217485.768030\n"
     ]
    }
   ],
   "source": [
    "# Train the autoencoder\n",
    "num_epochs = 20\n",
    "\n",
    "device = torch.device(\"cuda\" if torch.cuda.is_available() else \"cpu\")\n",
    "model.to(device)\n",
    "train_losses = []\n",
    "val_losses = []\n",
    "\n",
    "patience = 2\n",
    "best_val_loss = float('inf')\n",
    "counter = 0\n",
    "\n",
    "for epoch in range(num_epochs):\n",
    "    print(f\"Epoch {epoch+1}/{num_epochs}\")\n",
    "    total_train_loss = 0\n",
    "    batch_train_losses = []\n",
    "\n",
    "    # Initialize running_loss before the loop\n",
    "    running_loss = 0.0\n",
    "\n",
    "    # Create tqdm object without initial postfix\n",
    "    pbar = tqdm(train_loader)\n",
    "\n",
    "    model.train()\n",
    "    #for batch_idx, batch in enumerate(train_loader):\n",
    "    for batch in pbar:\n",
    "        data = batch[0]\n",
    "        data = augment_flow_data(data)\n",
    "        data = data.to(device)\n",
    "        optimizer.zero_grad()\n",
    "        reconstructed = model(data)\n",
    "        loss = criterion(reconstructed, data)  # MSE loss\n",
    "        loss.backward()\n",
    "        optimizer.step()\n",
    "\n",
    "        total_train_loss += loss.item()\n",
    "        batch_train_losses.append(loss.item())\n",
    "        running_loss = np.mean(batch_train_losses)\n",
    "        pbar.set_postfix({\"running_loss\": f\"{running_loss:.0f}\"})\n",
    "\n",
    "\n",
    "    epoch_train_loss = total_train_loss / len(train_loader)\n",
    "    train_losses.append(epoch_train_loss)\n",
    "\n",
    "    model.eval()\n",
    "    total_val_loss = 0\n",
    "    with torch.no_grad():\n",
    "        for batch in val_loader:\n",
    "            data = batch[0].to(device)\n",
    "            reconstructed = model(data)\n",
    "            loss = criterion(reconstructed, data)\n",
    "            total_val_loss += loss.item()\n",
    "\n",
    "    epoch_val_loss = total_val_loss / len(val_loader)\n",
    "    val_losses.append(epoch_val_loss)\n",
    "\n",
    "    # Early stopping\n",
    "    if epoch_val_loss < best_val_loss:\n",
    "        best_val_loss = epoch_val_loss\n",
    "        counter = 0\n",
    "        torch.save(model.state_dict(), model_path)\n",
    "    else:\n",
    "        counter += 1\n",
    "        if counter >= patience:\n",
    "            print(f\"Early stopping at epoch {epoch+1}\")\n",
    "            print(f\"Train Loss: {epoch_train_loss:.6f}, Validation Loss: {epoch_val_loss:.6f}\")\n",
    "            break\n",
    "\n",
    "    print(f\"Train Loss: {epoch_train_loss:.6f}, Validation Loss: {epoch_val_loss:.6f}\")"
   ]
  },
  {
   "cell_type": "code",
   "execution_count": 58,
   "metadata": {},
   "outputs": [
    {
     "name": "stdout",
     "output_type": "stream",
     "text": [
      "Test Loss: 9835108.000000\n"
     ]
    }
   ],
   "source": [
    "# evaluate the model on the test set\n",
    "model.load_state_dict(torch.load(model_path))\n",
    "model.to(device)\n",
    "X_test = X_test.to(device)\n",
    "model.eval()\n",
    "with torch.no_grad():\n",
    "    reconstructed = model(X_test)\n",
    "    test_loss = criterion(reconstructed, X_test)\n",
    "    print(f\"Test Loss: {test_loss.item():.6f}\")"
   ]
  },
  {
   "cell_type": "code",
   "execution_count": 59,
   "metadata": {},
   "outputs": [],
   "source": [
    "def compute_reconstruction_error(model, data_loader, device):\n",
    "    model.eval()\n",
    "    reconstruction_errors = []\n",
    "    with torch.no_grad():\n",
    "        for batch in data_loader:\n",
    "            data = batch[0].to(device)\n",
    "            reconstructed = model(data)\n",
    "            # Calculate MSE for each sample individually (not batch average)\n",
    "            errors = torch.mean((reconstructed - data) ** 2, dim=1)\n",
    "            reconstruction_errors.extend(errors.cpu().numpy())\n",
    "    return np.array(reconstruction_errors)\n",
    "\n",
    "# For anomalous validation data, use some samples from the outliers\n",
    "X_val_anomalous = torch.tensor(X_train_outliers.sample(min(len(X_val), len(X_train_outliers))).to_numpy(), dtype=torch.float32)\n",
    "X_val_anomalous_dataset = TensorDataset(X_val_anomalous)\n",
    "val_anomalous_loader = DataLoader(X_val_anomalous_dataset, batch_size=32, shuffle=False)"
   ]
  },
  {
   "cell_type": "code",
   "execution_count": 60,
   "metadata": {},
   "outputs": [
    {
     "data": {
      "text/plain": [
       "(array([ 5117750.5, 19108572. ,  3656672. , ...,  4130294.2,  4138362.2,\n",
       "         4138028.5], shape=(59439,), dtype=float32),\n",
       " array([17100154., 15329753., 29197500., ..., 15596546., 13927517.,\n",
       "        21952636.], shape=(59439,), dtype=float32))"
      ]
     },
     "execution_count": 60,
     "metadata": {},
     "output_type": "execute_result"
    }
   ],
   "source": [
    "# Compute reconstruction errors\n",
    "normal_errors = compute_reconstruction_error(model, val_loader, device)\n",
    "anomalous_errors = compute_reconstruction_error(model, val_anomalous_loader, device)\n",
    "normal_errors, anomalous_errors"
   ]
  },
  {
   "cell_type": "code",
   "execution_count": 45,
   "metadata": {},
   "outputs": [],
   "source": [
    "def plot_reconstruction_errors(normal_errors, anomalous_errors):\n",
    "    # Combine normal and anomalous errors\n",
    "    all_errors = np.concatenate([normal_errors, anomalous_errors])\n",
    "    # Labels: 0 for normal, 1 for anomalous\n",
    "    all_labels = np.concatenate([np.zeros(len(normal_errors)), np.ones(len(anomalous_errors))])\n",
    "\n",
    "    # Calculate ROC curve\n",
    "    fpr, tpr, thresholds = roc_curve(all_labels, all_errors)\n",
    "    roc_auc = auc(fpr, tpr)\n",
    "\n",
    "    # Calculate Precision-Recall curve\n",
    "    precision, recall, pr_thresholds = precision_recall_curve(all_labels, all_errors)\n",
    "    average_precision = average_precision_score(all_labels, all_errors)\n",
    "\n",
    "    # Plot the distributions and curves\n",
    "    plt.figure(figsize=(15, 5))\n",
    "\n",
    "    # Plot 1: Error distributions\n",
    "    plt.subplot(1, 3, 1)\n",
    "    plt.hist(normal_errors, bins=50, alpha=0.5, label='Normal')\n",
    "    plt.hist(anomalous_errors, bins=50, alpha=0.5, label='Anomalous')\n",
    "    plt.xlabel('Reconstruction Error')\n",
    "    plt.ylabel('Count')\n",
    "    plt.legend()\n",
    "    plt.title('Reconstruction Error Distributions')\n",
    "\n",
    "    # Plot 2: ROC curve\n",
    "    plt.subplot(1, 3, 2)\n",
    "    plt.plot(fpr, tpr, label=f'AUC = {roc_auc:.3f}')\n",
    "    plt.plot([0, 1], [0, 1], 'k--')\n",
    "    plt.xlabel('False Positive Rate')\n",
    "    plt.ylabel('True Positive Rate')\n",
    "    plt.title('ROC Curve')\n",
    "    plt.legend()\n",
    "\n",
    "    # Plot 3: Precision-Recall curve\n",
    "    plt.subplot(1, 3, 3)\n",
    "    plt.plot(recall, precision, label=f'AP = {average_precision:.3f}')\n",
    "    plt.xlabel('Recall')\n",
    "    plt.ylabel('Precision')\n",
    "    plt.title('Precision-Recall Curve')\n",
    "    plt.legend()\n",
    "\n",
    "    plt.tight_layout()\n",
    "    plt.show()\n",
    "\n",
    "    return all_errors, all_labels, pr_thresholds"
   ]
  },
  {
   "cell_type": "code",
   "execution_count": 61,
   "metadata": {},
   "outputs": [
    {
     "data": {
      "image/png": "[encoded data removed]",
      "text/plain": [
       "<Figure size 1500x500 with 3 Axes>"
      ]
     },
     "metadata": {},
     "output_type": "display_data"
    }
   ],
   "source": [
    "all_errors, all_labels, pr_thresholds = plot_reconstruction_errors(normal_errors, anomalous_errors)"
   ]
  },
  {
   "cell_type": "code",
   "execution_count": 62,
   "metadata": {},
   "outputs": [],
   "source": [
    "def get_optimal_threshold(pr_thresholds, all_errors, all_labels):\n",
    "    f1_scores = []\n",
    "    for threshold in tqdm(pr_thresholds):\n",
    "        predictions = (all_errors >= threshold).astype(int)\n",
    "        f1 = f1_score(all_labels, predictions)\n",
    "        f1_scores.append(f1)\n",
    "\n",
    "    optimal_idx = np.argmax(f1_scores)\n",
    "    optimal_threshold = pr_thresholds[optimal_idx]\n",
    "    best_f1 = f1_scores[optimal_idx]\n",
    "\n",
    "    print(f\"Optimal threshold: {optimal_threshold:.6f}, F1 Score: {best_f1:.4f}\")\n",
    "    return optimal_threshold"
   ]
  },
  {
   "cell_type": "code",
   "execution_count": 63,
   "metadata": {},
   "outputs": [
    {
     "name": "stderr",
     "output_type": "stream",
     "text": [
      "100%|██████████| 49515/49515 [03:05<00:00, 267.56it/s]"
     ]
    },
    {
     "name": "stdout",
     "output_type": "stream",
     "text": [
      "Optimal threshold: 5737109.500000, F1 Score: 0.9642\n"
     ]
    },
    {
     "name": "stderr",
     "output_type": "stream",
     "text": [
      "\n"
     ]
    }
   ],
   "source": [
    "optimal_threshold = get_optimal_threshold(pr_thresholds, all_errors, all_labels)"
   ]
  },
  {
   "cell_type": "code",
   "execution_count": 64,
   "metadata": {},
   "outputs": [],
   "source": [
    "# Step 4: Final anomaly detection function\n",
    "def detect_anomalies(model, dataloader, threshold, device):\n",
    "    model.eval()\n",
    "    predictions = []\n",
    "    reconstruction_errors = []\n",
    "    \n",
    "    with torch.no_grad():\n",
    "        for batch in dataloader:\n",
    "            data = batch[0].to(device)\n",
    "            reconstructed = model(data)\n",
    "            errors = torch.mean((reconstructed - data) ** 2, dim=1)\n",
    "            batch_predictions = (errors >= threshold).int()\n",
    "            \n",
    "            predictions.extend(batch_predictions.cpu().numpy())\n",
    "            reconstruction_errors.extend(errors.cpu().numpy())\n",
    "            \n",
    "    return np.array(predictions), np.array(reconstruction_errors)"
   ]
  },
  {
   "cell_type": "code",
   "execution_count": 65,
   "metadata": {},
   "outputs": [
    {
     "name": "stdout",
     "output_type": "stream",
     "text": [
      "\n",
      "Test Set Performance:\n",
      "              precision    recall  f1-score   support\n",
      "\n",
      "           0       0.98      0.95      0.97     74085\n",
      "           1       0.93      0.98      0.96     51568\n",
      "\n",
      "    accuracy                           0.96    125653\n",
      "   macro avg       0.96      0.96      0.96    125653\n",
      "weighted avg       0.96      0.96      0.96    125653\n",
      "\n",
      "\n",
      "Confusion Matrix:\n"
     ]
    },
    {
     "data": {
      "text/plain": [
       "<Axes: >"
      ]
     },
     "execution_count": 65,
     "metadata": {},
     "output_type": "execute_result"
    },
    {
     "data": {
      "image/png": "[encoded data removed]",
      "text/plain": [
       "<Figure size 640x480 with 2 Axes>"
      ]
     },
     "metadata": {},
     "output_type": "display_data"
    }
   ],
   "source": [
    "# Create DataLoader for test data with both normal and anomalous samples\n",
    "test_dataset = TensorDataset(X_test)\n",
    "test_loader = DataLoader(test_dataset, batch_size=32, shuffle=False)\n",
    "\n",
    "# Get ground truth labels\n",
    "y_test_np = y_test.to_numpy()\n",
    "\n",
    "# Detect anomalies\n",
    "predictions, errors = detect_anomalies(model, test_loader, optimal_threshold, device)\n",
    "\n",
    "# Calculate metrics\n",
    "print(\"\\nTest Set Performance:\")\n",
    "print(classification_report(y_test_np, predictions))\n",
    "print(\"\\nConfusion Matrix:\")\n",
    "sns.heatmap(confusion_matrix(y_test_np, predictions), annot=True, fmt='d', cmap='Blues')"
   ]
  },
  {
   "cell_type": "code",
   "execution_count": 66,
   "metadata": {},
   "outputs": [],
   "source": [
    "# Step 6: Function to predict on new data\n",
    "def predict_anomaly(model, new_data, scaler, threshold, device, cols_to_scale, one_hot_columns):\n",
    "    \"\"\"\n",
    "    Predict if a new network flow is anomalous\n",
    "    \n",
    "    Parameters:\n",
    "    - model: Trained autoencoder model\n",
    "    - new_data: Pandas DataFrame with a single flow or multiple flows\n",
    "    - scaler: Fitted MinMaxScaler\n",
    "    - threshold: Optimal threshold for anomaly detection\n",
    "    - device: torch device\n",
    "    - cols_to_scale: List of columns to scale\n",
    "    - one_hot_columns: List of columns to one-hot encode\n",
    "    \n",
    "    Returns:\n",
    "    - Predictions (0: normal, 1: anomalous)\n",
    "    - Reconstruction errors\n",
    "    \"\"\"\n",
    "    # Preprocess the data\n",
    "    data_processed = pd.get_dummies(new_data, columns=one_hot_columns, drop_first=True, dtype='int8')\n",
    "    \n",
    "    # Handle missing columns that might be in the training data but not in new data\n",
    "    for col in one_hot_columns:\n",
    "        expected_cols = [f\"{col}_{cat}\" for cat in data[col].unique()[1:]]  # drop_first=True\n",
    "        for exp_col in expected_cols:\n",
    "            if exp_col not in data_processed.columns:\n",
    "                data_processed[exp_col] = 0\n",
    "    \n",
    "    # Scale the numeric columns\n",
    "    data_processed[cols_to_scale] = scaler.transform(data_processed[cols_to_scale])\n",
    "    \n",
    "    # Convert to tensor\n",
    "    data_tensor = torch.tensor(data_processed.to_numpy(), dtype=torch.float32).to(device)\n",
    "    \n",
    "    # Get reconstruction error\n",
    "    model.eval()\n",
    "    with torch.no_grad():\n",
    "        reconstructed = model(data_tensor)\n",
    "        errors = torch.mean((reconstructed - data_tensor) ** 2, dim=1)\n",
    "        predictions = (errors >= threshold).int()\n",
    "    \n",
    "    return predictions.cpu().numpy(), errors.cpu().numpy()"
   ]
  },
  {
   "cell_type": "code",
   "execution_count": 67,
   "metadata": {},
   "outputs": [],
   "source": [
    "# save scaler\n",
    "with open(scaler_path, 'wb') as f:\n",
    "    pickle.dump(scaler, f)"
   ]
  },
  {
   "cell_type": "code",
   "execution_count": null,
   "metadata": {},
   "outputs": [
    {
     "data": {
      "text/html": [
       "<style>#sk-container-id-1 {\n",
       "  /* Definition of color scheme common for light and dark mode */\n",
       "  --sklearn-color-text: #000;\n",
       "  --sklearn-color-text-muted: #666;\n",
       "  --sklearn-color-line: gray;\n",
       "  /* Definition of color scheme for unfitted estimators */\n",
       "  --sklearn-color-unfitted-level-0: #fff5e6;\n",
       "  --sklearn-color-unfitted-level-1: #f6e4d2;\n",
       "  --sklearn-color-unfitted-level-2: #ffe0b3;\n",
       "  --sklearn-color-unfitted-level-3: chocolate;\n",
       "  /* Definition of color scheme for fitted estimators */\n",
       "  --sklearn-color-fitted-level-0: #f0f8ff;\n",
       "  --sklearn-color-fitted-level-1: #d4ebff;\n",
       "  --sklearn-color-fitted-level-2: #b3dbfd;\n",
       "  --sklearn-color-fitted-level-3: cornflowerblue;\n",
       "\n",
       "  /* Specific color for light theme */\n",
       "  --sklearn-color-text-on-default-background: var(--sg-text-color, var(--theme-code-foreground, var(--jp-content-font-color1, black)));\n",
       "  --sklearn-color-background: var(--sg-background-color, var(--theme-background, var(--jp-layout-color0, white)));\n",
       "  --sklearn-color-border-box: var(--sg-text-color, var(--theme-code-foreground, var(--jp-content-font-color1, black)));\n",
       "  --sklearn-color-icon: #696969;\n",
       "\n",
       "  @media (prefers-color-scheme: dark) {\n",
       "    /* Redefinition of color scheme for dark theme */\n",
       "    --sklearn-color-text-on-default-background: var(--sg-text-color, var(--theme-code-foreground, var(--jp-content-font-color1, white)));\n",
       "    --sklearn-color-background: var(--sg-background-color, var(--theme-background, var(--jp-layout-color0, #111)));\n",
       "    --sklearn-color-border-box: var(--sg-text-color, var(--theme-code-foreground, var(--jp-content-font-color1, white)));\n",
       "    --sklearn-color-icon: #878787;\n",
       "  }\n",
       "}\n",
       "\n",
       "#sk-container-id-1 {\n",
       "  color: var(--sklearn-color-text);\n",
       "}\n",
       "\n",
       "#sk-container-id-1 pre {\n",
       "  padding: 0;\n",
       "}\n",
       "\n",
       "#sk-container-id-1 input.sk-hidden--visually {\n",
       "  border: 0;\n",
       "  clip: rect(1px 1px 1px 1px);\n",
       "  clip: rect(1px, 1px, 1px, 1px);\n",
       "  height: 1px;\n",
       "  margin: -1px;\n",
       "  overflow: hidden;\n",
       "  padding: 0;\n",
       "  position: absolute;\n",
       "  width: 1px;\n",
       "}\n",
       "\n",
       "#sk-container-id-1 div.sk-dashed-wrapped {\n",
       "  border: 1px dashed var(--sklearn-color-line);\n",
       "  margin: 0 0.4em 0.5em 0.4em;\n",
       "  box-sizing: border-box;\n",
       "  padding-bottom: 0.4em;\n",
       "  background-color: var(--sklearn-color-background);\n",
       "}\n",
       "\n",
       "#sk-container-id-1 div.sk-container {\n",
       "  /* jupyter's `normalize.less` sets `[hidden] { display: none; }`\n",
       "     but bootstrap.min.css set `[hidden] { display: none !important; }`\n",
       "     so we also need the `!important` here to be able to override the\n",
       "     default hidden behavior on the sphinx rendered scikit-learn.org.\n",
       "     See: https://github.com/scikit-learn/scikit-learn/issues/21755 */\n",
       "  display: inline-block !important;\n",
       "  position: relative;\n",
       "}\n",
       "\n",
       "#sk-container-id-1 div.sk-text-repr-fallback {\n",
       "  display: none;\n",
       "}\n",
       "\n",
       "div.sk-parallel-item,\n",
       "div.sk-serial,\n",
       "div.sk-item {\n",
       "  /* draw centered vertical line to link estimators */\n",
       "  background-image: linear-gradient(var(--sklearn-color-text-on-default-background), var(--sklearn-color-text-on-default-background));\n",
       "  background-size: 2px 100%;\n",
       "  background-repeat: no-repeat;\n",
       "  background-position: center center;\n",
       "}\n",
       "\n",
       "/* Parallel-specific style estimator block */\n",
       "\n",
       "#sk-container-id-1 div.sk-parallel-item::after {\n",
       "  content: \"\";\n",
       "  width: 100%;\n",
       "  border-bottom: 2px solid var(--sklearn-color-text-on-default-background);\n",
       "  flex-grow: 1;\n",
       "}\n",
       "\n",
       "#sk-container-id-1 div.sk-parallel {\n",
       "  display: flex;\n",
       "  align-items: stretch;\n",
       "  justify-content: center;\n",
       "  background-color: var(--sklearn-color-background);\n",
       "  position: relative;\n",
       "}\n",
       "\n",
       "#sk-container-id-1 div.sk-parallel-item {\n",
       "  display: flex;\n",
       "  flex-direction: column;\n",
       "}\n",
       "\n",
       "#sk-container-id-1 div.sk-parallel-item:first-child::after {\n",
       "  align-self: flex-end;\n",
       "  width: 50%;\n",
       "}\n",
       "\n",
       "#sk-container-id-1 div.sk-parallel-item:last-child::after {\n",
       "  align-self: flex-start;\n",
       "  width: 50%;\n",
       "}\n",
       "\n",
       "#sk-container-id-1 div.sk-parallel-item:only-child::after {\n",
       "  width: 0;\n",
       "}\n",
       "\n",
       "/* Serial-specific style estimator block */\n",
       "\n",
       "#sk-container-id-1 div.sk-serial {\n",
       "  display: flex;\n",
       "  flex-direction: column;\n",
       "  align-items: center;\n",
       "  background-color: var(--sklearn-color-background);\n",
       "  padding-right: 1em;\n",
       "  padding-left: 1em;\n",
       "}\n",
       "\n",
       "\n",
       "/* Toggleable style: style used for estimator/Pipeline/ColumnTransformer box that is\n",
       "clickable and can be expanded/collapsed.\n",
       "- Pipeline and ColumnTransformer use this feature and define the default style\n",
       "- Estimators will overwrite some part of the style using the `sk-estimator` class\n",
       "*/\n",
       "\n",
       "/* Pipeline and ColumnTransformer style (default) */\n",
       "\n",
       "#sk-container-id-1 div.sk-toggleable {\n",
       "  /* Default theme specific background. It is overwritten whether we have a\n",
       "  specific estimator or a Pipeline/ColumnTransformer */\n",
       "  background-color: var(--sklearn-color-background);\n",
       "}\n",
       "\n",
       "/* Toggleable label */\n",
       "#sk-container-id-1 label.sk-toggleable__label {\n",
       "  cursor: pointer;\n",
       "  display: flex;\n",
       "  width: 100%;\n",
       "  margin-bottom: 0;\n",
       "  padding: 0.5em;\n",
       "  box-sizing: border-box;\n",
       "  text-align: center;\n",
       "  align-items: start;\n",
       "  justify-content: space-between;\n",
       "  gap: 0.5em;\n",
       "}\n",
       "\n",
       "#sk-container-id-1 label.sk-toggleable__label .caption {\n",
       "  font-size: 0.6rem;\n",
       "  font-weight: lighter;\n",
       "  color: var(--sklearn-color-text-muted);\n",
       "}\n",
       "\n",
       "#sk-container-id-1 label.sk-toggleable__label-arrow:before {\n",
       "  /* Arrow on the left of the label */\n",
       "  content: \"▸\";\n",
       "  float: left;\n",
       "  margin-right: 0.25em;\n",
       "  color: var(--sklearn-color-icon);\n",
       "}\n",
       "\n",
       "#sk-container-id-1 label.sk-toggleable__label-arrow:hover:before {\n",
       "  color: var(--sklearn-color-text);\n",
       "}\n",
       "\n",
       "/* Toggleable content - dropdown */\n",
       "\n",
       "#sk-container-id-1 div.sk-toggleable__content {\n",
       "  max-height: 0;\n",
       "  max-width: 0;\n",
       "  overflow: hidden;\n",
       "  text-align: left;\n",
       "  /* unfitted */\n",
       "  background-color: var(--sklearn-color-unfitted-level-0);\n",
       "}\n",
       "\n",
       "#sk-container-id-1 div.sk-toggleable__content.fitted {\n",
       "  /* fitted */\n",
       "  background-color: var(--sklearn-color-fitted-level-0);\n",
       "}\n",
       "\n",
       "#sk-container-id-1 div.sk-toggleable__content pre {\n",
       "  margin: 0.2em;\n",
       "  border-radius: 0.25em;\n",
       "  color: var(--sklearn-color-text);\n",
       "  /* unfitted */\n",
       "  background-color: var(--sklearn-color-unfitted-level-0);\n",
       "}\n",
       "\n",
       "#sk-container-id-1 div.sk-toggleable__content.fitted pre {\n",
       "  /* unfitted */\n",
       "  background-color: var(--sklearn-color-fitted-level-0);\n",
       "}\n",
       "\n",
       "#sk-container-id-1 input.sk-toggleable__control:checked~div.sk-toggleable__content {\n",
       "  /* Expand drop-down */\n",
       "  max-height: 200px;\n",
       "  max-width: 100%;\n",
       "  overflow: auto;\n",
       "}\n",
       "\n",
       "#sk-container-id-1 input.sk-toggleable__control:checked~label.sk-toggleable__label-arrow:before {\n",
       "  content: \"▾\";\n",
       "}\n",
       "\n",
       "/* Pipeline/ColumnTransformer-specific style */\n",
       "\n",
       "#sk-container-id-1 div.sk-label input.sk-toggleable__control:checked~label.sk-toggleable__label {\n",
       "  color: var(--sklearn-color-text);\n",
       "  background-color: var(--sklearn-color-unfitted-level-2);\n",
       "}\n",
       "\n",
       "#sk-container-id-1 div.sk-label.fitted input.sk-toggleable__control:checked~label.sk-toggleable__label {\n",
       "  background-color: var(--sklearn-color-fitted-level-2);\n",
       "}\n",
       "\n",
       "/* Estimator-specific style */\n",
       "\n",
       "/* Colorize estimator box */\n",
       "#sk-container-id-1 div.sk-estimator input.sk-toggleable__control:checked~label.sk-toggleable__label {\n",
       "  /* unfitted */\n",
       "  background-color: var(--sklearn-color-unfitted-level-2);\n",
       "}\n",
       "\n",
       "#sk-container-id-1 div.sk-estimator.fitted input.sk-toggleable__control:checked~label.sk-toggleable__label {\n",
       "  /* fitted */\n",
       "  background-color: var(--sklearn-color-fitted-level-2);\n",
       "}\n",
       "\n",
       "#sk-container-id-1 div.sk-label label.sk-toggleable__label,\n",
       "#sk-container-id-1 div.sk-label label {\n",
       "  /* The background is the default theme color */\n",
       "  color: var(--sklearn-color-text-on-default-background);\n",
       "}\n",
       "\n",
       "/* On hover, darken the color of the background */\n",
       "#sk-container-id-1 div.sk-label:hover label.sk-toggleable__label {\n",
       "  color: var(--sklearn-color-text);\n",
       "  background-color: var(--sklearn-color-unfitted-level-2);\n",
       "}\n",
       "\n",
       "/* Label box, darken color on hover, fitted */\n",
       "#sk-container-id-1 div.sk-label.fitted:hover label.sk-toggleable__label.fitted {\n",
       "  color: var(--sklearn-color-text);\n",
       "  background-color: var(--sklearn-color-fitted-level-2);\n",
       "}\n",
       "\n",
       "/* Estimator label */\n",
       "\n",
       "#sk-container-id-1 div.sk-label label {\n",
       "  font-family: monospace;\n",
       "  font-weight: bold;\n",
       "  display: inline-block;\n",
       "  line-height: 1.2em;\n",
       "}\n",
       "\n",
       "#sk-container-id-1 div.sk-label-container {\n",
       "  text-align: center;\n",
       "}\n",
       "\n",
       "/* Estimator-specific */\n",
       "#sk-container-id-1 div.sk-estimator {\n",
       "  font-family: monospace;\n",
       "  border: 1px dotted var(--sklearn-color-border-box);\n",
       "  border-radius: 0.25em;\n",
       "  box-sizing: border-box;\n",
       "  margin-bottom: 0.5em;\n",
       "  /* unfitted */\n",
       "  background-color: var(--sklearn-color-unfitted-level-0);\n",
       "}\n",
       "\n",
       "#sk-container-id-1 div.sk-estimator.fitted {\n",
       "  /* fitted */\n",
       "  background-color: var(--sklearn-color-fitted-level-0);\n",
       "}\n",
       "\n",
       "/* on hover */\n",
       "#sk-container-id-1 div.sk-estimator:hover {\n",
       "  /* unfitted */\n",
       "  background-color: var(--sklearn-color-unfitted-level-2);\n",
       "}\n",
       "\n",
       "#sk-container-id-1 div.sk-estimator.fitted:hover {\n",
       "  /* fitted */\n",
       "  background-color: var(--sklearn-color-fitted-level-2);\n",
       "}\n",
       "\n",
       "/* Specification for estimator info (e.g. \"i\" and \"?\") */\n",
       "\n",
       "/* Common style for \"i\" and \"?\" */\n",
       "\n",
       ".sk-estimator-doc-link,\n",
       "a:link.sk-estimator-doc-link,\n",
       "a:visited.sk-estimator-doc-link {\n",
       "  float: right;\n",
       "  font-size: smaller;\n",
       "  line-height: 1em;\n",
       "  font-family: monospace;\n",
       "  background-color: var(--sklearn-color-background);\n",
       "  border-radius: 1em;\n",
       "  height: 1em;\n",
       "  width: 1em;\n",
       "  text-decoration: none !important;\n",
       "  margin-left: 0.5em;\n",
       "  text-align: center;\n",
       "  /* unfitted */\n",
       "  border: var(--sklearn-color-unfitted-level-1) 1pt solid;\n",
       "  color: var(--sklearn-color-unfitted-level-1);\n",
       "}\n",
       "\n",
       ".sk-estimator-doc-link.fitted,\n",
       "a:link.sk-estimator-doc-link.fitted,\n",
       "a:visited.sk-estimator-doc-link.fitted {\n",
       "  /* fitted */\n",
       "  border: var(--sklearn-color-fitted-level-1) 1pt solid;\n",
       "  color: var(--sklearn-color-fitted-level-1);\n",
       "}\n",
       "\n",
       "/* On hover */\n",
       "div.sk-estimator:hover .sk-estimator-doc-link:hover,\n",
       ".sk-estimator-doc-link:hover,\n",
       "div.sk-label-container:hover .sk-estimator-doc-link:hover,\n",
       ".sk-estimator-doc-link:hover {\n",
       "  /* unfitted */\n",
       "  background-color: var(--sklearn-color-unfitted-level-3);\n",
       "  color: var(--sklearn-color-background);\n",
       "  text-decoration: none;\n",
       "}\n",
       "\n",
       "div.sk-estimator.fitted:hover .sk-estimator-doc-link.fitted:hover,\n",
       ".sk-estimator-doc-link.fitted:hover,\n",
       "div.sk-label-container:hover .sk-estimator-doc-link.fitted:hover,\n",
       ".sk-estimator-doc-link.fitted:hover {\n",
       "  /* fitted */\n",
       "  background-color: var(--sklearn-color-fitted-level-3);\n",
       "  color: var(--sklearn-color-background);\n",
       "  text-decoration: none;\n",
       "}\n",
       "\n",
       "/* Span, style for the box shown on hovering the info icon */\n",
       ".sk-estimator-doc-link span {\n",
       "  display: none;\n",
       "  z-index: 9999;\n",
       "  position: relative;\n",
       "  font-weight: normal;\n",
       "  right: .2ex;\n",
       "  padding: .5ex;\n",
       "  margin: .5ex;\n",
       "  width: min-content;\n",
       "  min-width: 20ex;\n",
       "  max-width: 50ex;\n",
       "  color: var(--sklearn-color-text);\n",
       "  box-shadow: 2pt 2pt 4pt #999;\n",
       "  /* unfitted */\n",
       "  background: var(--sklearn-color-unfitted-level-0);\n",
       "  border: .5pt solid var(--sklearn-color-unfitted-level-3);\n",
       "}\n",
       "\n",
       ".sk-estimator-doc-link.fitted span {\n",
       "  /* fitted */\n",
       "  background: var(--sklearn-color-fitted-level-0);\n",
       "  border: var(--sklearn-color-fitted-level-3);\n",
       "}\n",
       "\n",
       ".sk-estimator-doc-link:hover span {\n",
       "  display: block;\n",
       "}\n",
       "\n",
       "/* \"?\"-specific style due to the `<a>` HTML tag */\n",
       "\n",
       "#sk-container-id-1 a.estimator_doc_link {\n",
       "  float: right;\n",
       "  font-size: 1rem;\n",
       "  line-height: 1em;\n",
       "  font-family: monospace;\n",
       "  background-color: var(--sklearn-color-background);\n",
       "  border-radius: 1rem;\n",
       "  height: 1rem;\n",
       "  width: 1rem;\n",
       "  text-decoration: none;\n",
       "  /* unfitted */\n",
       "  color: var(--sklearn-color-unfitted-level-1);\n",
       "  border: var(--sklearn-color-unfitted-level-1) 1pt solid;\n",
       "}\n",
       "\n",
       "#sk-container-id-1 a.estimator_doc_link.fitted {\n",
       "  /* fitted */\n",
       "  border: var(--sklearn-color-fitted-level-1) 1pt solid;\n",
       "  color: var(--sklearn-color-fitted-level-1);\n",
       "}\n",
       "\n",
       "/* On hover */\n",
       "#sk-container-id-1 a.estimator_doc_link:hover {\n",
       "  /* unfitted */\n",
       "  background-color: var(--sklearn-color-unfitted-level-3);\n",
       "  color: var(--sklearn-color-background);\n",
       "  text-decoration: none;\n",
       "}\n",
       "\n",
       "#sk-container-id-1 a.estimator_doc_link.fitted:hover {\n",
       "  /* fitted */\n",
       "  background-color: var(--sklearn-color-fitted-level-3);\n",
       "}\n",
       "</style><div id=\"sk-container-id-1\" class=\"sk-top-container\"><div class=\"sk-text-repr-fallback\"><pre>IsolationForest(contamination=0.1, max_samples=0.8, n_jobs=-1, random_state=42)</pre><b>In a Jupyter environment, please rerun this cell to show the HTML representation or trust the notebook. <br />On GitHub, the HTML representation is unable to render, please try loading this page with nbviewer.org.</b></div><div class=\"sk-container\" hidden><div class=\"sk-item\"><div class=\"sk-estimator fitted sk-toggleable\"><input class=\"sk-toggleable__control sk-hidden--visually\" id=\"sk-estimator-id-1\" type=\"checkbox\" checked><label for=\"sk-estimator-id-1\" class=\"sk-toggleable__label fitted sk-toggleable__label-arrow\"><div><div>IsolationForest</div></div><div><a class=\"sk-estimator-doc-link fitted\" rel=\"noreferrer\" target=\"_blank\" href=\"https://scikit-learn.org/1.6/modules/generated/sklearn.ensemble.IsolationForest.html\">?<span>Documentation for IsolationForest</span></a><span class=\"sk-estimator-doc-link fitted\">i<span>Fitted</span></span></div></label><div class=\"sk-toggleable__content fitted\"><pre>IsolationForest(contamination=0.1, max_samples=0.8, n_jobs=-1, random_state=42)</pre></div> </div></div></div></div>"
      ],
      "text/plain": [
       "IsolationForest(contamination=0.1, max_samples=0.8, n_jobs=-1, random_state=42)"
      ]
     },
     "execution_count": 14,
     "metadata": {},
     "output_type": "execute_result"
    }
   ],
   "source": [
    "iso_forest = IsolationForest(n_estimators=100, max_samples=0.8, contamination=0.1, random_state=42, n_jobs=-1)\n",
    "iso_forest.fit(X_train_normal)"
   ]
  },
  {
   "cell_type": "code",
   "execution_count": 17,
   "metadata": {},
   "outputs": [
    {
     "data": {
      "text/plain": [
       "0.7963413333333333"
      ]
     },
     "execution_count": 17,
     "metadata": {},
     "output_type": "execute_result"
    }
   ],
   "source": [
    "iso_forest_preds = iso_forest.predict(X_test)\n",
    "iso_forest_preds = np.where(iso_forest_preds == -1, 1, 0)\n",
    "accuracy_score(y_test, iso_forest_preds)"
   ]
  },
  {
   "cell_type": "markdown",
   "metadata": {},
   "source": [
    "From the GitHub https://github.com/ruzzzzz/luflow\n",
    "\n",
    "#### src_ip:\n",
    "The source IP address associated with the flow. This feature is anonymised to the corresponding Autonomous System\n",
    "\n",
    "#### src_port:\n",
    "The source port number associated with the flow.\n",
    "\n",
    "#### dest_ip:\n",
    "The destination IP address associated with the flow. The feature is also anonymised in the same manner as before.\n",
    "\n",
    "#### dest_port:\n",
    "The destination port number associated with the flow\n",
    "\n",
    "#### protocol:\n",
    "The protocol number associated with the flow. For example TCP is 6\n",
    "\n",
    "#### bytes_in:\n",
    "The number of bytes transmitted from source to destination\n",
    "\n",
    "#### bytes_out:\n",
    "The number of bytes transmitted from destination to source.\n",
    "\n",
    "#### num_pkts_in:\n",
    "The packet count from source to destination\n",
    "\n",
    "#### num_pkts_out:\n",
    "The packet count from destination to source\n",
    "\n",
    "#### entropy:\n",
    "The entropy in bits per byte of the data fields within the flow. This number ranges from 0 to 8.\n",
    "\n",
    "#### total_entropy:\n",
    "The total entropy in bytes over all of the bytes in the data fields of the flow\n",
    "\n",
    "#### avg_ipt:\n",
    "The mean of the inter-packet arrival times of the flow\n",
    "\n",
    "#### time_start:\n",
    "The start time of the flow in seconds since the epoch.\n",
    "\n",
    "#### time_end:\n",
    "The end time of the flow in seconds since the epoch\n",
    "\n",
    "#### duration:\n",
    "The flow duration time, with microsecond precision\n",
    "\n",
    "#### label:\n",
    "The label of the flow, as decided by Tangerine. Either benign, outlier, or malicious"
   ]
  },
  {
   "cell_type": "markdown",
   "metadata": {},
   "source": [
    "Datasets from https://staff.itee.uq.edu.au/marius/NIDS_datasets/#RA6"
   ]
  }
 ],
 "metadata": {
  "kernelspec": {
   "display_name": "base",
   "language": "python",
   "name": "python3"
  },
  "language_info": {
   "codemirror_mode": {
    "name": "ipython",
    "version": 3
   },
   "file_extension": ".py",
   "mimetype": "text/x-python",
   "name": "python",
   "nbconvert_exporter": "python",
   "pygments_lexer": "ipython3",
   "version": "3.10.12"
  }
 },
 "nbformat": 4,
 "nbformat_minor": 2
}
