{
  "cells": [
    {
      "cell_type": "markdown",
      "id": "fea59cfc",
      "metadata": {
        "id": "fea59cfc"
      },
      "source": [
        "# Real-World Data Processing with RNN, LSTM, and GRU in PyTorch\n",
        "\n",
        "This notebook demonstrates how to use RNN, LSTM, and GRU on real-world time-series data and visualize the training performance."
      ]
    },
    {
      "cell_type": "code",
      "execution_count": 34,
      "id": "7be702ad",
      "metadata": {
        "id": "7be702ad"
      },
      "outputs": [],
      "source": [
        "import torch\n",
        "import torch.nn as nn\n",
        "import numpy as np\n",
        "import pandas as pd\n",
        "import matplotlib.pyplot as plt\n",
        "from sklearn.preprocessing import MinMaxScaler\n",
        "import os\n",
        "import kagglehub\n",
        "from tqdm import tqdm\n",
        "from torch.utils.data import Dataset, DataLoader\n",
        "\n",
        "if torch.cuda.is_available():\n",
        "    device = torch.device(\"cuda\")\n",
        "else:\n",
        "    device = torch.device(\"cpu\")"
      ]
    },
    {
      "cell_type": "code",
      "execution_count": 35,
      "id": "c86ebb09",
      "metadata": {
        "id": "c86ebb09"
      },
      "outputs": [],
      "source": [
        "def reduce_mem_usage(df, verbose=True):\n",
        "    numerics = ['int16', 'int32', 'int64', 'float16', 'float32', 'float64']\n",
        "    start_mem = df.memory_usage().sum() / 1024**2\n",
        "    for col in df.columns:\n",
        "        col_type = df[col].dtypes\n",
        "        if col_type in numerics:\n",
        "            c_min = df[col].min()\n",
        "            c_max = df[col].max()\n",
        "            if str(col_type)[:3] == 'int':\n",
        "                if c_min > np.iinfo(np.int8).min and c_max < np.iinfo(np.int8).max:\n",
        "                    df[col] = df[col].astype(np.int8)\n",
        "                elif c_min > np.iinfo(np.int16).min and c_max < np.iinfo(np.int16).max:\n",
        "                    df[col] = df[col].astype(np.int16)\n",
        "                elif c_min > np.iinfo(np.int32).min and c_max < np.iinfo(np.int32).max:\n",
        "                    df[col] = df[col].astype(np.int32)\n",
        "                elif c_min > np.iinfo(np.int64).min and c_max < np.iinfo(np.int64).max:\n",
        "                    df[col] = df[col].astype(np.int64)\n",
        "            else:\n",
        "                if c_min > np.finfo(np.float16).min and c_max < np.finfo(np.float16).max:\n",
        "                    df[col] = df[col].astype(np.float16)\n",
        "                elif c_min > np.finfo(np.float32).min and c_max < np.finfo(np.float32).max:\n",
        "                    df[col] = df[col].astype(np.float32)\n",
        "                else:\n",
        "                    df[col] = df[col].astype(np.float64)\n",
        "\n",
        "    end_mem = df.memory_usage().sum() / 1024**2\n",
        "    if verbose:\n",
        "        print('Memory usage after optimization is: {:.2f} MB'.format(end_mem))\n",
        "        print('Decreased by {:.1f}%'.format(100 * (start_mem - end_mem) / start_mem))\n",
        "\n",
        "    return df"
      ]
    },
    {
      "cell_type": "code",
      "execution_count": 44,
      "id": "4a0708be",
      "metadata": {
        "id": "4a0708be",
        "outputId": "49a802e5-1103-4fe9-8dd1-a27d79e63e25",
        "colab": {
          "base_uri": "https://localhost:8080/"
        }
      },
      "outputs": [
        {
          "output_type": "stream",
          "name": "stdout",
          "text": [
            "Warning: Looks like you're using an outdated `kagglehub` version (installed: 0.3.6), please consider upgrading to the latest version (0.3.7).\n"
          ]
        }
      ],
      "source": [
        "# Path to the cached dataset\n",
        "cache_path = os.path.expanduser(\"~/.cache/kagglehub/datasets\")\n",
        "\n",
        "data_path = os.path.join(cache_path, \"mryanm/luflow-network-intrusion-detection-data-set/versions/240\")\n",
        "\n",
        "if not os.path.exists(data_path):\n",
        "    # Download latest version\n",
        "    data_path = kagglehub.dataset_download(\"mryanm/luflow-network-intrusion-detection-data-set\")\n",
        "\n",
        "# List to store dataframes\n",
        "df_list = []\n",
        "\n",
        "# Load and optimize each CSV\n",
        "for year in sorted(os.listdir(data_path)):  # Sorting for consistency\n",
        "    year_path = os.path.join(data_path, year)\n",
        "    if os.path.isdir(year_path) and year_path.endswith(\"2022\"): # only use 2022 for now\n",
        "        for month in sorted(os.listdir(year_path)):\n",
        "            month_path = os.path.join(year_path, month)\n",
        "            if os.path.isdir(month_path):\n",
        "                for day in sorted(os.listdir(month_path)):\n",
        "                    day_path = os.path.join(month_path, day)\n",
        "                    if os.path.isdir(day_path) and day_path.endswith(\"12\"): # only use day 14 for now\n",
        "                        for file in os.listdir(day_path):\n",
        "                            if file.endswith(\".csv\"):\n",
        "                                full_path = os.path.join(day_path, file)\n",
        "                                data = pd.read_csv(full_path)\n",
        "\n",
        "                                # Extract date info safely\n",
        "                                y, m, d = map(int, file.split(\".\")[:3])\n",
        "                                data[\"Year\"] = y\n",
        "                                data[\"Month\"] = m\n",
        "                                data[\"Day\"] = d\n",
        "\n",
        "                                # Reduce memory usage BEFORE adding to list\n",
        "                                data = reduce_mem_usage(data, verbose=False)\n",
        "                                df_list.append(data)\n",
        "\n",
        "# Final concatenation\n",
        "df = pd.concat(df_list, ignore_index=True)"
      ]
    },
    {
      "cell_type": "code",
      "execution_count": 51,
      "id": "6f3b84a6",
      "metadata": {
        "id": "6f3b84a6",
        "outputId": "4cd20718-1498-4afa-ad54-4a2029b11346",
        "colab": {
          "base_uri": "https://localhost:8080/"
        }
      },
      "outputs": [
        {
          "output_type": "stream",
          "name": "stdout",
          "text": [
            "<class 'pandas.core.frame.DataFrame'>\n",
            "RangeIndex: 26167 entries, 0 to 26166\n",
            "Data columns (total 20 columns):\n",
            " #   Column         Non-Null Count  Dtype  \n",
            "---  ------         --------------  -----  \n",
            " 0   avg_ipt        26167 non-null  float32\n",
            " 1   bytes_in       26167 non-null  int32  \n",
            " 2   bytes_out      26167 non-null  int32  \n",
            " 3   dest_ip        26167 non-null  int16  \n",
            " 4   dest_port      18719 non-null  float32\n",
            " 5   entropy        26167 non-null  float16\n",
            " 6   num_pkts_out   26167 non-null  int16  \n",
            " 7   num_pkts_in    26167 non-null  int16  \n",
            " 8   proto          26167 non-null  int8   \n",
            " 9   src_ip         26167 non-null  int16  \n",
            " 10  src_port       18719 non-null  float32\n",
            " 11  time_end       26167 non-null  int64  \n",
            " 12  time_start     26167 non-null  int64  \n",
            " 13  total_entropy  26167 non-null  float32\n",
            " 14  label          26167 non-null  object \n",
            " 15  duration       26167 non-null  float16\n",
            " 16  Year           26167 non-null  int16  \n",
            " 17  Month          26167 non-null  int8   \n",
            " 18  Day            26167 non-null  int8   \n",
            " 19  label_encoded  26167 non-null  int64  \n",
            "dtypes: float16(2), float32(4), int16(5), int32(2), int64(3), int8(3), object(1)\n",
            "memory usage: 1.8+ MB\n"
          ]
        }
      ],
      "source": [
        "df.info()"
      ]
    },
    {
      "cell_type": "code",
      "source": [
        "df['label'].value_counts()"
      ],
      "metadata": {
        "id": "XDWArk8zXZr6",
        "outputId": "bfa8ebba-0412-4e56-95df-bd2335d92fd4",
        "colab": {
          "base_uri": "https://localhost:8080/",
          "height": 210
        }
      },
      "id": "XDWArk8zXZr6",
      "execution_count": 50,
      "outputs": [
        {
          "output_type": "execute_result",
          "data": {
            "text/plain": [
              "label\n",
              "outlier      19719\n",
              "malicious     3748\n",
              "benign        2700\n",
              "Name: count, dtype: int64"
            ],
            "text/html": [
              "<div>\n",
              "<style scoped>\n",
              "    .dataframe tbody tr th:only-of-type {\n",
              "        vertical-align: middle;\n",
              "    }\n",
              "\n",
              "    .dataframe tbody tr th {\n",
              "        vertical-align: top;\n",
              "    }\n",
              "\n",
              "    .dataframe thead th {\n",
              "        text-align: right;\n",
              "    }\n",
              "</style>\n",
              "<table border=\"1\" class=\"dataframe\">\n",
              "  <thead>\n",
              "    <tr style=\"text-align: right;\">\n",
              "      <th></th>\n",
              "      <th>count</th>\n",
              "    </tr>\n",
              "    <tr>\n",
              "      <th>label</th>\n",
              "      <th></th>\n",
              "    </tr>\n",
              "  </thead>\n",
              "  <tbody>\n",
              "    <tr>\n",
              "      <th>outlier</th>\n",
              "      <td>19719</td>\n",
              "    </tr>\n",
              "    <tr>\n",
              "      <th>malicious</th>\n",
              "      <td>3748</td>\n",
              "    </tr>\n",
              "    <tr>\n",
              "      <th>benign</th>\n",
              "      <td>2700</td>\n",
              "    </tr>\n",
              "  </tbody>\n",
              "</table>\n",
              "</div><br><label><b>dtype:</b> int64</label>"
            ]
          },
          "metadata": {},
          "execution_count": 50
        }
      ]
    },
    {
      "cell_type": "code",
      "source": [
        "df['label_encoded'] = df['label'].map({'benign': 0, 'malicious': 1, 'outlier': 2})\n",
        "df['label_encoded'].value_counts()"
      ],
      "metadata": {
        "id": "INb8Zou6ZBuq",
        "outputId": "3f513712-600c-4668-e8fb-e83e40c6d85e",
        "colab": {
          "base_uri": "https://localhost:8080/",
          "height": 210
        }
      },
      "id": "INb8Zou6ZBuq",
      "execution_count": 47,
      "outputs": [
        {
          "output_type": "execute_result",
          "data": {
            "text/plain": [
              "label_encoded\n",
              "2    19719\n",
              "1     3748\n",
              "0     2700\n",
              "Name: count, dtype: int64"
            ],
            "text/html": [
              "<div>\n",
              "<style scoped>\n",
              "    .dataframe tbody tr th:only-of-type {\n",
              "        vertical-align: middle;\n",
              "    }\n",
              "\n",
              "    .dataframe tbody tr th {\n",
              "        vertical-align: top;\n",
              "    }\n",
              "\n",
              "    .dataframe thead th {\n",
              "        text-align: right;\n",
              "    }\n",
              "</style>\n",
              "<table border=\"1\" class=\"dataframe\">\n",
              "  <thead>\n",
              "    <tr style=\"text-align: right;\">\n",
              "      <th></th>\n",
              "      <th>count</th>\n",
              "    </tr>\n",
              "    <tr>\n",
              "      <th>label_encoded</th>\n",
              "      <th></th>\n",
              "    </tr>\n",
              "  </thead>\n",
              "  <tbody>\n",
              "    <tr>\n",
              "      <th>2</th>\n",
              "      <td>19719</td>\n",
              "    </tr>\n",
              "    <tr>\n",
              "      <th>1</th>\n",
              "      <td>3748</td>\n",
              "    </tr>\n",
              "    <tr>\n",
              "      <th>0</th>\n",
              "      <td>2700</td>\n",
              "    </tr>\n",
              "  </tbody>\n",
              "</table>\n",
              "</div><br><label><b>dtype:</b> int64</label>"
            ]
          },
          "metadata": {},
          "execution_count": 47
        }
      ]
    },
    {
      "cell_type": "code",
      "source": [
        "df.isna().sum()"
      ],
      "metadata": {
        "id": "YaUvkI2MRJFV",
        "outputId": "c0fd977f-d973-4721-f577-f11f210b587e",
        "colab": {
          "base_uri": "https://localhost:8080/",
          "height": 711
        }
      },
      "id": "YaUvkI2MRJFV",
      "execution_count": 48,
      "outputs": [
        {
          "output_type": "execute_result",
          "data": {
            "text/plain": [
              "avg_ipt             0\n",
              "bytes_in            0\n",
              "bytes_out           0\n",
              "dest_ip             0\n",
              "dest_port        7448\n",
              "entropy             0\n",
              "num_pkts_out        0\n",
              "num_pkts_in         0\n",
              "proto               0\n",
              "src_ip              0\n",
              "src_port         7448\n",
              "time_end            0\n",
              "time_start          0\n",
              "total_entropy       0\n",
              "label               0\n",
              "duration            0\n",
              "Year                0\n",
              "Month               0\n",
              "Day                 0\n",
              "label_encoded       0\n",
              "dtype: int64"
            ],
            "text/html": [
              "<div>\n",
              "<style scoped>\n",
              "    .dataframe tbody tr th:only-of-type {\n",
              "        vertical-align: middle;\n",
              "    }\n",
              "\n",
              "    .dataframe tbody tr th {\n",
              "        vertical-align: top;\n",
              "    }\n",
              "\n",
              "    .dataframe thead th {\n",
              "        text-align: right;\n",
              "    }\n",
              "</style>\n",
              "<table border=\"1\" class=\"dataframe\">\n",
              "  <thead>\n",
              "    <tr style=\"text-align: right;\">\n",
              "      <th></th>\n",
              "      <th>0</th>\n",
              "    </tr>\n",
              "  </thead>\n",
              "  <tbody>\n",
              "    <tr>\n",
              "      <th>avg_ipt</th>\n",
              "      <td>0</td>\n",
              "    </tr>\n",
              "    <tr>\n",
              "      <th>bytes_in</th>\n",
              "      <td>0</td>\n",
              "    </tr>\n",
              "    <tr>\n",
              "      <th>bytes_out</th>\n",
              "      <td>0</td>\n",
              "    </tr>\n",
              "    <tr>\n",
              "      <th>dest_ip</th>\n",
              "      <td>0</td>\n",
              "    </tr>\n",
              "    <tr>\n",
              "      <th>dest_port</th>\n",
              "      <td>7448</td>\n",
              "    </tr>\n",
              "    <tr>\n",
              "      <th>entropy</th>\n",
              "      <td>0</td>\n",
              "    </tr>\n",
              "    <tr>\n",
              "      <th>num_pkts_out</th>\n",
              "      <td>0</td>\n",
              "    </tr>\n",
              "    <tr>\n",
              "      <th>num_pkts_in</th>\n",
              "      <td>0</td>\n",
              "    </tr>\n",
              "    <tr>\n",
              "      <th>proto</th>\n",
              "      <td>0</td>\n",
              "    </tr>\n",
              "    <tr>\n",
              "      <th>src_ip</th>\n",
              "      <td>0</td>\n",
              "    </tr>\n",
              "    <tr>\n",
              "      <th>src_port</th>\n",
              "      <td>7448</td>\n",
              "    </tr>\n",
              "    <tr>\n",
              "      <th>time_end</th>\n",
              "      <td>0</td>\n",
              "    </tr>\n",
              "    <tr>\n",
              "      <th>time_start</th>\n",
              "      <td>0</td>\n",
              "    </tr>\n",
              "    <tr>\n",
              "      <th>total_entropy</th>\n",
              "      <td>0</td>\n",
              "    </tr>\n",
              "    <tr>\n",
              "      <th>label</th>\n",
              "      <td>0</td>\n",
              "    </tr>\n",
              "    <tr>\n",
              "      <th>duration</th>\n",
              "      <td>0</td>\n",
              "    </tr>\n",
              "    <tr>\n",
              "      <th>Year</th>\n",
              "      <td>0</td>\n",
              "    </tr>\n",
              "    <tr>\n",
              "      <th>Month</th>\n",
              "      <td>0</td>\n",
              "    </tr>\n",
              "    <tr>\n",
              "      <th>Day</th>\n",
              "      <td>0</td>\n",
              "    </tr>\n",
              "    <tr>\n",
              "      <th>label_encoded</th>\n",
              "      <td>0</td>\n",
              "    </tr>\n",
              "  </tbody>\n",
              "</table>\n",
              "</div><br><label><b>dtype:</b> int64</label>"
            ]
          },
          "metadata": {},
          "execution_count": 48
        }
      ]
    },
    {
      "cell_type": "code",
      "source": [
        "df.drop(['label', 'dest_port', 'src_port'], axis=1, inplace=True)"
      ],
      "metadata": {
        "id": "CaYTfR0va_nE"
      },
      "id": "CaYTfR0va_nE",
      "execution_count": 52,
      "outputs": []
    },
    {
      "cell_type": "code",
      "source": [
        "class SequenceDataset(Dataset):\n",
        "    def __init__(self, data, feature_cols, label_col, seq_length):\n",
        "        self.data = data\n",
        "        self.feature_cols = feature_cols\n",
        "        self.label_col = label_col\n",
        "        self.seq_length = seq_length\n",
        "\n",
        "    def __len__(self):\n",
        "        return len(self.data) - self.seq_length  # Avoid indexing past the end\n",
        "\n",
        "    def __getitem__(self, idx):\n",
        "        X_seq = self.data[self.feature_cols].iloc[idx:idx+self.seq_length].values\n",
        "        y_label = self.data[self.label_col].iloc[idx+self.seq_length]\n",
        "\n",
        "        # Convert to tensors\n",
        "        X_seq = torch.tensor(X_seq, dtype=torch.float32)\n",
        "        y_label = torch.tensor(y_label, dtype=torch.int64)  # Use int64 for classification\n",
        "\n",
        "        return X_seq, y_label\n",
        "\n",
        "feature_cols = df.drop(['label_encoded'], axis=1).columns\n",
        "label_col = 'label_encoded'\n",
        "\n",
        "# Create dataset\n",
        "seq_length = 30  # Use past 30 time steps to predict the next one\n",
        "dataset_size = len(df)\n",
        "\n",
        "train_size = int(0.8 * dataset_size)  # 80% for training\n",
        "val_size = dataset_size - train_size  # Remaining 20% for validation\n",
        "\n",
        "# Split the dataset\n",
        "train_dataset = SequenceDataset(df[:train_size], feature_cols, label_col, seq_length)\n",
        "val_dataset = SequenceDataset(df[train_size:], feature_cols, label_col, seq_length)\n",
        "\n",
        "# Create DataLoaders\n",
        "batch_size = 128  # Adjust as needed\n",
        "train_loader = DataLoader(train_dataset, batch_size=batch_size, shuffle=False, num_workers=8)\n",
        "val_loader = DataLoader(val_dataset, batch_size=batch_size, shuffle=False, num_workers=8)"
      ],
      "metadata": {
        "id": "op9v8V9hk77j",
        "outputId": "fcbf757a-d1d5-4f8c-f56b-3944d93c3f4b",
        "colab": {
          "base_uri": "https://localhost:8080/"
        }
      },
      "id": "op9v8V9hk77j",
      "execution_count": 61,
      "outputs": [
        {
          "output_type": "stream",
          "name": "stderr",
          "text": [
            "/usr/local/lib/python3.11/dist-packages/torch/utils/data/dataloader.py:617: UserWarning: This DataLoader will create 8 worker processes in total. Our suggested max number of worker in current system is 2, which is smaller than what this DataLoader is going to create. Please be aware that excessive worker creation might get DataLoader running slow or even freeze, lower the worker number to avoid potential slowness/freeze if necessary.\n",
            "  warnings.warn(\n"
          ]
        }
      ]
    },
    {
      "cell_type": "markdown",
      "id": "819f72bc",
      "metadata": {
        "id": "819f72bc"
      },
      "source": [
        "## Define RNN, LSTM, and GRU Models"
      ]
    },
    {
      "cell_type": "code",
      "execution_count": 62,
      "id": "931663eb",
      "metadata": {
        "id": "931663eb"
      },
      "outputs": [],
      "source": [
        "class RNNModel(nn.Module):\n",
        "    def __init__(self, input_size, hidden_size, output_size):\n",
        "        super(RNNModel, self).__init__()\n",
        "        self.hidden_size = hidden_size\n",
        "        self.rnn = nn.RNN(input_size, hidden_size, batch_first=True)\n",
        "        self.fc = nn.Linear(hidden_size, output_size)\n",
        "\n",
        "    def forward(self, x):\n",
        "        out, _ = self.rnn(x)\n",
        "        out = self.fc(out[:, -1, :])  # Take the last time step's output\n",
        "        return out\n",
        "\n",
        "class LSTMModel(nn.Module):\n",
        "    def __init__(self, input_size, hidden_size, output_size):\n",
        "        super(LSTMModel, self).__init__()\n",
        "        self.hidden_size = hidden_size\n",
        "        self.lstm = nn.LSTM(input_size, hidden_size, batch_first=True)\n",
        "        self.fc = nn.Linear(hidden_size, output_size)\n",
        "\n",
        "    def forward(self, x):\n",
        "        out, _ = self.lstm(x)\n",
        "        out = self.fc(out[:, -1, :])  # Take the last time step's output\n",
        "        return out\n",
        "\n",
        "class GRUModel(nn.Module):\n",
        "    def __init__(self, input_size, hidden_size, output_size):\n",
        "        super(GRUModel, self).__init__()\n",
        "        self.hidden_size = hidden_size\n",
        "        self.gru = nn.GRU(input_size, hidden_size, batch_first=True)\n",
        "        self.fc = nn.Linear(hidden_size, output_size)\n",
        "\n",
        "    def forward(self, x):\n",
        "        out, _ = self.gru(x)\n",
        "        out = self.fc(out[:, -1, :])  # Take the last time step's output\n",
        "        return out"
      ]
    },
    {
      "cell_type": "markdown",
      "id": "455904db",
      "metadata": {
        "id": "455904db"
      },
      "source": [
        "## Training the Models and Recording Loss"
      ]
    },
    {
      "cell_type": "code",
      "execution_count": 67,
      "id": "dff9e556",
      "metadata": {
        "colab": {
          "base_uri": "https://localhost:8080/"
        },
        "id": "dff9e556",
        "outputId": "51951bd8-44c9-44ef-fa95-cd60d3ecc2ee"
      },
      "outputs": [
        {
          "output_type": "stream",
          "name": "stdout",
          "text": [
            "Batch 0/164, Average Loss: 1.035643219947815\n",
            "Batch 10/164, Average Loss: 1.0290446931665593\n",
            "Batch 20/164, Average Loss: 1.0119711472874595\n",
            "Batch 30/164, Average Loss: 0.9952821616203554\n",
            "Batch 40/164, Average Loss: 0.9848367891660551\n",
            "Batch 50/164, Average Loss: 0.9719062143681096\n",
            "Batch 60/164, Average Loss: 0.9568360916903762\n",
            "Batch 70/164, Average Loss: 0.9403662748739753\n",
            "Batch 80/164, Average Loss: 0.9217585972797724\n",
            "Batch 90/164, Average Loss: 0.9044148948166396\n",
            "Batch 100/164, Average Loss: 0.8875438069353009\n",
            "Batch 110/164, Average Loss: 0.8747742863388749\n",
            "Batch 120/164, Average Loss: 0.8644865825156535\n",
            "Batch 130/164, Average Loss: 0.8547469591366426\n",
            "Batch 140/164, Average Loss: 0.8445822698004702\n",
            "Batch 150/164, Average Loss: 0.8381878828370808\n",
            "Batch 160/164, Average Loss: 0.8297404080444242\n",
            "Validation Loss: 0.7067403931443285\n"
          ]
        }
      ],
      "source": [
        "def train_model(model, train_loader, val_loader, epochs=1, learning_rate=0.0001):\n",
        "    model = model.to(device)\n",
        "    criterion = nn.CrossEntropyLoss()\n",
        "    optimizer = torch.optim.Adam(model.parameters(), lr=learning_rate)\n",
        "    train_losses = []\n",
        "    val_losses = []\n",
        "\n",
        "    for epoch in range(epochs):\n",
        "        model.train()\n",
        "\n",
        "        for i, (X_batch, y_batch) in enumerate(train_loader):\n",
        "            optimizer.zero_grad()\n",
        "            X_batch, y_batch = X_batch.to(device), y_batch.to(device)\n",
        "            output = model(X_batch)  # Forward pass\n",
        "            loss = criterion(output, y_batch)  # Compute loss\n",
        "            loss.backward()  # Backpropagation\n",
        "            optimizer.step()  # Update weights\n",
        "            train_losses.append(loss.item())\n",
        "            if i % 10 == 0:\n",
        "                print(f'Batch {i}/{len(train_loader)}, Average Loss: {np.mean(train_losses)}')\n",
        "\n",
        "        model.eval()\n",
        "        with torch.no_grad():  # Disable gradient calculations during validation\n",
        "            for i, (X_batch, y_batch) in enumerate(val_loader):\n",
        "                X_batch, y_batch = X_batch.to(device), y_batch.to(device)\n",
        "                output = model(X_batch)  # Forward pass\n",
        "                loss = criterion(output, y_batch)  # Compute loss\n",
        "                val_losses.append(loss.item())\n",
        "            print(f'Validation Loss: {np.mean(val_losses)}')\n",
        "\n",
        "    return train_losses, val_losses\n",
        "\n",
        "# Initialize models\n",
        "rnn_model = RNNModel(len(feature_cols), 64, 3)\n",
        "lstm_model = LSTMModel(len(feature_cols), 64, 3)\n",
        "gru_model = GRUModel(len(feature_cols), 64, 3)\n",
        "\n",
        "# Train models and record loss\n",
        "rnn_losses = train_model(rnn_model, train_loader, val_loader)"
      ]
    },
    {
      "cell_type": "code",
      "source": [
        "lstm_losses = train_model(lstm_model, train_loader, val_loader)\n",
        "gru_losses = train_model(gru_model, train_loader, val_loader)"
      ],
      "metadata": {
        "id": "BDv49-Sltcv4",
        "outputId": "e9230eee-f407-4b72-ac92-77d348a16f30",
        "colab": {
          "base_uri": "https://localhost:8080/"
        }
      },
      "id": "BDv49-Sltcv4",
      "execution_count": 68,
      "outputs": [
        {
          "output_type": "stream",
          "name": "stdout",
          "text": [
            "Batch 0/164, Average Loss: 1.1629652976989746\n",
            "Batch 10/164, Average Loss: 1.1944734399968928\n",
            "Batch 20/164, Average Loss: 1.187379348845709\n",
            "Batch 30/164, Average Loss: 1.1760404071500223\n",
            "Batch 40/164, Average Loss: 1.1669523018162424\n",
            "Batch 50/164, Average Loss: 1.1562944487029432\n",
            "Batch 60/164, Average Loss: 1.1465461762225042\n",
            "Batch 70/164, Average Loss: 1.1368418445049877\n",
            "Batch 80/164, Average Loss: 1.1251719056824108\n",
            "Batch 90/164, Average Loss: 1.1146536096111759\n",
            "Batch 100/164, Average Loss: 1.1043734910464522\n",
            "Batch 110/164, Average Loss: 1.0936000755241326\n",
            "Batch 120/164, Average Loss: 1.0851645080511234\n",
            "Batch 130/164, Average Loss: 1.075812287913024\n",
            "Batch 140/164, Average Loss: 1.0660411719734788\n",
            "Batch 150/164, Average Loss: 1.0582306760036393\n",
            "Batch 160/164, Average Loss: 1.0489148712306289\n",
            "Validation Loss: 0.8949186511156035\n",
            "Batch 0/164, Average Loss: 1.296170949935913\n",
            "Batch 10/164, Average Loss: 1.2601416544480757\n",
            "Batch 20/164, Average Loss: 1.2430093742552257\n",
            "Batch 30/164, Average Loss: 1.2277646218576739\n",
            "Batch 40/164, Average Loss: 1.209109762819802\n",
            "Batch 50/164, Average Loss: 1.1925968796599145\n",
            "Batch 60/164, Average Loss: 1.1768199830758768\n",
            "Batch 70/164, Average Loss: 1.1636034384579725\n",
            "Batch 80/164, Average Loss: 1.1510783787126895\n",
            "Batch 90/164, Average Loss: 1.1370030274757972\n",
            "Batch 100/164, Average Loss: 1.1221941402643034\n",
            "Batch 110/164, Average Loss: 1.1074102241713721\n",
            "Batch 120/164, Average Loss: 1.0945536045988729\n",
            "Batch 130/164, Average Loss: 1.0835561879718576\n",
            "Batch 140/164, Average Loss: 1.0703948148598907\n",
            "Batch 150/164, Average Loss: 1.0598576625451346\n",
            "Batch 160/164, Average Loss: 1.0465473155057208\n",
            "Validation Loss: 0.8454690997193499\n"
          ]
        }
      ]
    },
    {
      "cell_type": "markdown",
      "id": "fb1e2987",
      "metadata": {
        "id": "fb1e2987"
      },
      "source": [
        "## Visualizing the Training Loss"
      ]
    },
    {
      "cell_type": "code",
      "execution_count": 69,
      "id": "94885d6f",
      "metadata": {
        "colab": {
          "base_uri": "https://localhost:8080/",
          "height": 468
        },
        "id": "94885d6f",
        "outputId": "2086d5ff-f036-4791-9e80-3116f28d2f51"
      },
      "outputs": [
        {
          "output_type": "display_data",
          "data": {
            "text/plain": [
              "<Figure size 1000x600 with 1 Axes>"
            ],
            "image/png": "[encoded data removed]"
          },
          "metadata": {}
        }
      ],
      "source": [
        "# Plot Training Loss Curves\n",
        "plt.figure(figsize=(10,6))\n",
        "plt.plot(rnn_losses[1], label='RNN Loss', linestyle='dashed', marker='o')\n",
        "plt.plot(lstm_losses[1], label='LSTM Loss', linestyle='dotted', marker='s')\n",
        "plt.plot(gru_losses[1], label='GRU Loss', linestyle='solid', marker='x')\n",
        "\n",
        "plt.xlabel('Batches')\n",
        "plt.ylabel('Loss')\n",
        "plt.title('Validation Loss Comparison: RNN vs LSTM vs GRU')\n",
        "plt.legend()\n",
        "plt.grid(True)\n",
        "plt.show()"
      ]
    },
    {
      "cell_type": "markdown",
      "id": "46781018",
      "metadata": {
        "id": "46781018"
      },
      "source": [
        "## Testing the Models on New Data"
      ]
    },
    {
      "cell_type": "markdown",
      "id": "7f41d3d6",
      "metadata": {
        "id": "7f41d3d6"
      },
      "source": [
        "## Summary and Insights\n",
        "\n",
        "- The loss curves indicate how well each model trains over time.\n",
        "- **LSTM and GRU** generally perform better than RNN on time-series data.\n",
        "- **LSTM retains long-term memory well,** making it good for stock price prediction.\n",
        "- **GRU is faster than LSTM** and performs similarly.\n",
        "- **RNN struggles** with long-term dependencies due to vanishing gradients.\n",
        "- The predictions indicate how each model forecasts stock prices based on historical data."
      ]
    }
  ],
  "metadata": {
    "colab": {
      "provenance": [],
      "gpuType": "T4"
    },
    "kernelspec": {
      "display_name": "Python 3",
      "name": "python3"
    },
    "language_info": {
      "codemirror_mode": {
        "name": "ipython",
        "version": 3
      },
      "file_extension": ".py",
      "mimetype": "text/x-python",
      "name": "python",
      "nbconvert_exporter": "python",
      "pygments_lexer": "ipython3",
      "version": "3.10.12"
    },
    "accelerator": "GPU"
  },
  "nbformat": 4,
  "nbformat_minor": 5
}