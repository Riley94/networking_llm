{
  "cells": [
    {
      "cell_type": "markdown",
      "id": "fea59cfc",
      "metadata": {
        "id": "fea59cfc"
      },
      "source": [
        "# Real-World Data Processing with RNN, LSTM, and GRU in PyTorch\n",
        "\n",
        "This notebook demonstrates how to use RNN, LSTM, and GRU on real-world time-series data and visualize the training performance."
      ]
    },
    {
      "cell_type": "code",
      "execution_count": 3,
      "id": "7be702ad",
      "metadata": {},
      "outputs": [
        {
          "name": "stderr",
          "output_type": "stream",
          "text": [
            "/home/riley/networking_llm/lib/python3.10/site-packages/tqdm/auto.py:21: TqdmWarning: IProgress not found. Please update jupyter and ipywidgets. See https://ipywidgets.readthedocs.io/en/stable/user_install.html\n",
            "  from .autonotebook import tqdm as notebook_tqdm\n"
          ]
        }
      ],
      "source": [
        "import torch\n",
        "import torch.nn as nn\n",
        "import numpy as np\n",
        "import pandas as pd\n",
        "import matplotlib.pyplot as plt\n",
        "from sklearn.preprocessing import MinMaxScaler\n",
        "import os\n",
        "import kagglehub\n",
        "from tqdm import tqdm"
      ]
    },
    {
      "cell_type": "code",
      "execution_count": 4,
      "id": "c86ebb09",
      "metadata": {},
      "outputs": [],
      "source": [
        "def reduce_mem_usage(df, verbose=True):\n",
        "    numerics = ['int16', 'int32', 'int64', 'float16', 'float32', 'float64']\n",
        "    start_mem = df.memory_usage().sum() / 1024**2\n",
        "    for col in df.columns:\n",
        "        col_type = df[col].dtypes\n",
        "        if col_type in numerics:\n",
        "            c_min = df[col].min()\n",
        "            c_max = df[col].max()\n",
        "            if str(col_type)[:3] == 'int':\n",
        "                if c_min > np.iinfo(np.int8).min and c_max < np.iinfo(np.int8).max:\n",
        "                    df[col] = df[col].astype(np.int8)\n",
        "                elif c_min > np.iinfo(np.int16).min and c_max < np.iinfo(np.int16).max:\n",
        "                    df[col] = df[col].astype(np.int16)\n",
        "                elif c_min > np.iinfo(np.int32).min and c_max < np.iinfo(np.int32).max:\n",
        "                    df[col] = df[col].astype(np.int32)\n",
        "                elif c_min > np.iinfo(np.int64).min and c_max < np.iinfo(np.int64).max:\n",
        "                    df[col] = df[col].astype(np.int64)\n",
        "            else:\n",
        "                if c_min > np.finfo(np.float16).min and c_max < np.finfo(np.float16).max:\n",
        "                    df[col] = df[col].astype(np.float16)\n",
        "                elif c_min > np.finfo(np.float32).min and c_max < np.finfo(np.float32).max:\n",
        "                    df[col] = df[col].astype(np.float32)\n",
        "                else:\n",
        "                    df[col] = df[col].astype(np.float64)\n",
        "\n",
        "    end_mem = df.memory_usage().sum() / 1024**2\n",
        "    if verbose:\n",
        "        print('Memory usage after optimization is: {:.2f} MB'.format(end_mem))\n",
        "        print('Decreased by {:.1f}%'.format(100 * (start_mem - end_mem) / start_mem))\n",
        "\n",
        "    return df"
      ]
    },
    {
      "cell_type": "code",
      "execution_count": 5,
      "id": "4a0708be",
      "metadata": {},
      "outputs": [
        {
          "name": "stderr",
          "output_type": "stream",
          "text": [
            "100%|██████████| 4/4 [03:05<00:00, 46.37s/it] \n"
          ]
        },
        {
          "ename": "KeyboardInterrupt",
          "evalue": "",
          "output_type": "error",
          "traceback": [
            "\u001b[0;31m---------------------------------------------------------------------------\u001b[0m",
            "\u001b[0;31mKeyboardInterrupt\u001b[0m                         Traceback (most recent call last)",
            "Cell \u001b[0;32mIn[5], line 39\u001b[0m\n\u001b[1;32m     36\u001b[0m                                 df_list\u001b[38;5;241m.\u001b[39mappend(data)\n\u001b[1;32m     38\u001b[0m \u001b[38;5;66;03m# Final concatenation\u001b[39;00m\n\u001b[0;32m---> 39\u001b[0m df \u001b[38;5;241m=\u001b[39m \u001b[43mpd\u001b[49m\u001b[38;5;241;43m.\u001b[39;49m\u001b[43mconcat\u001b[49m\u001b[43m(\u001b[49m\u001b[43mdf_list\u001b[49m\u001b[43m,\u001b[49m\u001b[43m \u001b[49m\u001b[43mignore_index\u001b[49m\u001b[38;5;241;43m=\u001b[39;49m\u001b[38;5;28;43;01mTrue\u001b[39;49;00m\u001b[43m)\u001b[49m\n",
            "File \u001b[0;32m~/networking_llm/lib/python3.10/site-packages/pandas/core/reshape/concat.py:395\u001b[0m, in \u001b[0;36mconcat\u001b[0;34m(objs, axis, join, ignore_index, keys, levels, names, verify_integrity, sort, copy)\u001b[0m\n\u001b[1;32m    380\u001b[0m     copy \u001b[38;5;241m=\u001b[39m \u001b[38;5;28;01mFalse\u001b[39;00m\n\u001b[1;32m    382\u001b[0m op \u001b[38;5;241m=\u001b[39m _Concatenator(\n\u001b[1;32m    383\u001b[0m     objs,\n\u001b[1;32m    384\u001b[0m     axis\u001b[38;5;241m=\u001b[39maxis,\n\u001b[0;32m   (...)\u001b[0m\n\u001b[1;32m    392\u001b[0m     sort\u001b[38;5;241m=\u001b[39msort,\n\u001b[1;32m    393\u001b[0m )\n\u001b[0;32m--> 395\u001b[0m \u001b[38;5;28;01mreturn\u001b[39;00m \u001b[43mop\u001b[49m\u001b[38;5;241;43m.\u001b[39;49m\u001b[43mget_result\u001b[49m\u001b[43m(\u001b[49m\u001b[43m)\u001b[49m\n",
            "File \u001b[0;32m~/networking_llm/lib/python3.10/site-packages/pandas/core/reshape/concat.py:684\u001b[0m, in \u001b[0;36m_Concatenator.get_result\u001b[0;34m(self)\u001b[0m\n\u001b[1;32m    680\u001b[0m             indexers[ax] \u001b[38;5;241m=\u001b[39m obj_labels\u001b[38;5;241m.\u001b[39mget_indexer(new_labels)\n\u001b[1;32m    682\u001b[0m     mgrs_indexers\u001b[38;5;241m.\u001b[39mappend((obj\u001b[38;5;241m.\u001b[39m_mgr, indexers))\n\u001b[0;32m--> 684\u001b[0m new_data \u001b[38;5;241m=\u001b[39m \u001b[43mconcatenate_managers\u001b[49m\u001b[43m(\u001b[49m\n\u001b[1;32m    685\u001b[0m \u001b[43m    \u001b[49m\u001b[43mmgrs_indexers\u001b[49m\u001b[43m,\u001b[49m\u001b[43m \u001b[49m\u001b[38;5;28;43mself\u001b[39;49m\u001b[38;5;241;43m.\u001b[39;49m\u001b[43mnew_axes\u001b[49m\u001b[43m,\u001b[49m\u001b[43m \u001b[49m\u001b[43mconcat_axis\u001b[49m\u001b[38;5;241;43m=\u001b[39;49m\u001b[38;5;28;43mself\u001b[39;49m\u001b[38;5;241;43m.\u001b[39;49m\u001b[43mbm_axis\u001b[49m\u001b[43m,\u001b[49m\u001b[43m \u001b[49m\u001b[43mcopy\u001b[49m\u001b[38;5;241;43m=\u001b[39;49m\u001b[38;5;28;43mself\u001b[39;49m\u001b[38;5;241;43m.\u001b[39;49m\u001b[43mcopy\u001b[49m\n\u001b[1;32m    686\u001b[0m \u001b[43m\u001b[49m\u001b[43m)\u001b[49m\n\u001b[1;32m    687\u001b[0m \u001b[38;5;28;01mif\u001b[39;00m \u001b[38;5;129;01mnot\u001b[39;00m \u001b[38;5;28mself\u001b[39m\u001b[38;5;241m.\u001b[39mcopy \u001b[38;5;129;01mand\u001b[39;00m \u001b[38;5;129;01mnot\u001b[39;00m using_copy_on_write():\n\u001b[1;32m    688\u001b[0m     new_data\u001b[38;5;241m.\u001b[39m_consolidate_inplace()\n",
            "File \u001b[0;32m~/networking_llm/lib/python3.10/site-packages/pandas/core/internals/concat.py:177\u001b[0m, in \u001b[0;36mconcatenate_managers\u001b[0;34m(mgrs_indexers, axes, concat_axis, copy)\u001b[0m\n\u001b[1;32m    167\u001b[0m vals \u001b[38;5;241m=\u001b[39m [ju\u001b[38;5;241m.\u001b[39mblock\u001b[38;5;241m.\u001b[39mvalues \u001b[38;5;28;01mfor\u001b[39;00m ju \u001b[38;5;129;01min\u001b[39;00m join_units]\n\u001b[1;32m    169\u001b[0m \u001b[38;5;28;01mif\u001b[39;00m \u001b[38;5;129;01mnot\u001b[39;00m blk\u001b[38;5;241m.\u001b[39mis_extension:\n\u001b[1;32m    170\u001b[0m     \u001b[38;5;66;03m# _is_uniform_join_units ensures a single dtype, so\u001b[39;00m\n\u001b[1;32m    171\u001b[0m     \u001b[38;5;66;03m#  we can use np.concatenate, which is more performant\u001b[39;00m\n\u001b[0;32m   (...)\u001b[0m\n\u001b[1;32m    175\u001b[0m     \u001b[38;5;66;03m# expected \"Union[_SupportsArray[dtype[Any]],\u001b[39;00m\n\u001b[1;32m    176\u001b[0m     \u001b[38;5;66;03m# _NestedSequence[_SupportsArray[dtype[Any]]]]\"\u001b[39;00m\n\u001b[0;32m--> 177\u001b[0m     values \u001b[38;5;241m=\u001b[39m \u001b[43mnp\u001b[49m\u001b[38;5;241;43m.\u001b[39;49m\u001b[43mconcatenate\u001b[49m\u001b[43m(\u001b[49m\u001b[43mvals\u001b[49m\u001b[43m,\u001b[49m\u001b[43m \u001b[49m\u001b[43maxis\u001b[49m\u001b[38;5;241;43m=\u001b[39;49m\u001b[38;5;241;43m1\u001b[39;49m\u001b[43m)\u001b[49m  \u001b[38;5;66;03m# type: ignore[arg-type]\u001b[39;00m\n\u001b[1;32m    178\u001b[0m \u001b[38;5;28;01melif\u001b[39;00m is_1d_only_ea_dtype(blk\u001b[38;5;241m.\u001b[39mdtype):\n\u001b[1;32m    179\u001b[0m     \u001b[38;5;66;03m# TODO(EA2D): special-casing not needed with 2D EAs\u001b[39;00m\n\u001b[1;32m    180\u001b[0m     values \u001b[38;5;241m=\u001b[39m concat_compat(vals, axis\u001b[38;5;241m=\u001b[39m\u001b[38;5;241m0\u001b[39m, ea_compat_axis\u001b[38;5;241m=\u001b[39m\u001b[38;5;28;01mTrue\u001b[39;00m)\n",
            "\u001b[0;31mKeyboardInterrupt\u001b[0m: "
          ]
        }
      ],
      "source": [
        "# Path to the cached dataset\n",
        "cache_path = os.path.expanduser(\"~/.cache/kagglehub/datasets\")\n",
        "\n",
        "data_path = os.path.join(cache_path, \"mryanm/luflow-network-intrusion-detection-data-set/versions/240\")\n",
        "\n",
        "if not os.path.exists(data_path):\n",
        "    # Download latest version\n",
        "    data_path = kagglehub.dataset_download(\"mryanm/luflow-network-intrusion-detection-data-set\")\n",
        "    \n",
        "# List to store dataframes\n",
        "df_list = []\n",
        "\n",
        "# Load and optimize each CSV\n",
        "for year in tqdm(sorted(os.listdir(data_path))):  # Sorting for consistency\n",
        "    year_path = os.path.join(data_path, year)\n",
        "    if os.path.isdir(year_path):\n",
        "        for month in sorted(os.listdir(year_path)):\n",
        "            month_path = os.path.join(year_path, month)\n",
        "            if os.path.isdir(month_path):\n",
        "                for day in sorted(os.listdir(month_path)):\n",
        "                    day_path = os.path.join(month_path, day)\n",
        "                    if os.path.isdir(day_path):\n",
        "                        for file in os.listdir(day_path):\n",
        "                            if file.endswith(\".csv\"):\n",
        "                                full_path = os.path.join(day_path, file)\n",
        "                                data = pd.read_csv(full_path)\n",
        "\n",
        "                                # Extract date info safely\n",
        "                                y, m, d = map(int, file.split(\".\")[:3])\n",
        "                                data[\"Year\"] = y\n",
        "                                data[\"Month\"] = m\n",
        "                                data[\"Day\"] = d\n",
        "\n",
        "                                # Reduce memory usage BEFORE adding to list\n",
        "                                data = reduce_mem_usage(data, verbose=False)\n",
        "                                df_list.append(data)\n",
        "\n",
        "# Final concatenation\n",
        "df = pd.concat(df_list, ignore_index=True)"
      ]
    },
    {
      "cell_type": "code",
      "execution_count": null,
      "id": "6f3b84a6",
      "metadata": {},
      "outputs": [],
      "source": [
        "df.info()"
      ]
    },
    {
      "cell_type": "code",
      "execution_count": null,
      "id": "nD5rqCmMibW5",
      "metadata": {
        "colab": {
          "base_uri": "https://localhost:8080/"
        },
        "id": "nD5rqCmMibW5",
        "outputId": "b5ae0ad7-4d77-425a-fd57-e8b30ed857af"
      },
      "outputs": [
        {
          "name": "stderr",
          "output_type": "stream",
          "text": [
            "<ipython-input-2-7f6c0953f7d5>:31: UserWarning: Creating a tensor from a list of numpy.ndarrays is extremely slow. Please consider converting the list to a single numpy.ndarray with numpy.array() before converting to a tensor. (Triggered internally at ../torch/csrc/utils/tensor_new.cpp:278.)\n",
            "  return torch.tensor(sequences, dtype=torch.float32), torch.tensor(labels, dtype=torch.float32)\n"
          ]
        }
      ],
      "source": [
        "# Load a real-world dataset (Stock Prices Example)\n",
        "# The original URL was returning a 404 error (Not Found)\n",
        "# Updated to a working URL for the AAPL stock data\n",
        "url = \"https://raw.githubusercontent.com/plotly/datasets/master/finance-charts-apple.csv\"\n",
        "df = pd.read_csv(url, parse_dates=['Date'], index_col='Date')\n",
        "\n",
        "# Rename the 'AAPL.Close' column to 'close' to match the original code\n",
        "df = df.rename(columns={'AAPL.Close': 'close'})\n",
        "\n",
        "# Select 'close' price for modeling\n",
        "data = df[['close']].values\n",
        "\n",
        "# Normalize the data\n",
        "scaler = MinMaxScaler(feature_range=(-1, 1))\n",
        "data = scaler.fit_transform(data)\n",
        "\n",
        "# Function to create sequences for RNNs\n",
        "def create_sequences(data, seq_length):\n",
        "    sequences = []\n",
        "    labels = []\n",
        "    for i in range(len(data) - seq_length):\n",
        "        sequences.append(data[i:i+seq_length])\n",
        "        labels.append(data[i+seq_length])\n",
        "    return torch.tensor(sequences, dtype=torch.float32), torch.tensor(labels, dtype=torch.float32)\n",
        "\n",
        "seq_length = 30  # Use past 30 days to predict the next day\n",
        "X, y = create_sequences(data, seq_length)\n",
        "\n",
        "# Reshape X to match PyTorch format (batch_size, sequence_length, features)\n",
        "X = X.view(X.shape[0], seq_length, 1)"
      ]
    },
    {
      "cell_type": "markdown",
      "id": "819f72bc",
      "metadata": {
        "id": "819f72bc"
      },
      "source": [
        "## Define RNN, LSTM, and GRU Models"
      ]
    },
    {
      "cell_type": "code",
      "execution_count": 3,
      "id": "931663eb",
      "metadata": {
        "id": "931663eb"
      },
      "outputs": [],
      "source": [
        "\n",
        "class RNNModel(nn.Module):\n",
        "    def __init__(self, input_size, hidden_size, output_size):\n",
        "        super(RNNModel, self).__init__()\n",
        "        self.hidden_size = hidden_size\n",
        "        self.rnn = nn.RNN(input_size, hidden_size, batch_first=True)\n",
        "        self.fc = nn.Linear(hidden_size, output_size)\n",
        "\n",
        "    def forward(self, x):\n",
        "        out, _ = self.rnn(x)\n",
        "        out = self.fc(out[:, -1, :])  # Take the last time step's output\n",
        "        return out\n",
        "\n",
        "class LSTMModel(nn.Module):\n",
        "    def __init__(self, input_size, hidden_size, output_size):\n",
        "        super(LSTMModel, self).__init__()\n",
        "        self.hidden_size = hidden_size\n",
        "        self.lstm = nn.LSTM(input_size, hidden_size, batch_first=True)\n",
        "        self.fc = nn.Linear(hidden_size, output_size)\n",
        "\n",
        "    def forward(self, x):\n",
        "        out, _ = self.lstm(x)\n",
        "        out = self.fc(out[:, -1, :])  # Take the last time step's output\n",
        "        return out\n",
        "\n",
        "class GRUModel(nn.Module):\n",
        "    def __init__(self, input_size, hidden_size, output_size):\n",
        "        super(GRUModel, self).__init__()\n",
        "        self.hidden_size = hidden_size\n",
        "        self.gru = nn.GRU(input_size, hidden_size, batch_first=True)\n",
        "        self.fc = nn.Linear(hidden_size, output_size)\n",
        "\n",
        "    def forward(self, x):\n",
        "        out, _ = self.gru(x)\n",
        "        out = self.fc(out[:, -1, :])  # Take the last time step's output\n",
        "        return out\n"
      ]
    },
    {
      "cell_type": "markdown",
      "id": "455904db",
      "metadata": {
        "id": "455904db"
      },
      "source": [
        "## Training the Models and Recording Loss"
      ]
    },
    {
      "cell_type": "code",
      "execution_count": 4,
      "id": "dff9e556",
      "metadata": {
        "colab": {
          "base_uri": "https://localhost:8080/"
        },
        "id": "dff9e556",
        "outputId": "3ebbe485-3164-4222-979e-c9ca8d9fb84d"
      },
      "outputs": [
        {
          "name": "stdout",
          "output_type": "stream",
          "text": [
            "Epoch 0, Loss: 0.2874\n",
            "Epoch 10, Loss: 0.1157\n",
            "Epoch 20, Loss: 0.0209\n",
            "Epoch 30, Loss: 0.0175\n",
            "Epoch 40, Loss: 0.0141\n",
            "Epoch 50, Loss: 0.0133\n",
            "Epoch 60, Loss: 0.0128\n",
            "Epoch 70, Loss: 0.0125\n",
            "Epoch 80, Loss: 0.0122\n",
            "Epoch 90, Loss: 0.0120\n",
            "Epoch 0, Loss: 0.2558\n",
            "Epoch 10, Loss: 0.1956\n",
            "Epoch 20, Loss: 0.1286\n",
            "Epoch 30, Loss: 0.0406\n",
            "Epoch 40, Loss: 0.0310\n",
            "Epoch 50, Loss: 0.0228\n",
            "Epoch 60, Loss: 0.0197\n",
            "Epoch 70, Loss: 0.0172\n",
            "Epoch 80, Loss: 0.0156\n",
            "Epoch 90, Loss: 0.0144\n",
            "Epoch 0, Loss: 0.2122\n",
            "Epoch 10, Loss: 0.1469\n",
            "Epoch 20, Loss: 0.0651\n",
            "Epoch 30, Loss: 0.0315\n",
            "Epoch 40, Loss: 0.0174\n",
            "Epoch 50, Loss: 0.0134\n",
            "Epoch 60, Loss: 0.0128\n",
            "Epoch 70, Loss: 0.0119\n",
            "Epoch 80, Loss: 0.0112\n",
            "Epoch 90, Loss: 0.0106\n"
          ]
        }
      ],
      "source": [
        "\n",
        "def train_model(model, X, y, epochs=100, learning_rate=0.001):\n",
        "    criterion = nn.MSELoss()\n",
        "    optimizer = torch.optim.Adam(model.parameters(), lr=learning_rate)\n",
        "    losses = []\n",
        "\n",
        "    for epoch in range(epochs):\n",
        "        optimizer.zero_grad()\n",
        "        output = model(X)\n",
        "        loss = criterion(output, y.view(-1, 1))\n",
        "        loss.backward()\n",
        "        optimizer.step()\n",
        "        losses.append(loss.item())\n",
        "\n",
        "        if epoch % 10 == 0:\n",
        "            print(f'Epoch {epoch}, Loss: {loss.item():.4f}')\n",
        "\n",
        "    return losses\n",
        "\n",
        "# Initialize models\n",
        "rnn_model = RNNModel(input_size=1, hidden_size=64, output_size=1)\n",
        "lstm_model = LSTMModel(input_size=1, hidden_size=64, output_size=1)\n",
        "gru_model = GRUModel(input_size=1, hidden_size=64, output_size=1)\n",
        "\n",
        "# Train models and record loss\n",
        "rnn_losses = train_model(rnn_model, X, y)\n",
        "lstm_losses = train_model(lstm_model, X, y)\n",
        "gru_losses = train_model(gru_model, X, y)\n"
      ]
    },
    {
      "cell_type": "markdown",
      "id": "fb1e2987",
      "metadata": {
        "id": "fb1e2987"
      },
      "source": [
        "## Visualizing the Training Loss"
      ]
    },
    {
      "cell_type": "code",
      "execution_count": 5,
      "id": "94885d6f",
      "metadata": {
        "colab": {
          "base_uri": "https://localhost:8080/",
          "height": 564
        },
        "id": "94885d6f",
        "outputId": "432a9a04-9641-4dac-b1a7-c3ff1ddcbc10"
      },
      "outputs": [
        {
          "data": {
            "image/png": "[encoded data removed]",
            "text/plain": [
              "<Figure size 1000x600 with 1 Axes>"
            ]
          },
          "metadata": {},
          "output_type": "display_data"
        }
      ],
      "source": [
        "\n",
        "# Plot Training Loss Curves\n",
        "plt.figure(figsize=(10,6))\n",
        "plt.plot(rnn_losses, label='RNN Loss', linestyle='dashed', marker='o')\n",
        "plt.plot(lstm_losses, label='LSTM Loss', linestyle='dotted', marker='s')\n",
        "plt.plot(gru_losses, label='GRU Loss', linestyle='solid', marker='x')\n",
        "\n",
        "plt.xlabel('Epochs')\n",
        "plt.ylabel('Loss')\n",
        "plt.title('Training Loss Comparison: RNN vs LSTM vs GRU')\n",
        "plt.legend()\n",
        "plt.grid(True)\n",
        "plt.show()\n"
      ]
    },
    {
      "cell_type": "markdown",
      "id": "46781018",
      "metadata": {
        "id": "46781018"
      },
      "source": [
        "## Testing the Models on New Data"
      ]
    },
    {
      "cell_type": "code",
      "execution_count": 6,
      "id": "e854c9af",
      "metadata": {
        "colab": {
          "base_uri": "https://localhost:8080/"
        },
        "id": "e854c9af",
        "outputId": "e5006654-5a8e-47f6-9c74-7374a50a92ba"
      },
      "outputs": [
        {
          "name": "stdout",
          "output_type": "stream",
          "text": [
            "RNN Prediction: 133.19913\n",
            "LSTM Prediction: 132.99136\n",
            "GRU Prediction: 134.18974\n"
          ]
        }
      ],
      "source": [
        "\n",
        "def predict(model, input_seq):\n",
        "    model.eval()\n",
        "    input_seq = torch.tensor(input_seq, dtype=torch.float32).view(1, seq_length, 1)\n",
        "    with torch.no_grad():\n",
        "        prediction = model(input_seq)\n",
        "    return scaler.inverse_transform(prediction.numpy().reshape(-1, 1))[0][0]\n",
        "\n",
        "# Example Test Case (Predict Next Day's Closing Price)\n",
        "test_seq = data[-seq_length:].reshape(-1, 1)  # Use the last 30 days\n",
        "print(\"RNN Prediction:\", predict(rnn_model, test_seq))\n",
        "print(\"LSTM Prediction:\", predict(lstm_model, test_seq))\n",
        "print(\"GRU Prediction:\", predict(gru_model, test_seq))\n"
      ]
    },
    {
      "cell_type": "markdown",
      "id": "7f41d3d6",
      "metadata": {
        "id": "7f41d3d6"
      },
      "source": [
        "## Summary and Insights\n",
        "\n",
        "- The loss curves indicate how well each model trains over time.\n",
        "- **LSTM and GRU** generally perform better than RNN on time-series data.\n",
        "- **LSTM retains long-term memory well,** making it good for stock price prediction.\n",
        "- **GRU is faster than LSTM** and performs similarly.\n",
        "- **RNN struggles** with long-term dependencies due to vanishing gradients.\n",
        "- The predictions indicate how each model forecasts stock prices based on historical data."
      ]
    }
  ],
  "metadata": {
    "colab": {
      "provenance": []
    },
    "kernelspec": {
      "display_name": "networking_llm",
      "language": "python",
      "name": "python3"
    },
    "language_info": {
      "codemirror_mode": {
        "name": "ipython",
        "version": 3
      },
      "file_extension": ".py",
      "mimetype": "text/x-python",
      "name": "python",
      "nbconvert_exporter": "python",
      "pygments_lexer": "ipython3",
      "version": "3.10.12"
    }
  },
  "nbformat": 4,
  "nbformat_minor": 5
}
